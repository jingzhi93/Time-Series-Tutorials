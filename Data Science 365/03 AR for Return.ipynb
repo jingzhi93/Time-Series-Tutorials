{
 "cells": [
  {
   "cell_type": "code",
   "execution_count": 82,
   "metadata": {},
   "outputs": [],
   "source": [
    "import pandas as pd\n",
    "import numpy as np\n",
    "import matplotlib.pyplot as plt\n",
    "import statsmodels.graphics.tsaplots as sgt\n",
    "import statsmodels.tsa.stattools as sts\n",
    "from statsmodels.tsa.seasonal import seasonal_decompose\n",
    "from statsmodels.tsa.arima.model import ARIMA\n",
    "from scipy.stats.distributions import chi2\n",
    "from scipy.stats import chisquare\n",
    "from statsmodels.stats.proportion import proportions_chisquare\n",
    "import seaborn as sns"
   ]
  },
  {
   "cell_type": "code",
   "execution_count": 83,
   "metadata": {},
   "outputs": [],
   "source": [
    "raw = pd.read_csv(\"Index2018.csv\")\n",
    "df_comp = raw.copy()\n",
    "df_comp.date = pd.to_datetime(raw.date, dayfirst=True)\n",
    "df_comp.set_index(\"date\", inplace=True)\n",
    "df_comp = df_comp.asfreq('b')\n",
    "df_comp = df_comp.fillna(method=\"ffill\")"
   ]
  },
  {
   "cell_type": "code",
   "execution_count": 84,
   "metadata": {},
   "outputs": [],
   "source": [
    "df_comp['market_value'] = df_comp.ftse"
   ]
  },
  {
   "cell_type": "code",
   "execution_count": 85,
   "metadata": {},
   "outputs": [],
   "source": [
    "del df_comp['spx']\n",
    "del df_comp['dax']\n",
    "del df_comp['ftse']\n",
    "del df_comp['nikkei']\n",
    "\n",
    "size = int(len(df_comp)*0.8)\n",
    "df, df_test = df_comp.iloc[:size], df_comp.iloc[size:]"
   ]
  },
  {
   "cell_type": "markdown",
   "metadata": {},
   "source": [
    "## ADF Test for stationarity"
   ]
  },
  {
   "cell_type": "code",
   "execution_count": 86,
   "metadata": {},
   "outputs": [
    {
     "name": "stdout",
     "output_type": "stream",
     "text": [
      "T-statistics: -1.9041551418836873\n",
      "P-value: 0.330108932770283\n",
      "Number of lags used in the regression when determine the t-statistics: 6\n",
      "T-statistics level of significance: {'1%': -3.4316548765428174, '5%': -2.8621166146845334, '10%': -2.5670769326348926}\n"
     ]
    }
   ],
   "source": [
    "results = sts.adfuller(df.market_value)\n",
    "print(f\"T-statistics: {results[0]}\")\n",
    "print(f\"P-value: {results[1]}\")\n",
    "print(f\"Number of lags used in the regression when determine the t-statistics: {results[2]}\")\n",
    "print(f\"T-statistics level of significance: {results[4]}\")"
   ]
  },
  {
   "cell_type": "markdown",
   "metadata": {},
   "source": [
    "Fail to reject null hypothesis since the P-value $>0.05$ (accept $H_0$, the data is non-stationary)"
   ]
  },
  {
   "cell_type": "markdown",
   "metadata": {},
   "source": [
    "## Using Returns"
   ]
  },
  {
   "cell_type": "code",
   "execution_count": 87,
   "metadata": {},
   "outputs": [
    {
     "name": "stderr",
     "output_type": "stream",
     "text": [
      "<ipython-input-87-46df085ba4c4>:1: SettingWithCopyWarning: \n",
      "A value is trying to be set on a copy of a slice from a DataFrame.\n",
      "Try using .loc[row_indexer,col_indexer] = value instead\n",
      "\n",
      "See the caveats in the documentation: https://pandas.pydata.org/pandas-docs/stable/user_guide/indexing.html#returning-a-view-versus-a-copy\n",
      "  df['return'] = df.market_value.pct_change(1)\n"
     ]
    }
   ],
   "source": [
    "df['return'] = df.market_value.pct_change(1)"
   ]
  },
  {
   "cell_type": "code",
   "execution_count": 88,
   "metadata": {},
   "outputs": [
    {
     "name": "stdout",
     "output_type": "stream",
     "text": [
      "T-statistics: -12.770265719497003\n",
      "P-value: 7.798058336046944e-24\n",
      "Number of lags used in the regression when determine the t-statistics: 32\n",
      "T-statistics level of significance: {'1%': -3.431661944885779, '5%': -2.8621197374408225, '10%': -2.5670785949998973}\n"
     ]
    }
   ],
   "source": [
    "results = sts.adfuller(df['return'].dropna())\n",
    "print(f\"T-statistics: {results[0]}\")\n",
    "print(f\"P-value: {results[1]}\")\n",
    "print(f\"Number of lags used in the regression when determine the t-statistics: {results[2]}\")\n",
    "print(f\"T-statistics level of significance: {results[4]}\")"
   ]
  },
  {
   "cell_type": "markdown",
   "metadata": {},
   "source": [
    "## ACF and PACF Plot"
   ]
  },
  {
   "cell_type": "code",
   "execution_count": 89,
   "metadata": {},
   "outputs": [
    {
     "data": {
      "image/png": "[encoded data removed]",
      "text/plain": [
       "<Figure size 432x288 with 1 Axes>"
      ]
     },
     "metadata": {
      "needs_background": "light"
     },
     "output_type": "display_data"
    }
   ],
   "source": [
    "sgt.plot_acf(df['return'].dropna(), lags=40, zero=False)\n",
    "plt.title(\"ACF Plot for Returns\")\n",
    "plt.show()"
   ]
  },
  {
   "cell_type": "code",
   "execution_count": 90,
   "metadata": {},
   "outputs": [
    {
     "data": {
      "image/png": "[encoded data removed]",
      "text/plain": [
       "<Figure size 432x288 with 1 Axes>"
      ]
     },
     "metadata": {
      "needs_background": "light"
     },
     "output_type": "display_data"
    }
   ],
   "source": [
    "sgt.plot_pacf(df['return'].dropna(), lags=40, zero=False)\n",
    "plt.title(\"PACF Plot for Returns\")\n",
    "plt.show()"
   ]
  },
  {
   "cell_type": "markdown",
   "metadata": {},
   "source": [
    "## Fitting AR(1) on the Returns"
   ]
  },
  {
   "cell_type": "code",
   "execution_count": 91,
   "metadata": {},
   "outputs": [],
   "source": [
    "returns = df['return'].dropna().astype(float)"
   ]
  },
  {
   "cell_type": "code",
   "execution_count": 92,
   "metadata": {},
   "outputs": [
    {
     "data": {
      "text/html": [
       "<table class=\"simpletable\">\n",
       "<caption>SARIMAX Results</caption>\n",
       "<tr>\n",
       "  <th>Dep. Variable:</th>        <td>return</td>      <th>  No. Observations:  </th>    <td>5020</td>   \n",
       "</tr>\n",
       "<tr>\n",
       "  <th>Model:</th>            <td>ARIMA(1, 0, 0)</td>  <th>  Log Likelihood     </th>  <td>15188.206</td>\n",
       "</tr>\n",
       "<tr>\n",
       "  <th>Date:</th>            <td>Wed, 18 Nov 2020</td> <th>  AIC                </th> <td>-30370.411</td>\n",
       "</tr>\n",
       "<tr>\n",
       "  <th>Time:</th>                <td>22:23:41</td>     <th>  BIC                </th> <td>-30350.848</td>\n",
       "</tr>\n",
       "<tr>\n",
       "  <th>Sample:</th>             <td>01-10-1994</td>    <th>  HQIC               </th> <td>-30363.556</td>\n",
       "</tr>\n",
       "<tr>\n",
       "  <th></th>                   <td>- 04-05-2013</td>   <th>                     </th>      <td> </td>    \n",
       "</tr>\n",
       "<tr>\n",
       "  <th>Covariance Type:</th>        <td>opg</td>       <th>                     </th>      <td> </td>    \n",
       "</tr>\n",
       "</table>\n",
       "<table class=\"simpletable\">\n",
       "<tr>\n",
       "     <td></td>       <th>coef</th>     <th>std err</th>      <th>z</th>      <th>P>|z|</th>  <th>[0.025</th>    <th>0.975]</th>  \n",
       "</tr>\n",
       "<tr>\n",
       "  <th>const</th>  <td>    0.0002</td> <td>    0.000</td> <td>    1.139</td> <td> 0.255</td> <td>   -0.000</td> <td>    0.001</td>\n",
       "</tr>\n",
       "<tr>\n",
       "  <th>ar.L1</th>  <td>   -0.0230</td> <td>    0.009</td> <td>   -2.698</td> <td> 0.007</td> <td>   -0.040</td> <td>   -0.006</td>\n",
       "</tr>\n",
       "<tr>\n",
       "  <th>sigma2</th> <td>    0.0001</td> <td> 1.38e-06</td> <td>  100.100</td> <td> 0.000</td> <td>    0.000</td> <td>    0.000</td>\n",
       "</tr>\n",
       "</table>\n",
       "<table class=\"simpletable\">\n",
       "<tr>\n",
       "  <th>Ljung-Box (L1) (Q):</th>     <td>0.01</td> <th>  Jarque-Bera (JB):  </th> <td>7872.68</td>\n",
       "</tr>\n",
       "<tr>\n",
       "  <th>Prob(Q):</th>                <td>0.93</td> <th>  Prob(JB):          </th>  <td>0.00</td>  \n",
       "</tr>\n",
       "<tr>\n",
       "  <th>Heteroskedasticity (H):</th> <td>2.04</td> <th>  Skew:              </th>  <td>-0.03</td> \n",
       "</tr>\n",
       "<tr>\n",
       "  <th>Prob(H) (two-sided):</th>    <td>0.00</td> <th>  Kurtosis:          </th>  <td>9.13</td>  \n",
       "</tr>\n",
       "</table><br/><br/>Warnings:<br/>[1] Covariance matrix calculated using the outer product of gradients (complex-step)."
      ],
      "text/plain": [
       "<class 'statsmodels.iolib.summary.Summary'>\n",
       "\"\"\"\n",
       "                               SARIMAX Results                                \n",
       "==============================================================================\n",
       "Dep. Variable:                 return   No. Observations:                 5020\n",
       "Model:                 ARIMA(1, 0, 0)   Log Likelihood               15188.206\n",
       "Date:                Wed, 18 Nov 2020   AIC                         -30370.411\n",
       "Time:                        22:23:41   BIC                         -30350.848\n",
       "Sample:                    01-10-1994   HQIC                        -30363.556\n",
       "                         - 04-05-2013                                         \n",
       "Covariance Type:                  opg                                         \n",
       "==============================================================================\n",
       "                 coef    std err          z      P>|z|      [0.025      0.975]\n",
       "------------------------------------------------------------------------------\n",
       "const          0.0002      0.000      1.139      0.255      -0.000       0.001\n",
       "ar.L1         -0.0230      0.009     -2.698      0.007      -0.040      -0.006\n",
       "sigma2         0.0001   1.38e-06    100.100      0.000       0.000       0.000\n",
       "===================================================================================\n",
       "Ljung-Box (L1) (Q):                   0.01   Jarque-Bera (JB):              7872.68\n",
       "Prob(Q):                              0.93   Prob(JB):                         0.00\n",
       "Heteroskedasticity (H):               2.04   Skew:                            -0.03\n",
       "Prob(H) (two-sided):                  0.00   Kurtosis:                         9.13\n",
       "===================================================================================\n",
       "\n",
       "Warnings:\n",
       "[1] Covariance matrix calculated using the outer product of gradients (complex-step).\n",
       "\"\"\""
      ]
     },
     "execution_count": 92,
     "metadata": {},
     "output_type": "execute_result"
    }
   ],
   "source": [
    "model_ar_1 = ARIMA(returns, order = (1,0,0))\n",
    "result_1 = model_ar_1.fit()\n",
    "result_1.summary()"
   ]
  },
  {
   "cell_type": "markdown",
   "metadata": {},
   "source": [
    "Both p-values are $>0.05$ thus they are non-significance to 0. This model has no predictive power.\n",
    "\n",
    "The more easily yesterday's price is affected by higher lags, the more inaccurate its coefficient becomes. This is due to the compounding error effects."
   ]
  },
  {
   "cell_type": "markdown",
   "metadata": {},
   "source": [
    "## Higher-lag AR Models for Returns"
   ]
  },
  {
   "cell_type": "markdown",
   "metadata": {},
   "source": [
    "Runs until LLR $>= 0.005$. <br>\n",
    "Lower LLR value (<=0.05) means that the results of model 1 and model 2 is significance different to each other. <br>\n",
    "On the other hand, higher LLR (>0.05) means that model is insignificance to each other."
   ]
  },
  {
   "cell_type": "code",
   "execution_count": 93,
   "metadata": {},
   "outputs": [],
   "source": [
    "def LLR_test(mod_1, mod_2, DF=1):\n",
    "    L1 = mod_1.fit().llf\n",
    "    L2 = mod_2.fit().llf\n",
    "    LR = (2*(L2-L1))\n",
    "    p = chi2.sf(LR, DF).round(3)\n",
    "    return p"
   ]
  },
  {
   "cell_type": "code",
   "execution_count": 94,
   "metadata": {},
   "outputs": [
    {
     "name": "stdout",
     "output_type": "stream",
     "text": [
      "                               SARIMAX Results                                \n",
      "==============================================================================\n",
      "Dep. Variable:                 return   No. Observations:                 5020\n",
      "Model:                 ARIMA(2, 0, 0)   Log Likelihood               15194.499\n",
      "Date:                Wed, 18 Nov 2020   AIC                         -30380.997\n",
      "Time:                        22:23:42   BIC                         -30354.912\n",
      "Sample:                    01-10-1994   HQIC                        -30371.857\n",
      "                         - 04-05-2013                                         \n",
      "Covariance Type:                  opg                                         \n",
      "==============================================================================\n",
      "                 coef    std err          z      P>|z|      [0.025      0.975]\n",
      "------------------------------------------------------------------------------\n",
      "const          0.0002      0.000      1.188      0.235      -0.000       0.000\n",
      "ar.L1         -0.0242      0.009     -2.802      0.005      -0.041      -0.007\n",
      "ar.L2         -0.0501      0.008     -6.373      0.000      -0.065      -0.035\n",
      "sigma2         0.0001   1.38e-06     99.586      0.000       0.000       0.000\n",
      "===================================================================================\n",
      "Ljung-Box (L1) (Q):                   0.08   Jarque-Bera (JB):              7730.07\n",
      "Prob(Q):                              0.77   Prob(JB):                         0.00\n",
      "Heteroskedasticity (H):               2.03   Skew:                            -0.07\n",
      "Prob(H) (two-sided):                  0.00   Kurtosis:                         9.08\n",
      "===================================================================================\n",
      "\n",
      "Warnings:\n",
      "[1] Covariance matrix calculated using the outer product of gradients (complex-step).\n",
      "\n",
      "LLR Test P-value = 0.0\n"
     ]
    }
   ],
   "source": [
    "model_ar_2 = ARIMA(returns, order = (2,0,0))\n",
    "result_2 = model_ar_2.fit()\n",
    "print(result_2.summary())\n",
    "print(\"\\nLLR Test P-value = \" + str(LLR_test(model_ar_1, model_ar_2)))"
   ]
  },
  {
   "cell_type": "code",
   "execution_count": 95,
   "metadata": {},
   "outputs": [
    {
     "name": "stdout",
     "output_type": "stream",
     "text": [
      "####################Comparing AR models with lag of 0 & 1####################\n",
      "                               SARIMAX Results                                \n",
      "==============================================================================\n",
      "Dep. Variable:                 return   No. Observations:                 5020\n",
      "Model:                 ARIMA(1, 0, 0)   Log Likelihood               15188.206\n",
      "Date:                Wed, 18 Nov 2020   AIC                         -30370.411\n",
      "Time:                        22:23:44   BIC                         -30350.848\n",
      "Sample:                    01-10-1994   HQIC                        -30363.556\n",
      "                         - 04-05-2013                                         \n",
      "Covariance Type:                  opg                                         \n",
      "==============================================================================\n",
      "                 coef    std err          z      P>|z|      [0.025      0.975]\n",
      "------------------------------------------------------------------------------\n",
      "const          0.0002      0.000      1.139      0.255      -0.000       0.001\n",
      "ar.L1         -0.0230      0.009     -2.698      0.007      -0.040      -0.006\n",
      "sigma2         0.0001   1.38e-06    100.100      0.000       0.000       0.000\n",
      "===================================================================================\n",
      "Ljung-Box (L1) (Q):                   0.01   Jarque-Bera (JB):              7872.68\n",
      "Prob(Q):                              0.93   Prob(JB):                         0.00\n",
      "Heteroskedasticity (H):               2.04   Skew:                            -0.03\n",
      "Prob(H) (two-sided):                  0.00   Kurtosis:                         9.13\n",
      "===================================================================================\n",
      "\n",
      "Warnings:\n",
      "[1] Covariance matrix calculated using the outer product of gradients (complex-step).\n"
     ]
    },
    {
     "name": "stderr",
     "output_type": "stream",
     "text": [
      "D:\\anaconda3\\envs\\time-series-tutorials\\lib\\site-packages\\statsmodels\\base\\model.py:566: ConvergenceWarning: Maximum Likelihood optimization failed to converge. Check mle_retvals\n",
      "  warnings.warn(\"Maximum Likelihood optimization failed to \"\n"
     ]
    },
    {
     "name": "stdout",
     "output_type": "stream",
     "text": [
      "\n",
      "LLR Test P-value = 0.103\n",
      "################################################################################\n",
      "####################Comparing AR models with lag of 1 & 2####################\n",
      "                               SARIMAX Results                                \n",
      "==============================================================================\n",
      "Dep. Variable:                 return   No. Observations:                 5020\n",
      "Model:                 ARIMA(2, 0, 0)   Log Likelihood               15194.499\n",
      "Date:                Wed, 18 Nov 2020   AIC                         -30380.997\n",
      "Time:                        22:23:47   BIC                         -30354.912\n",
      "Sample:                    01-10-1994   HQIC                        -30371.857\n",
      "                         - 04-05-2013                                         \n",
      "Covariance Type:                  opg                                         \n",
      "==============================================================================\n",
      "                 coef    std err          z      P>|z|      [0.025      0.975]\n",
      "------------------------------------------------------------------------------\n",
      "const          0.0002      0.000      1.188      0.235      -0.000       0.000\n",
      "ar.L1         -0.0242      0.009     -2.802      0.005      -0.041      -0.007\n",
      "ar.L2         -0.0501      0.008     -6.373      0.000      -0.065      -0.035\n",
      "sigma2         0.0001   1.38e-06     99.586      0.000       0.000       0.000\n",
      "===================================================================================\n",
      "Ljung-Box (L1) (Q):                   0.08   Jarque-Bera (JB):              7730.07\n",
      "Prob(Q):                              0.77   Prob(JB):                         0.00\n",
      "Heteroskedasticity (H):               2.03   Skew:                            -0.07\n",
      "Prob(H) (two-sided):                  0.00   Kurtosis:                         9.08\n",
      "===================================================================================\n",
      "\n",
      "Warnings:\n",
      "[1] Covariance matrix calculated using the outer product of gradients (complex-step).\n",
      "\n",
      "LLR Test P-value = 0.0\n",
      "################################################################################\n",
      "####################Comparing AR models with lag of 2 & 3####################\n",
      "                               SARIMAX Results                                \n",
      "==============================================================================\n",
      "Dep. Variable:                 return   No. Observations:                 5020\n",
      "Model:                 ARIMA(3, 0, 0)   Log Likelihood               15211.216\n",
      "Date:                Wed, 18 Nov 2020   AIC                         -30412.432\n",
      "Time:                        22:23:50   BIC                         -30379.826\n",
      "Sample:                    01-10-1994   HQIC                        -30401.006\n",
      "                         - 04-05-2013                                         \n",
      "Covariance Type:                  opg                                         \n",
      "==============================================================================\n",
      "                 coef    std err          z      P>|z|      [0.025      0.975]\n",
      "------------------------------------------------------------------------------\n",
      "const          0.0002      0.000      1.262      0.207      -0.000       0.000\n",
      "ar.L1         -0.0285      0.009     -3.219      0.001      -0.046      -0.011\n",
      "ar.L2         -0.0521      0.008     -6.689      0.000      -0.067      -0.037\n",
      "ar.L3         -0.0815      0.008    -10.194      0.000      -0.097      -0.066\n",
      "sigma2         0.0001   1.45e-06     94.507      0.000       0.000       0.000\n",
      "===================================================================================\n",
      "Ljung-Box (L1) (Q):                   0.08   Jarque-Bera (JB):              6857.82\n",
      "Prob(Q):                              0.78   Prob(JB):                         0.00\n",
      "Heteroskedasticity (H):               2.02   Skew:                            -0.15\n",
      "Prob(H) (two-sided):                  0.00   Kurtosis:                         8.72\n",
      "===================================================================================\n",
      "\n",
      "Warnings:\n",
      "[1] Covariance matrix calculated using the outer product of gradients (complex-step).\n",
      "\n",
      "LLR Test P-value = 0.0\n",
      "################################################################################\n",
      "####################Comparing AR models with lag of 3 & 4####################\n",
      "                               SARIMAX Results                                \n",
      "==============================================================================\n",
      "Dep. Variable:                 return   No. Observations:                 5020\n",
      "Model:                 ARIMA(4, 0, 0)   Log Likelihood               15216.624\n",
      "Date:                Wed, 18 Nov 2020   AIC                         -30421.247\n",
      "Time:                        22:23:54   BIC                         -30382.120\n",
      "Sample:                    01-10-1994   HQIC                        -30407.537\n",
      "                         - 04-05-2013                                         \n",
      "Covariance Type:                  opg                                         \n",
      "==============================================================================\n",
      "                 coef    std err          z      P>|z|      [0.025      0.975]\n",
      "------------------------------------------------------------------------------\n",
      "const          0.0002      0.000      1.198      0.231      -0.000       0.000\n",
      "ar.L1         -0.0248      0.009     -2.799      0.005      -0.042      -0.007\n",
      "ar.L2         -0.0497      0.008     -6.341      0.000      -0.065      -0.034\n",
      "ar.L3         -0.0802      0.008    -10.000      0.000      -0.096      -0.064\n",
      "ar.L4          0.0464      0.008      5.651      0.000       0.030       0.063\n",
      "sigma2         0.0001   1.47e-06     92.773      0.000       0.000       0.000\n",
      "===================================================================================\n",
      "Ljung-Box (L1) (Q):                   0.05   Jarque-Bera (JB):              6578.61\n",
      "Prob(Q):                              0.83   Prob(JB):                         0.00\n",
      "Heteroskedasticity (H):               2.00   Skew:                            -0.12\n",
      "Prob(H) (two-sided):                  0.00   Kurtosis:                         8.60\n",
      "===================================================================================\n",
      "\n",
      "Warnings:\n",
      "[1] Covariance matrix calculated using the outer product of gradients (complex-step).\n",
      "\n",
      "LLR Test P-value = 0.001\n",
      "################################################################################\n",
      "####################Comparing AR models with lag of 4 & 5####################\n",
      "                               SARIMAX Results                                \n",
      "==============================================================================\n",
      "Dep. Variable:                 return   No. Observations:                 5020\n",
      "Model:                 ARIMA(5, 0, 0)   Log Likelihood               15225.564\n",
      "Date:                Wed, 18 Nov 2020   AIC                         -30437.129\n",
      "Time:                        22:23:58   BIC                         -30391.480\n",
      "Sample:                    01-10-1994   HQIC                        -30421.133\n",
      "                         - 04-05-2013                                         \n",
      "Covariance Type:                  opg                                         \n",
      "==============================================================================\n",
      "                 coef    std err          z      P>|z|      [0.025      0.975]\n",
      "------------------------------------------------------------------------------\n",
      "const          0.0002      0.000      1.259      0.208      -0.000       0.000\n",
      "ar.L1         -0.0219      0.009     -2.417      0.016      -0.040      -0.004\n",
      "ar.L2         -0.0543      0.008     -6.815      0.000      -0.070      -0.039\n",
      "ar.L3         -0.0830      0.008    -10.396      0.000      -0.099      -0.067\n",
      "ar.L4          0.0450      0.008      5.440      0.000       0.029       0.061\n",
      "ar.L5         -0.0597      0.008     -7.472      0.000      -0.075      -0.044\n",
      "sigma2         0.0001   1.47e-06     92.520      0.000       0.000       0.000\n",
      "===================================================================================\n",
      "Ljung-Box (L1) (Q):                   0.03   Jarque-Bera (JB):              6398.18\n",
      "Prob(Q):                              0.85   Prob(JB):                         0.00\n",
      "Heteroskedasticity (H):               2.00   Skew:                            -0.17\n",
      "Prob(H) (two-sided):                  0.00   Kurtosis:                         8.52\n",
      "===================================================================================\n",
      "\n",
      "Warnings:\n",
      "[1] Covariance matrix calculated using the outer product of gradients (complex-step).\n",
      "\n",
      "LLR Test P-value = 0.0\n",
      "################################################################################\n",
      "####################Comparing AR models with lag of 5 & 6####################\n",
      "                               SARIMAX Results                                \n",
      "==============================================================================\n",
      "Dep. Variable:                 return   No. Observations:                 5020\n",
      "Model:                 ARIMA(6, 0, 0)   Log Likelihood               15231.009\n",
      "Date:                Wed, 18 Nov 2020   AIC                         -30446.018\n",
      "Time:                        22:24:02   BIC                         -30393.849\n",
      "Sample:                    01-10-1994   HQIC                        -30427.737\n",
      "                         - 04-05-2013                                         \n",
      "Covariance Type:                  opg                                         \n",
      "==============================================================================\n",
      "                 coef    std err          z      P>|z|      [0.025      0.975]\n",
      "------------------------------------------------------------------------------\n",
      "const          0.0002      0.000      1.305      0.192   -9.36e-05       0.000\n",
      "ar.L1         -0.0247      0.009     -2.662      0.008      -0.043      -0.007\n",
      "ar.L2         -0.0522      0.008     -6.493      0.000      -0.068      -0.036\n",
      "ar.L3         -0.0869      0.008    -10.841      0.000      -0.103      -0.071\n",
      "ar.L4          0.0425      0.008      5.143      0.000       0.026       0.059\n",
      "ar.L5         -0.0607      0.008     -7.569      0.000      -0.076      -0.045\n",
      "ar.L6         -0.0466      0.009     -5.220      0.000      -0.064      -0.029\n",
      "sigma2         0.0001   1.47e-06     92.507      0.000       0.000       0.000\n",
      "===================================================================================\n",
      "Ljung-Box (L1) (Q):                   0.00   Jarque-Bera (JB):              6486.61\n",
      "Prob(Q):                              0.96   Prob(JB):                         0.00\n",
      "Heteroskedasticity (H):               2.00   Skew:                            -0.20\n",
      "Prob(H) (two-sided):                  0.00   Kurtosis:                         8.55\n",
      "===================================================================================\n",
      "\n",
      "Warnings:\n",
      "[1] Covariance matrix calculated using the outer product of gradients (complex-step).\n",
      "\n",
      "LLR Test P-value = 0.001\n",
      "################################################################################\n",
      "####################Comparing AR models with lag of 6 & 7####################\n",
      "                               SARIMAX Results                                \n",
      "==============================================================================\n",
      "Dep. Variable:                 return   No. Observations:                 5020\n",
      "Model:                 ARIMA(7, 0, 0)   Log Likelihood               15231.307\n",
      "Date:                Wed, 18 Nov 2020   AIC                         -30444.613\n",
      "Time:                        22:24:11   BIC                         -30385.923\n",
      "Sample:                    01-10-1994   HQIC                        -30424.047\n",
      "                         - 04-05-2013                                         \n",
      "Covariance Type:                  opg                                         \n",
      "==============================================================================\n",
      "                 coef    std err          z      P>|z|      [0.025      0.975]\n",
      "------------------------------------------------------------------------------\n",
      "const          0.0002      0.000      1.285      0.199   -9.79e-05       0.000\n",
      "ar.L1         -0.0242      0.009     -2.603      0.009      -0.042      -0.006\n",
      "ar.L2         -0.0517      0.008     -6.379      0.000      -0.068      -0.036\n",
      "ar.L3         -0.0873      0.008    -10.706      0.000      -0.103      -0.071\n",
      "ar.L4          0.0436      0.008      5.211      0.000       0.027       0.060\n",
      "ar.L5         -0.0600      0.008     -7.452      0.000      -0.076      -0.044\n",
      "ar.L6         -0.0463      0.009     -5.172      0.000      -0.064      -0.029\n",
      "ar.L7          0.0109      0.009      1.206      0.228      -0.007       0.029\n",
      "sigma2         0.0001   1.48e-06     91.769      0.000       0.000       0.000\n",
      "===================================================================================\n",
      "Ljung-Box (L1) (Q):                   0.00   Jarque-Bera (JB):              6446.64\n",
      "Prob(Q):                              1.00   Prob(JB):                         0.00\n",
      "Heteroskedasticity (H):               2.00   Skew:                            -0.19\n",
      "Prob(H) (two-sided):                  0.00   Kurtosis:                         8.54\n",
      "===================================================================================\n",
      "\n",
      "Warnings:\n",
      "[1] Covariance matrix calculated using the outer product of gradients (complex-step).\n",
      "\n",
      "LLR Test P-value = 0.44\n",
      "################################################################################\n",
      "####################Comparing AR models with lag of 7 & 8####################\n",
      "                               SARIMAX Results                                \n",
      "==============================================================================\n",
      "Dep. Variable:                 return   No. Observations:                 5020\n",
      "Model:                 ARIMA(8, 0, 0)   Log Likelihood               15232.354\n",
      "Date:                Wed, 18 Nov 2020   AIC                         -30444.708\n",
      "Time:                        22:24:26   BIC                         -30379.496\n",
      "Sample:                    01-10-1994   HQIC                        -30421.857\n",
      "                         - 04-05-2013                                         \n",
      "Covariance Type:                  opg                                         \n",
      "==============================================================================\n",
      "                 coef    std err          z      P>|z|      [0.025      0.975]\n",
      "------------------------------------------------------------------------------\n",
      "const          0.0002      0.000      1.249      0.212      -0.000       0.000\n",
      "ar.L1         -0.0246      0.009     -2.624      0.009      -0.043      -0.006\n",
      "ar.L2         -0.0508      0.008     -6.257      0.000      -0.067      -0.035\n",
      "ar.L3         -0.0862      0.008    -10.462      0.000      -0.102      -0.070\n",
      "ar.L4          0.0427      0.008      5.096      0.000       0.026       0.059\n",
      "ar.L5         -0.0580      0.008     -7.064      0.000      -0.074      -0.042\n",
      "ar.L6         -0.0451      0.009     -5.028      0.000      -0.063      -0.028\n",
      "ar.L7          0.0114      0.009      1.261      0.207      -0.006       0.029\n",
      "ar.L8          0.0204      0.009      2.154      0.031       0.002       0.039\n",
      "sigma2         0.0001   1.48e-06     91.774      0.000       0.000       0.000\n",
      "===================================================================================\n",
      "Ljung-Box (L1) (Q):                   0.00   Jarque-Bera (JB):              6432.97\n",
      "Prob(Q):                              0.98   Prob(JB):                         0.00\n",
      "Heteroskedasticity (H):               2.00   Skew:                            -0.18\n",
      "Prob(H) (two-sided):                  0.00   Kurtosis:                         8.53\n",
      "===================================================================================\n",
      "\n",
      "Warnings:\n",
      "[1] Covariance matrix calculated using the outer product of gradients (complex-step).\n",
      "\n",
      "LLR Test P-value = 0.148\n",
      "################################################################################\n",
      "####################Comparing AR models with lag of 8 & 9####################\n",
      "                               SARIMAX Results                                \n",
      "==============================================================================\n",
      "Dep. Variable:                 return   No. Observations:                 5020\n",
      "Model:                 ARIMA(9, 0, 0)   Log Likelihood               15232.364\n",
      "Date:                Wed, 18 Nov 2020   AIC                         -30442.727\n",
      "Time:                        22:24:43   BIC                         -30370.994\n",
      "Sample:                    01-10-1994   HQIC                        -30417.591\n",
      "                         - 04-05-2013                                         \n",
      "Covariance Type:                  opg                                         \n",
      "==============================================================================\n",
      "                 coef    std err          z      P>|z|      [0.025      0.975]\n",
      "------------------------------------------------------------------------------\n",
      "const          0.0002      0.000      1.236      0.216      -0.000       0.000\n",
      "ar.L1         -0.0245      0.009     -2.616      0.009      -0.043      -0.006\n",
      "ar.L2         -0.0507      0.008     -6.224      0.000      -0.067      -0.035\n",
      "ar.L3         -0.0863      0.008    -10.475      0.000      -0.102      -0.070\n",
      "ar.L4          0.0427      0.008      5.084      0.000       0.026       0.059\n",
      "ar.L5         -0.0580      0.008     -6.951      0.000      -0.074      -0.042\n",
      "ar.L6         -0.0453      0.009     -5.002      0.000      -0.063      -0.028\n",
      "ar.L7          0.0113      0.009      1.228      0.219      -0.007       0.029\n",
      "ar.L8          0.0204      0.009      2.149      0.032       0.002       0.039\n",
      "ar.L9         -0.0020      0.009     -0.232      0.816      -0.019       0.015\n",
      "sigma2         0.0001   1.49e-06     90.905      0.000       0.000       0.000\n",
      "===================================================================================\n",
      "Ljung-Box (L1) (Q):                   0.00   Jarque-Bera (JB):              6444.59\n",
      "Prob(Q):                              0.98   Prob(JB):                         0.00\n",
      "Heteroskedasticity (H):               2.00   Skew:                            -0.18\n",
      "Prob(H) (two-sided):                  0.00   Kurtosis:                         8.54\n",
      "===================================================================================\n",
      "\n",
      "Warnings:\n",
      "[1] Covariance matrix calculated using the outer product of gradients (complex-step).\n",
      "\n",
      "LLR Test P-value = 0.889\n",
      "################################################################################\n",
      "####################Comparing AR models with lag of 9 & 10####################\n"
     ]
    },
    {
     "name": "stderr",
     "output_type": "stream",
     "text": [
      "D:\\anaconda3\\envs\\time-series-tutorials\\lib\\site-packages\\statsmodels\\base\\model.py:566: ConvergenceWarning: Maximum Likelihood optimization failed to converge. Check mle_retvals\n",
      "  warnings.warn(\"Maximum Likelihood optimization failed to \"\n"
     ]
    },
    {
     "name": "stdout",
     "output_type": "stream",
     "text": [
      "                               SARIMAX Results                                \n",
      "==============================================================================\n",
      "Dep. Variable:                 return   No. Observations:                 5020\n",
      "Model:                ARIMA(10, 0, 0)   Log Likelihood               15232.576\n",
      "Date:                Wed, 18 Nov 2020   AIC                         -30441.151\n",
      "Time:                        22:25:02   BIC                         -30362.897\n",
      "Sample:                    01-10-1994   HQIC                        -30413.730\n",
      "                         - 04-05-2013                                         \n",
      "Covariance Type:                  opg                                         \n",
      "==============================================================================\n",
      "                 coef    std err          z      P>|z|      [0.025      0.975]\n",
      "------------------------------------------------------------------------------\n",
      "const          0.0002      0.000      1.244      0.214      -0.000       0.000\n",
      "ar.L1         -0.0245      0.009     -2.598      0.009      -0.043      -0.006\n",
      "ar.L2         -0.0506      0.008     -6.181      0.000      -0.067      -0.035\n",
      "ar.L3         -0.0863      0.008    -10.280      0.000      -0.103      -0.070\n",
      "ar.L4          0.0422      0.008      5.030      0.000       0.026       0.059\n",
      "ar.L5         -0.0586      0.008     -7.009      0.000      -0.075      -0.042\n",
      "ar.L6         -0.0449      0.009     -4.864      0.000      -0.063      -0.027\n",
      "ar.L7          0.0106      0.009      1.149      0.251      -0.008       0.029\n",
      "ar.L8          0.0200      0.010      2.100      0.036       0.001       0.039\n",
      "ar.L9         -0.0022      0.009     -0.255      0.799      -0.019       0.015\n",
      "ar.L10        -0.0092      0.009     -1.070      0.285      -0.026       0.008\n",
      "sigma2         0.0001   1.49e-06     90.781      0.000       0.000       0.000\n",
      "===================================================================================\n",
      "Ljung-Box (L1) (Q):                   0.00   Jarque-Bera (JB):              6455.81\n",
      "Prob(Q):                              0.98   Prob(JB):                         0.00\n",
      "Heteroskedasticity (H):               2.00   Skew:                            -0.19\n",
      "Prob(H) (two-sided):                  0.00   Kurtosis:                         8.54\n",
      "===================================================================================\n",
      "\n",
      "Warnings:\n",
      "[1] Covariance matrix calculated using the outer product of gradients (complex-step).\n"
     ]
    },
    {
     "name": "stderr",
     "output_type": "stream",
     "text": [
      "D:\\anaconda3\\envs\\time-series-tutorials\\lib\\site-packages\\statsmodels\\base\\model.py:566: ConvergenceWarning: Maximum Likelihood optimization failed to converge. Check mle_retvals\n",
      "  warnings.warn(\"Maximum Likelihood optimization failed to \"\n"
     ]
    },
    {
     "name": "stdout",
     "output_type": "stream",
     "text": [
      "\n",
      "LLR Test P-value = 0.515\n",
      "################################################################################\n"
     ]
    }
   ],
   "source": [
    "for i in range(0,10):\n",
    "    print(\"#\"*20 + f\"Comparing AR models with lag of {i} & {i+1}\" +\"#\"*20 )\n",
    "    model_1 = ARIMA(returns, order = (i,0,0))\n",
    "    model_2 = ARIMA(returns, order = (i+1,0,0))\n",
    "    result_2 = model_2.fit()\n",
    "    print(result_2.summary())\n",
    "    print(\"\\nLLR Test P-value = \" + str(LLR_test(model_1, model_2)))\n",
    "    print(\"#\"*80)"
   ]
  },
  {
   "cell_type": "markdown",
   "metadata": {},
   "source": [
    "#### We choose AR(6) as our final model since it has more coefficient and lower P-value in LLR test compare to AR(7)."
   ]
  },
  {
   "cell_type": "markdown",
   "metadata": {},
   "source": [
    "## Normalizing Values"
   ]
  },
  {
   "cell_type": "code",
   "execution_count": 96,
   "metadata": {},
   "outputs": [
    {
     "name": "stderr",
     "output_type": "stream",
     "text": [
      "<ipython-input-96-a7e44b696762>:2: SettingWithCopyWarning: \n",
      "A value is trying to be set on a copy of a slice from a DataFrame.\n",
      "Try using .loc[row_indexer,col_indexer] = value instead\n",
      "\n",
      "See the caveats in the documentation: https://pandas.pydata.org/pandas-docs/stable/user_guide/indexing.html#returning-a-view-versus-a-copy\n",
      "  df['norm'] = df.market_value.div(benchmark).mul(100)\n"
     ]
    },
    {
     "data": {
      "text/plain": [
       "(-1.9041551418836287,\n",
       " 0.3301089327703105,\n",
       " 6,\n",
       " 5014,\n",
       " {'1%': -3.4316548765428174,\n",
       "  '5%': -2.8621166146845334,\n",
       "  '10%': -2.5670769326348926},\n",
       " 19541.17381480549)"
      ]
     },
     "execution_count": 96,
     "metadata": {},
     "output_type": "execute_result"
    }
   ],
   "source": [
    "benchmark = df.market_value.iloc[0]\n",
    "df['norm'] = df.market_value.div(benchmark).mul(100)\n",
    "sts.adfuller(df['norm'])"
   ]
  },
  {
   "cell_type": "code",
   "execution_count": 97,
   "metadata": {},
   "outputs": [
    {
     "name": "stderr",
     "output_type": "stream",
     "text": [
      "<ipython-input-97-b810c63d89f5>:2: SettingWithCopyWarning: \n",
      "A value is trying to be set on a copy of a slice from a DataFrame.\n",
      "Try using .loc[row_indexer,col_indexer] = value instead\n",
      "\n",
      "See the caveats in the documentation: https://pandas.pydata.org/pandas-docs/stable/user_guide/indexing.html#returning-a-view-versus-a-copy\n",
      "  df['norm_ret'] = df['return'].div(bench_ret).mul(100)\n"
     ]
    },
    {
     "data": {
      "text/plain": [
       "(-12.770265719497306,\n",
       " 7.798058336035753e-24,\n",
       " 32,\n",
       " 4987,\n",
       " {'1%': -3.431661944885779,\n",
       "  '5%': -2.8621197374408225,\n",
       "  '10%': -2.5670785949998973},\n",
       " 80114.49116124897)"
      ]
     },
     "execution_count": 97,
     "metadata": {},
     "output_type": "execute_result"
    }
   ],
   "source": [
    "bench_ret = returns.iloc[0]\n",
    "df['norm_ret'] = df['return'].div(bench_ret).mul(100)\n",
    "sts.adfuller(df['norm_ret'].dropna())"
   ]
  },
  {
   "cell_type": "markdown",
   "metadata": {},
   "source": [
    "### Find the best model for Normalized Return"
   ]
  },
  {
   "cell_type": "code",
   "execution_count": 98,
   "metadata": {},
   "outputs": [
    {
     "name": "stdout",
     "output_type": "stream",
     "text": [
      "####################Comparing AR models with lag of 0 & 1####################\n",
      "                               SARIMAX Results                                \n",
      "==============================================================================\n",
      "Dep. Variable:               norm_ret   No. Observations:                 5020\n",
      "Model:                 ARIMA(1, 0, 0)   Log Likelihood              -40351.743\n",
      "Date:                Wed, 18 Nov 2020   AIC                          80709.487\n",
      "Time:                        22:25:14   BIC                          80729.050\n",
      "Sample:                    01-10-1994   HQIC                         80716.342\n",
      "                         - 04-05-2013                                         \n",
      "Covariance Type:                  opg                                         \n",
      "==============================================================================\n",
      "                 coef    std err          z      P>|z|      [0.025      0.975]\n",
      "------------------------------------------------------------------------------\n",
      "const        -11.9731     10.476     -1.143      0.253     -32.506       8.560\n",
      "ar.L1         -0.0230      0.009     -2.697      0.007      -0.040      -0.006\n",
      "sigma2      5.617e+05   5612.960    100.071      0.000    5.51e+05    5.73e+05\n",
      "===================================================================================\n",
      "Ljung-Box (L1) (Q):                   0.01   Jarque-Bera (JB):              7872.68\n",
      "Prob(Q):                              0.93   Prob(JB):                         0.00\n",
      "Heteroskedasticity (H):               2.04   Skew:                             0.03\n",
      "Prob(H) (two-sided):                  0.00   Kurtosis:                         9.13\n",
      "===================================================================================\n",
      "\n",
      "Warnings:\n",
      "[1] Covariance matrix calculated using the outer product of gradients (complex-step).\n",
      "\n",
      "LLR Test P-value = 0.101\n",
      "################################################################################\n",
      "####################Comparing AR models with lag of 1 & 2####################\n",
      "                               SARIMAX Results                                \n",
      "==============================================================================\n",
      "Dep. Variable:               norm_ret   No. Observations:                 5020\n",
      "Model:                 ARIMA(2, 0, 0)   Log Likelihood              -40345.450\n",
      "Date:                Wed, 18 Nov 2020   AIC                          80698.901\n",
      "Time:                        22:25:15   BIC                          80724.986\n",
      "Sample:                    01-10-1994   HQIC                         80708.041\n",
      "                         - 04-05-2013                                         \n",
      "Covariance Type:                  opg                                         \n",
      "==============================================================================\n",
      "                 coef    std err          z      P>|z|      [0.025      0.975]\n",
      "------------------------------------------------------------------------------\n",
      "const        -11.9731     10.050     -1.191      0.234     -31.671       7.725\n",
      "ar.L1         -0.0242      0.009     -2.797      0.005      -0.041      -0.007\n",
      "ar.L2         -0.0500      0.008     -6.368      0.000      -0.065      -0.035\n",
      "sigma2      5.603e+05   5628.139     99.561      0.000    5.49e+05    5.71e+05\n",
      "===================================================================================\n",
      "Ljung-Box (L1) (Q):                   0.08   Jarque-Bera (JB):              7730.40\n",
      "Prob(Q):                              0.77   Prob(JB):                         0.00\n",
      "Heteroskedasticity (H):               2.03   Skew:                             0.06\n",
      "Prob(H) (two-sided):                  0.00   Kurtosis:                         9.08\n",
      "===================================================================================\n",
      "\n",
      "Warnings:\n",
      "[1] Covariance matrix calculated using the outer product of gradients (complex-step).\n",
      "\n",
      "LLR Test P-value = 0.0\n",
      "################################################################################\n",
      "####################Comparing AR models with lag of 2 & 3####################\n",
      "                               SARIMAX Results                                \n",
      "==============================================================================\n",
      "Dep. Variable:               norm_ret   No. Observations:                 5020\n",
      "Model:                 ARIMA(3, 0, 0)   Log Likelihood              -40328.733\n",
      "Date:                Wed, 18 Nov 2020   AIC                          80667.466\n",
      "Time:                        22:25:16   BIC                          80700.072\n",
      "Sample:                    01-10-1994   HQIC                         80678.892\n",
      "                         - 04-05-2013                                         \n",
      "Covariance Type:                  opg                                         \n",
      "==============================================================================\n",
      "                 coef    std err          z      P>|z|      [0.025      0.975]\n",
      "------------------------------------------------------------------------------\n",
      "const        -11.9731      9.474     -1.264      0.206     -30.543       6.597\n",
      "ar.L1         -0.0282      0.009     -3.193      0.001      -0.046      -0.011\n",
      "ar.L2         -0.0520      0.008     -6.678      0.000      -0.067      -0.037\n",
      "ar.L3         -0.0815      0.008    -10.188      0.000      -0.097      -0.066\n",
      "sigma2      5.566e+05   5890.565     94.491      0.000    5.45e+05    5.68e+05\n",
      "===================================================================================\n",
      "Ljung-Box (L1) (Q):                   0.07   Jarque-Bera (JB):              6859.56\n",
      "Prob(Q):                              0.79   Prob(JB):                         0.00\n",
      "Heteroskedasticity (H):               2.02   Skew:                             0.15\n",
      "Prob(H) (two-sided):                  0.00   Kurtosis:                         8.72\n",
      "===================================================================================\n",
      "\n",
      "Warnings:\n",
      "[1] Covariance matrix calculated using the outer product of gradients (complex-step).\n",
      "\n",
      "LLR Test P-value = 0.0\n",
      "################################################################################\n",
      "####################Comparing AR models with lag of 3 & 4####################\n",
      "                               SARIMAX Results                                \n",
      "==============================================================================\n",
      "Dep. Variable:               norm_ret   No. Observations:                 5020\n",
      "Model:                 ARIMA(4, 0, 0)   Log Likelihood              -40323.325\n",
      "Date:                Wed, 18 Nov 2020   AIC                          80658.650\n",
      "Time:                        22:25:18   BIC                          80697.777\n",
      "Sample:                    01-10-1994   HQIC                         80672.361\n",
      "                         - 04-05-2013                                         \n",
      "Covariance Type:                  opg                                         \n",
      "==============================================================================\n",
      "                 coef    std err          z      P>|z|      [0.025      0.975]\n",
      "------------------------------------------------------------------------------\n",
      "const        -11.9731      9.957     -1.202      0.229     -31.489       7.543\n",
      "ar.L1         -0.0245      0.009     -2.769      0.006      -0.042      -0.007\n",
      "ar.L2         -0.0496      0.008     -6.325      0.000      -0.065      -0.034\n",
      "ar.L3         -0.0802      0.008     -9.990      0.000      -0.096      -0.064\n",
      "ar.L4          0.0464      0.008      5.647      0.000       0.030       0.063\n",
      "sigma2      5.555e+05   5990.223     92.734      0.000    5.44e+05    5.67e+05\n",
      "===================================================================================\n",
      "Ljung-Box (L1) (Q):                   0.04   Jarque-Bera (JB):              6581.03\n",
      "Prob(Q):                              0.84   Prob(JB):                         0.00\n",
      "Heteroskedasticity (H):               2.00   Skew:                             0.12\n",
      "Prob(H) (two-sided):                  0.00   Kurtosis:                         8.60\n",
      "===================================================================================\n",
      "\n",
      "Warnings:\n",
      "[1] Covariance matrix calculated using the outer product of gradients (complex-step).\n",
      "\n",
      "LLR Test P-value = 0.001\n",
      "################################################################################\n",
      "####################Comparing AR models with lag of 4 & 5####################\n",
      "                               SARIMAX Results                                \n",
      "==============================================================================\n",
      "Dep. Variable:               norm_ret   No. Observations:                 5020\n",
      "Model:                 ARIMA(5, 0, 0)   Log Likelihood              -40314.385\n",
      "Date:                Wed, 18 Nov 2020   AIC                          80642.769\n",
      "Time:                        22:25:20   BIC                          80688.418\n",
      "Sample:                    01-10-1994   HQIC                         80658.765\n",
      "                         - 04-05-2013                                         \n",
      "Covariance Type:                  opg                                         \n",
      "==============================================================================\n",
      "                 coef    std err          z      P>|z|      [0.025      0.975]\n",
      "------------------------------------------------------------------------------\n",
      "const        -11.9731      9.468     -1.265      0.206     -30.531       6.585\n",
      "ar.L1         -0.0217      0.009     -2.395      0.017      -0.040      -0.004\n",
      "ar.L2         -0.0544      0.008     -6.823      0.000      -0.070      -0.039\n",
      "ar.L3         -0.0831      0.008    -10.401      0.000      -0.099      -0.067\n",
      "ar.L4          0.0449      0.008      5.429      0.000       0.029       0.061\n",
      "ar.L5         -0.0596      0.008     -7.465      0.000      -0.075      -0.044\n",
      "sigma2      5.535e+05   5985.414     92.482      0.000    5.42e+05    5.65e+05\n",
      "===================================================================================\n",
      "Ljung-Box (L1) (Q):                   0.04   Jarque-Bera (JB):              6398.82\n",
      "Prob(Q):                              0.84   Prob(JB):                         0.00\n",
      "Heteroskedasticity (H):               2.00   Skew:                             0.17\n",
      "Prob(H) (two-sided):                  0.00   Kurtosis:                         8.52\n",
      "===================================================================================\n",
      "\n",
      "Warnings:\n",
      "[1] Covariance matrix calculated using the outer product of gradients (complex-step).\n",
      "\n",
      "LLR Test P-value = 0.0\n",
      "################################################################################\n",
      "####################Comparing AR models with lag of 5 & 6####################\n",
      "                               SARIMAX Results                                \n",
      "==============================================================================\n",
      "Dep. Variable:               norm_ret   No. Observations:                 5020\n",
      "Model:                 ARIMA(6, 0, 0)   Log Likelihood              -40308.940\n",
      "Date:                Wed, 18 Nov 2020   AIC                          80633.880\n",
      "Time:                        22:25:22   BIC                          80686.050\n",
      "Sample:                    01-10-1994   HQIC                         80652.161\n",
      "                         - 04-05-2013                                         \n",
      "Covariance Type:                  opg                                         \n",
      "==============================================================================\n",
      "                 coef    std err          z      P>|z|      [0.025      0.975]\n",
      "------------------------------------------------------------------------------\n",
      "const        -11.9731      9.123     -1.312      0.189     -29.854       5.908\n",
      "ar.L1         -0.0245      0.009     -2.639      0.008      -0.043      -0.006\n",
      "ar.L2         -0.0523      0.008     -6.501      0.000      -0.068      -0.037\n",
      "ar.L3         -0.0870      0.008    -10.846      0.000      -0.103      -0.071\n",
      "ar.L4          0.0424      0.008      5.130      0.000       0.026       0.059\n",
      "ar.L5         -0.0607      0.008     -7.562      0.000      -0.076      -0.045\n",
      "ar.L6         -0.0466      0.009     -5.213      0.000      -0.064      -0.029\n",
      "sigma2      5.524e+05   5975.606     92.451      0.000    5.41e+05    5.64e+05\n",
      "===================================================================================\n",
      "Ljung-Box (L1) (Q):                   0.00   Jarque-Bera (JB):              6487.31\n",
      "Prob(Q):                              0.97   Prob(JB):                         0.00\n",
      "Heteroskedasticity (H):               2.00   Skew:                             0.20\n",
      "Prob(H) (two-sided):                  0.00   Kurtosis:                         8.56\n",
      "===================================================================================\n",
      "\n",
      "Warnings:\n",
      "[1] Covariance matrix calculated using the outer product of gradients (complex-step).\n",
      "\n",
      "LLR Test P-value = 0.001\n",
      "################################################################################\n",
      "####################Comparing AR models with lag of 6 & 7####################\n",
      "                               SARIMAX Results                                \n",
      "==============================================================================\n",
      "Dep. Variable:               norm_ret   No. Observations:                 5020\n",
      "Model:                 ARIMA(7, 0, 0)   Log Likelihood              -40308.642\n",
      "Date:                Wed, 18 Nov 2020   AIC                          80635.285\n",
      "Time:                        22:25:25   BIC                          80693.975\n",
      "Sample:                    01-10-1994   HQIC                         80655.851\n",
      "                         - 04-05-2013                                         \n",
      "Covariance Type:                  opg                                         \n",
      "==============================================================================\n",
      "                 coef    std err          z      P>|z|      [0.025      0.975]\n",
      "------------------------------------------------------------------------------\n",
      "const        -11.9731      9.262     -1.293      0.196     -30.126       6.179\n",
      "ar.L1         -0.0240      0.009     -2.577      0.010      -0.042      -0.006\n",
      "ar.L2         -0.0517      0.008     -6.370      0.000      -0.068      -0.036\n",
      "ar.L3         -0.0874      0.008    -10.717      0.000      -0.103      -0.071\n",
      "ar.L4          0.0433      0.008      5.178      0.000       0.027       0.060\n",
      "ar.L5         -0.0601      0.008     -7.457      0.000      -0.076      -0.044\n",
      "ar.L6         -0.0463      0.009     -5.169      0.000      -0.064      -0.029\n",
      "ar.L7          0.0109      0.009      1.204      0.228      -0.007       0.029\n",
      "sigma2      5.524e+05   6023.895     91.707      0.000    5.41e+05    5.64e+05\n",
      "===================================================================================\n",
      "Ljung-Box (L1) (Q):                   0.00   Jarque-Bera (JB):              6448.21\n",
      "Prob(Q):                              0.99   Prob(JB):                         0.00\n",
      "Heteroskedasticity (H):               2.00   Skew:                             0.19\n",
      "Prob(H) (two-sided):                  0.00   Kurtosis:                         8.54\n",
      "===================================================================================\n",
      "\n",
      "Warnings:\n",
      "[1] Covariance matrix calculated using the outer product of gradients (complex-step).\n",
      "\n",
      "LLR Test P-value = 0.44\n",
      "################################################################################\n",
      "####################Comparing AR models with lag of 7 & 8####################\n",
      "                               SARIMAX Results                                \n",
      "==============================================================================\n",
      "Dep. Variable:               norm_ret   No. Observations:                 5020\n",
      "Model:                 ARIMA(8, 0, 0)   Log Likelihood              -40307.595\n",
      "Date:                Wed, 18 Nov 2020   AIC                          80635.189\n",
      "Time:                        22:25:27   BIC                          80700.401\n",
      "Sample:                    01-10-1994   HQIC                         80658.041\n",
      "                         - 04-05-2013                                         \n",
      "Covariance Type:                  opg                                         \n",
      "==============================================================================\n",
      "                 coef    std err          z      P>|z|      [0.025      0.975]\n",
      "------------------------------------------------------------------------------\n",
      "const        -11.9731      9.530     -1.256      0.209     -30.651       6.705\n",
      "ar.L1         -0.0243      0.009     -2.584      0.010      -0.043      -0.006\n",
      "ar.L2         -0.0507      0.008     -6.245      0.000      -0.067      -0.035\n",
      "ar.L3         -0.0862      0.008    -10.451      0.000      -0.102      -0.070\n",
      "ar.L4          0.0424      0.008      5.055      0.000       0.026       0.059\n",
      "ar.L5         -0.0583      0.008     -7.096      0.000      -0.074      -0.042\n",
      "ar.L6         -0.0452      0.009     -5.039      0.000      -0.063      -0.028\n",
      "ar.L7          0.0114      0.009      1.255      0.209      -0.006       0.029\n",
      "ar.L8          0.0204      0.009      2.151      0.031       0.002       0.039\n",
      "sigma2      5.522e+05   6021.350     91.708      0.000     5.4e+05    5.64e+05\n",
      "===================================================================================\n",
      "Ljung-Box (L1) (Q):                   0.00   Jarque-Bera (JB):              6437.24\n",
      "Prob(Q):                              1.00   Prob(JB):                         0.00\n",
      "Heteroskedasticity (H):               2.00   Skew:                             0.18\n",
      "Prob(H) (two-sided):                  0.00   Kurtosis:                         8.54\n",
      "===================================================================================\n",
      "\n",
      "Warnings:\n",
      "[1] Covariance matrix calculated using the outer product of gradients (complex-step).\n",
      "\n",
      "LLR Test P-value = 0.148\n",
      "################################################################################\n",
      "####################Comparing AR models with lag of 8 & 9####################\n",
      "                               SARIMAX Results                                \n",
      "==============================================================================\n",
      "Dep. Variable:               norm_ret   No. Observations:                 5020\n",
      "Model:                 ARIMA(9, 0, 0)   Log Likelihood              -40307.585\n",
      "Date:                Wed, 18 Nov 2020   AIC                          80637.169\n",
      "Time:                        22:25:32   BIC                          80708.902\n",
      "Sample:                    01-10-1994   HQIC                         80662.306\n",
      "                         - 04-05-2013                                         \n",
      "Covariance Type:                  opg                                         \n",
      "==============================================================================\n",
      "                 coef    std err          z      P>|z|      [0.025      0.975]\n",
      "------------------------------------------------------------------------------\n",
      "const        -11.9731      9.581     -1.250      0.211     -30.752       6.805\n",
      "ar.L1         -0.0242      0.009     -2.577      0.010      -0.043      -0.006\n",
      "ar.L2         -0.0507      0.008     -6.210      0.000      -0.067      -0.035\n",
      "ar.L3         -0.0863      0.008    -10.454      0.000      -0.102      -0.070\n",
      "ar.L4          0.0423      0.008      5.035      0.000       0.026       0.059\n",
      "ar.L5         -0.0582      0.008     -6.973      0.000      -0.075      -0.042\n",
      "ar.L6         -0.0454      0.009     -5.003      0.000      -0.063      -0.028\n",
      "ar.L7          0.0113      0.009      1.224      0.221      -0.007       0.029\n",
      "ar.L8          0.0204      0.010      2.145      0.032       0.002       0.039\n",
      "ar.L9         -0.0020      0.009     -0.231      0.817      -0.019       0.015\n",
      "sigma2      5.523e+05   6086.090     90.750      0.000     5.4e+05    5.64e+05\n",
      "===================================================================================\n",
      "Ljung-Box (L1) (Q):                   0.00   Jarque-Bera (JB):              6448.63\n",
      "Prob(Q):                              1.00   Prob(JB):                         0.00\n",
      "Heteroskedasticity (H):               2.00   Skew:                             0.18\n",
      "Prob(H) (two-sided):                  0.00   Kurtosis:                         8.54\n",
      "===================================================================================\n",
      "\n",
      "Warnings:\n",
      "[1] Covariance matrix calculated using the outer product of gradients (complex-step).\n",
      "\n",
      "LLR Test P-value = 0.887\n",
      "################################################################################\n",
      "####################Comparing AR models with lag of 9 & 10####################\n",
      "                               SARIMAX Results                                \n",
      "==============================================================================\n",
      "Dep. Variable:               norm_ret   No. Observations:                 5020\n",
      "Model:                ARIMA(10, 0, 0)   Log Likelihood              -40307.373\n",
      "Date:                Wed, 18 Nov 2020   AIC                          80638.746\n",
      "Time:                        22:25:37   BIC                          80717.000\n",
      "Sample:                    01-10-1994   HQIC                         80666.168\n",
      "                         - 04-05-2013                                         \n",
      "Covariance Type:                  opg                                         \n",
      "==============================================================================\n",
      "                 coef    std err          z      P>|z|      [0.025      0.975]\n",
      "------------------------------------------------------------------------------\n",
      "const        -11.9731      9.525     -1.257      0.209     -30.642       6.696\n",
      "ar.L1         -0.0242      0.009     -2.561      0.010      -0.043      -0.006\n",
      "ar.L2         -0.0505      0.008     -6.155      0.000      -0.067      -0.034\n",
      "ar.L3         -0.0862      0.008    -10.248      0.000      -0.103      -0.070\n",
      "ar.L4          0.0419      0.008      4.983      0.000       0.025       0.058\n",
      "ar.L5         -0.0588      0.008     -7.017      0.000      -0.075      -0.042\n",
      "ar.L6         -0.0450      0.009     -4.869      0.000      -0.063      -0.027\n",
      "ar.L7          0.0105      0.009      1.133      0.257      -0.008       0.029\n",
      "ar.L8          0.0199      0.010      2.090      0.037       0.001       0.039\n",
      "ar.L9         -0.0023      0.009     -0.257      0.797      -0.020       0.015\n",
      "ar.L10        -0.0092      0.009     -1.066      0.286      -0.026       0.008\n",
      "sigma2      5.523e+05   6095.630     90.614      0.000     5.4e+05    5.64e+05\n",
      "===================================================================================\n",
      "Ljung-Box (L1) (Q):                   0.00   Jarque-Bera (JB):              6461.42\n",
      "Prob(Q):                              1.00   Prob(JB):                         0.00\n",
      "Heteroskedasticity (H):               2.00   Skew:                             0.19\n",
      "Prob(H) (two-sided):                  0.00   Kurtosis:                         8.55\n",
      "===================================================================================\n",
      "\n",
      "Warnings:\n",
      "[1] Covariance matrix calculated using the outer product of gradients (complex-step).\n",
      "\n",
      "LLR Test P-value = 0.515\n",
      "################################################################################\n"
     ]
    }
   ],
   "source": [
    "norm_returns = df['norm_ret'].dropna()\n",
    "for i in range(0,10):\n",
    "    print(\"#\"*20 + f\"Comparing AR models with lag of {i} & {i+1}\" +\"#\"*20 )\n",
    "    model_1 = ARIMA(norm_returns, order = (i,0,0))\n",
    "    model_2 = ARIMA(norm_returns, order = (i+1,0,0))\n",
    "    result_2 = model_2.fit()\n",
    "    print(result_2.summary())\n",
    "    print(\"\\nLLR Test P-value = \" + str(LLR_test(model_1, model_2)))\n",
    "    print(\"#\"*80)"
   ]
  },
  {
   "cell_type": "markdown",
   "metadata": {},
   "source": [
    "We can observe that the normalized value does not affects the model selection. It does not impact the p-values or coefficients."
   ]
  },
  {
   "cell_type": "markdown",
   "metadata": {},
   "source": [
    "## Residuals Analysis"
   ]
  },
  {
   "cell_type": "markdown",
   "metadata": {},
   "source": [
    "Extract the residuals for all models we believe to be good fits. Examine the summary of the statistics and test them for stationary."
   ]
  },
  {
   "cell_type": "code",
   "execution_count": 103,
   "metadata": {},
   "outputs": [],
   "source": [
    "#select the best model\n",
    "model_ret_6 = ARIMA(returns, order = (6,0,0))\n",
    "model_ret_6_result = model_ret_6.fit()"
   ]
  },
  {
   "cell_type": "code",
   "execution_count": 104,
   "metadata": {},
   "outputs": [
    {
     "name": "stderr",
     "output_type": "stream",
     "text": [
      "<ipython-input-104-e23ce47cc7e6>:1: SettingWithCopyWarning: \n",
      "A value is trying to be set on a copy of a slice from a DataFrame.\n",
      "Try using .loc[row_indexer,col_indexer] = value instead\n",
      "\n",
      "See the caveats in the documentation: https://pandas.pydata.org/pandas-docs/stable/user_guide/indexing.html#returning-a-view-versus-a-copy\n",
      "  df[\"res_ret\"] = model_ret_6_result.resid\n"
     ]
    }
   ],
   "source": [
    "df[\"res_ret\"] = model_ret_6_result.resid"
   ]
  },
  {
   "cell_type": "code",
   "execution_count": 107,
   "metadata": {},
   "outputs": [
    {
     "data": {
      "text/plain": [
       "2.803350315486689e-06"
      ]
     },
     "execution_count": 107,
     "metadata": {},
     "output_type": "execute_result"
    }
   ],
   "source": [
    "df.res_ret.mean()"
   ]
  },
  {
   "cell_type": "code",
   "execution_count": 108,
   "metadata": {},
   "outputs": [
    {
     "data": {
      "text/plain": [
       "0.00013559803419416346"
      ]
     },
     "execution_count": 108,
     "metadata": {},
     "output_type": "execute_result"
    }
   ],
   "source": [
    "df.res_ret.var()"
   ]
  },
  {
   "cell_type": "code",
   "execution_count": 109,
   "metadata": {},
   "outputs": [
    {
     "data": {
      "text/plain": [
       "(-70.7693092104436,\n",
       " 0.0,\n",
       " 0,\n",
       " 5019,\n",
       " {'1%': -3.4316535759402753,\n",
       "  '5%': -2.8621160400844468,\n",
       "  '10%': -2.567076626752987},\n",
       " -30239.39848265406)"
      ]
     },
     "execution_count": 109,
     "metadata": {},
     "output_type": "execute_result"
    }
   ],
   "source": [
    "sts.adfuller(df.res_ret.dropna())"
   ]
  },
  {
   "cell_type": "code",
   "execution_count": 112,
   "metadata": {},
   "outputs": [
    {
     "data": {
      "image/png": "[encoded data removed]",
      "text/plain": [
       "<Figure size 432x288 with 1 Axes>"
      ]
     },
     "metadata": {
      "needs_background": "light"
     },
     "output_type": "display_data"
    }
   ],
   "source": [
    "sgt.plot_acf(df.res_ret.dropna(), zero=False)\n",
    "plt.title(\"ACF of Returns\")\n",
    "plt.show()"
   ]
  },
  {
   "cell_type": "code",
   "execution_count": 110,
   "metadata": {},
   "outputs": [
    {
     "data": {
      "text/plain": [
       "<AxesSubplot:xlabel='date'>"
      ]
     },
     "execution_count": 110,
     "metadata": {},
     "output_type": "execute_result"
    },
    {
     "data": {
      "image/png": "[encoded data removed]",
      "text/plain": [
       "<Figure size 432x288 with 1 Axes>"
      ]
     },
     "metadata": {
      "needs_background": "light"
     },
     "output_type": "display_data"
    }
   ],
   "source": [
    "df.res_ret.plot()"
   ]
  },
  {
   "cell_type": "code",
   "execution_count": null,
   "metadata": {},
   "outputs": [],
   "source": []
  }
 ],
 "metadata": {
  "kernelspec": {
   "display_name": "Python 3",
   "language": "python",
   "name": "python3"
  },
  "language_info": {
   "codemirror_mode": {
    "name": "ipython",
    "version": 3
   },
   "file_extension": ".py",
   "mimetype": "text/x-python",
   "name": "python",
   "nbconvert_exporter": "python",
   "pygments_lexer": "ipython3",
   "version": "3.9.0"
  }
 },
 "nbformat": 4,
 "nbformat_minor": 4
}
