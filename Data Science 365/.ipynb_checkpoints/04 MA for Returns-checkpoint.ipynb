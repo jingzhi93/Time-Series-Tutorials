{
 "cells": [
  {
   "cell_type": "markdown",
   "metadata": {},
   "source": [
    "## Import packages"
   ]
  },
  {
   "cell_type": "code",
   "execution_count": 20,
   "metadata": {},
   "outputs": [],
   "source": [
    "import pandas as pd\n",
    "import numpy as np\n",
    "import matplotlib.pyplot as plt\n",
    "import statsmodels.graphics.tsaplots as sgt\n",
    "import statsmodels.tsa.stattools as sts\n",
    "from statsmodels.tsa.seasonal import seasonal_decompose\n",
    "from statsmodels.tsa.arima.model import ARIMA\n",
    "from statsmodels.tsa.arima_model import ARMA\n",
    "from statsmodels.tsa.arima_process import ArmaProcess\n",
    "from scipy.stats.distributions import chi2\n",
    "from scipy.stats import chisquare\n",
    "from statsmodels.stats.proportion import proportions_chisquare\n",
    "import seaborn as sns"
   ]
  },
  {
   "cell_type": "markdown",
   "metadata": {},
   "source": [
    "## Import and Pre-process data"
   ]
  },
  {
   "cell_type": "code",
   "execution_count": 2,
   "metadata": {},
   "outputs": [],
   "source": [
    "raw = pd.read_csv(\"Index2018.csv\")\n",
    "df_comp = raw.copy()\n",
    "df_comp.date = pd.to_datetime(raw.date, dayfirst=True)\n",
    "df_comp.set_index(\"date\", inplace=True)\n",
    "df_comp = df_comp.asfreq('b')\n",
    "df_comp = df_comp.fillna(method=\"ffill\")"
   ]
  },
  {
   "cell_type": "code",
   "execution_count": 3,
   "metadata": {},
   "outputs": [],
   "source": [
    "df_comp['market_value'] = df_comp.ftse"
   ]
  },
  {
   "cell_type": "code",
   "execution_count": 4,
   "metadata": {},
   "outputs": [],
   "source": [
    "del df_comp['spx']\n",
    "del df_comp['dax']\n",
    "del df_comp['ftse']\n",
    "del df_comp['nikkei']\n",
    "\n",
    "size = int(len(df_comp)*0.8)\n",
    "df, df_test = df_comp.iloc[:size], df_comp.iloc[size:]"
   ]
  },
  {
   "cell_type": "markdown",
   "metadata": {},
   "source": [
    "## Creating Returns"
   ]
  },
  {
   "cell_type": "code",
   "execution_count": 5,
   "metadata": {},
   "outputs": [
    {
     "name": "stderr",
     "output_type": "stream",
     "text": [
      "<ipython-input-5-6f3746182e20>:1: SettingWithCopyWarning: \n",
      "A value is trying to be set on a copy of a slice from a DataFrame.\n",
      "Try using .loc[row_indexer,col_indexer] = value instead\n",
      "\n",
      "See the caveats in the documentation: https://pandas.pydata.org/pandas-docs/stable/user_guide/indexing.html#returning-a-view-versus-a-copy\n",
      "  df['returns'] = df.market_value.pct_change(1)*100\n"
     ]
    }
   ],
   "source": [
    "df['returns'] = df.market_value.pct_change(1)*100"
   ]
  },
  {
   "cell_type": "markdown",
   "metadata": {},
   "source": [
    "## ACF for Returns"
   ]
  },
  {
   "cell_type": "code",
   "execution_count": 7,
   "metadata": {},
   "outputs": [
    {
     "data": {
      "image/png": "[encoded data removed]",
      "text/plain": [
       "<Figure size 432x288 with 1 Axes>"
      ]
     },
     "metadata": {
      "needs_background": "light"
     },
     "output_type": "display_data"
    }
   ],
   "source": [
    "sgt.plot_acf(df.returns.dropna(), zero=False, lags=40)\n",
    "plt.title(\"ACF of Returns\")\n",
    "plt.show()"
   ]
  },
  {
   "cell_type": "markdown",
   "metadata": {},
   "source": [
    "## MA(1)"
   ]
  },
  {
   "cell_type": "code",
   "execution_count": 21,
   "metadata": {},
   "outputs": [
    {
     "data": {
      "text/html": [
       "<table class=\"simpletable\">\n",
       "<caption>SARIMAX Results</caption>\n",
       "<tr>\n",
       "  <th>Dep. Variable:</th>        <td>returns</td>     <th>  No. Observations:  </th>   <td>5020</td>   \n",
       "</tr>\n",
       "<tr>\n",
       "  <th>Model:</th>            <td>ARIMA(0, 0, 1)</td>  <th>  Log Likelihood     </th> <td>-7929.595</td>\n",
       "</tr>\n",
       "<tr>\n",
       "  <th>Date:</th>            <td>Sat, 21 Nov 2020</td> <th>  AIC                </th> <td>15865.190</td>\n",
       "</tr>\n",
       "<tr>\n",
       "  <th>Time:</th>                <td>22:11:44</td>     <th>  BIC                </th> <td>15884.754</td>\n",
       "</tr>\n",
       "<tr>\n",
       "  <th>Sample:</th>             <td>01-10-1994</td>    <th>  HQIC               </th> <td>15872.045</td>\n",
       "</tr>\n",
       "<tr>\n",
       "  <th></th>                   <td>- 04-05-2013</td>   <th>                     </th>     <td> </td>    \n",
       "</tr>\n",
       "<tr>\n",
       "  <th>Covariance Type:</th>        <td>opg</td>       <th>                     </th>     <td> </td>    \n",
       "</tr>\n",
       "</table>\n",
       "<table class=\"simpletable\">\n",
       "<tr>\n",
       "     <td></td>       <th>coef</th>     <th>std err</th>      <th>z</th>      <th>P>|z|</th>  <th>[0.025</th>    <th>0.975]</th>  \n",
       "</tr>\n",
       "<tr>\n",
       "  <th>const</th>  <td>    0.0188</td> <td>    0.016</td> <td>    1.146</td> <td> 0.252</td> <td>   -0.013</td> <td>    0.051</td>\n",
       "</tr>\n",
       "<tr>\n",
       "  <th>ma.L1</th>  <td>   -0.0257</td> <td>    0.009</td> <td>   -3.018</td> <td> 0.003</td> <td>   -0.042</td> <td>   -0.009</td>\n",
       "</tr>\n",
       "<tr>\n",
       "  <th>sigma2</th> <td>    1.3789</td> <td>    0.014</td> <td>   99.990</td> <td> 0.000</td> <td>    1.352</td> <td>    1.406</td>\n",
       "</tr>\n",
       "</table>\n",
       "<table class=\"simpletable\">\n",
       "<tr>\n",
       "  <th>Ljung-Box (L1) (Q):</th>     <td>0.01</td> <th>  Jarque-Bera (JB):  </th> <td>7852.85</td>\n",
       "</tr>\n",
       "<tr>\n",
       "  <th>Prob(Q):</th>                <td>0.92</td> <th>  Prob(JB):          </th>  <td>0.00</td>  \n",
       "</tr>\n",
       "<tr>\n",
       "  <th>Heteroskedasticity (H):</th> <td>2.04</td> <th>  Skew:              </th>  <td>-0.03</td> \n",
       "</tr>\n",
       "<tr>\n",
       "  <th>Prob(H) (two-sided):</th>    <td>0.00</td> <th>  Kurtosis:          </th>  <td>9.13</td>  \n",
       "</tr>\n",
       "</table><br/><br/>Warnings:<br/>[1] Covariance matrix calculated using the outer product of gradients (complex-step)."
      ],
      "text/plain": [
       "<class 'statsmodels.iolib.summary.Summary'>\n",
       "\"\"\"\n",
       "                               SARIMAX Results                                \n",
       "==============================================================================\n",
       "Dep. Variable:                returns   No. Observations:                 5020\n",
       "Model:                 ARIMA(0, 0, 1)   Log Likelihood               -7929.595\n",
       "Date:                Sat, 21 Nov 2020   AIC                          15865.190\n",
       "Time:                        22:11:44   BIC                          15884.754\n",
       "Sample:                    01-10-1994   HQIC                         15872.045\n",
       "                         - 04-05-2013                                         \n",
       "Covariance Type:                  opg                                         \n",
       "==============================================================================\n",
       "                 coef    std err          z      P>|z|      [0.025      0.975]\n",
       "------------------------------------------------------------------------------\n",
       "const          0.0188      0.016      1.146      0.252      -0.013       0.051\n",
       "ma.L1         -0.0257      0.009     -3.018      0.003      -0.042      -0.009\n",
       "sigma2         1.3789      0.014     99.990      0.000       1.352       1.406\n",
       "===================================================================================\n",
       "Ljung-Box (L1) (Q):                   0.01   Jarque-Bera (JB):              7852.85\n",
       "Prob(Q):                              0.92   Prob(JB):                         0.00\n",
       "Heteroskedasticity (H):               2.04   Skew:                            -0.03\n",
       "Prob(H) (two-sided):                  0.00   Kurtosis:                         9.13\n",
       "===================================================================================\n",
       "\n",
       "Warnings:\n",
       "[1] Covariance matrix calculated using the outer product of gradients (complex-step).\n",
       "\"\"\""
      ]
     },
     "execution_count": 21,
     "metadata": {},
     "output_type": "execute_result"
    }
   ],
   "source": [
    "model_ret_ma_1 = ARIMA(df.returns[1:], order=(0,0,1))\n",
    "result_ret_ma_1 = model_ret_ma_1.fit()\n",
    "result_ret_ma_1.summary()"
   ]
  },
  {
   "cell_type": "code",
   "execution_count": 41,
   "metadata": {},
   "outputs": [],
   "source": [
    "def LLR_test(mod1, mod2, df=1):\n",
    "    llf_mod1 = mod1.fit().llf\n",
    "    llf_mod2 = mod2.fit().llf\n",
    "    diff = (2*(llf_mod2- llf_mod1))\n",
    "    p = chi2.sf(diff, df=df).round(3)\n",
    "    return p"
   ]
  },
  {
   "cell_type": "code",
   "execution_count": 42,
   "metadata": {},
   "outputs": [
    {
     "name": "stdout",
     "output_type": "stream",
     "text": [
      "Comparing lags of 1 and 2. The p value of LLR Test is 0.0\n",
      "Comparing lags of 2 and 3. The p value of LLR Test is 0.0\n",
      "Comparing lags of 3 and 4. The p value of LLR Test is 0.001\n",
      "Comparing lags of 4 and 5. The p value of LLR Test is 0.001\n",
      "Comparing lags of 5 and 6. The p value of LLR Test is 0.007\n",
      "Comparing lags of 6 and 7. The p value of LLR Test is 0.554\n",
      "Comparing lags of 7 and 8. The p value of LLR Test is 0.009\n",
      "Comparing lags of 8 and 9. The p value of LLR Test is 0.59\n",
      "Comparing lags of 9 and 10. The p value of LLR Test is 0.483\n"
     ]
    }
   ],
   "source": [
    "for i in range(1,10):\n",
    "    model_1 = ARIMA(df.returns[1:], order=(0,0,i))\n",
    "    result_1 = model_1.fit()\n",
    "    model_2 = ARIMA(df.returns[1:], order=(0,0,i+1))\n",
    "    result_2 = model_2.fit()\n",
    "    p = LLR_test(model_1, model_2)\n",
    "    print(f\"Comparing lags of {i} and {i+1}. The p value of LLR Test is {p}\")"
   ]
  },
  {
   "cell_type": "code",
   "execution_count": 43,
   "metadata": {},
   "outputs": [
    {
     "data": {
      "text/html": [
       "<table class=\"simpletable\">\n",
       "<caption>SARIMAX Results</caption>\n",
       "<tr>\n",
       "  <th>Dep. Variable:</th>        <td>returns</td>     <th>  No. Observations:  </th>   <td>5020</td>   \n",
       "</tr>\n",
       "<tr>\n",
       "  <th>Model:</th>            <td>ARIMA(0, 0, 5)</td>  <th>  Log Likelihood     </th> <td>-7892.823</td>\n",
       "</tr>\n",
       "<tr>\n",
       "  <th>Date:</th>            <td>Sat, 21 Nov 2020</td> <th>  AIC                </th> <td>15799.645</td>\n",
       "</tr>\n",
       "<tr>\n",
       "  <th>Time:</th>                <td>22:47:45</td>     <th>  BIC                </th> <td>15845.294</td>\n",
       "</tr>\n",
       "<tr>\n",
       "  <th>Sample:</th>             <td>01-10-1994</td>    <th>  HQIC               </th> <td>15815.641</td>\n",
       "</tr>\n",
       "<tr>\n",
       "  <th></th>                   <td>- 04-05-2013</td>   <th>                     </th>     <td> </td>    \n",
       "</tr>\n",
       "<tr>\n",
       "  <th>Covariance Type:</th>        <td>opg</td>       <th>                     </th>     <td> </td>    \n",
       "</tr>\n",
       "</table>\n",
       "<table class=\"simpletable\">\n",
       "<tr>\n",
       "     <td></td>       <th>coef</th>     <th>std err</th>      <th>z</th>      <th>P>|z|</th>  <th>[0.025</th>    <th>0.975]</th>  \n",
       "</tr>\n",
       "<tr>\n",
       "  <th>const</th>  <td>    0.0189</td> <td>    0.015</td> <td>    1.282</td> <td> 0.200</td> <td>   -0.010</td> <td>    0.048</td>\n",
       "</tr>\n",
       "<tr>\n",
       "  <th>ma.L1</th>  <td>   -0.0262</td> <td>    0.009</td> <td>   -2.839</td> <td> 0.005</td> <td>   -0.044</td> <td>   -0.008</td>\n",
       "</tr>\n",
       "<tr>\n",
       "  <th>ma.L2</th>  <td>   -0.0497</td> <td>    0.008</td> <td>   -6.147</td> <td> 0.000</td> <td>   -0.066</td> <td>   -0.034</td>\n",
       "</tr>\n",
       "<tr>\n",
       "  <th>ma.L3</th>  <td>   -0.0852</td> <td>    0.008</td> <td>  -10.525</td> <td> 0.000</td> <td>   -0.101</td> <td>   -0.069</td>\n",
       "</tr>\n",
       "<tr>\n",
       "  <th>ma.L4</th>  <td>    0.0458</td> <td>    0.009</td> <td>    5.312</td> <td> 0.000</td> <td>    0.029</td> <td>    0.063</td>\n",
       "</tr>\n",
       "<tr>\n",
       "  <th>ma.L5</th>  <td>   -0.0500</td> <td>    0.008</td> <td>   -6.250</td> <td> 0.000</td> <td>   -0.066</td> <td>   -0.034</td>\n",
       "</tr>\n",
       "<tr>\n",
       "  <th>sigma2</th> <td>    1.3589</td> <td>    0.015</td> <td>   91.851</td> <td> 0.000</td> <td>    1.330</td> <td>    1.388</td>\n",
       "</tr>\n",
       "</table>\n",
       "<table class=\"simpletable\">\n",
       "<tr>\n",
       "  <th>Ljung-Box (L1) (Q):</th>     <td>0.02</td> <th>  Jarque-Bera (JB):  </th> <td>6383.74</td>\n",
       "</tr>\n",
       "<tr>\n",
       "  <th>Prob(Q):</th>                <td>0.90</td> <th>  Prob(JB):          </th>  <td>0.00</td>  \n",
       "</tr>\n",
       "<tr>\n",
       "  <th>Heteroskedasticity (H):</th> <td>2.00</td> <th>  Skew:              </th>  <td>-0.18</td> \n",
       "</tr>\n",
       "<tr>\n",
       "  <th>Prob(H) (two-sided):</th>    <td>0.00</td> <th>  Kurtosis:          </th>  <td>8.51</td>  \n",
       "</tr>\n",
       "</table><br/><br/>Warnings:<br/>[1] Covariance matrix calculated using the outer product of gradients (complex-step)."
      ],
      "text/plain": [
       "<class 'statsmodels.iolib.summary.Summary'>\n",
       "\"\"\"\n",
       "                               SARIMAX Results                                \n",
       "==============================================================================\n",
       "Dep. Variable:                returns   No. Observations:                 5020\n",
       "Model:                 ARIMA(0, 0, 5)   Log Likelihood               -7892.823\n",
       "Date:                Sat, 21 Nov 2020   AIC                          15799.645\n",
       "Time:                        22:47:45   BIC                          15845.294\n",
       "Sample:                    01-10-1994   HQIC                         15815.641\n",
       "                         - 04-05-2013                                         \n",
       "Covariance Type:                  opg                                         \n",
       "==============================================================================\n",
       "                 coef    std err          z      P>|z|      [0.025      0.975]\n",
       "------------------------------------------------------------------------------\n",
       "const          0.0189      0.015      1.282      0.200      -0.010       0.048\n",
       "ma.L1         -0.0262      0.009     -2.839      0.005      -0.044      -0.008\n",
       "ma.L2         -0.0497      0.008     -6.147      0.000      -0.066      -0.034\n",
       "ma.L3         -0.0852      0.008    -10.525      0.000      -0.101      -0.069\n",
       "ma.L4          0.0458      0.009      5.312      0.000       0.029       0.063\n",
       "ma.L5         -0.0500      0.008     -6.250      0.000      -0.066      -0.034\n",
       "sigma2         1.3589      0.015     91.851      0.000       1.330       1.388\n",
       "===================================================================================\n",
       "Ljung-Box (L1) (Q):                   0.02   Jarque-Bera (JB):              6383.74\n",
       "Prob(Q):                              0.90   Prob(JB):                         0.00\n",
       "Heteroskedasticity (H):               2.00   Skew:                            -0.18\n",
       "Prob(H) (two-sided):                  0.00   Kurtosis:                         8.51\n",
       "===================================================================================\n",
       "\n",
       "Warnings:\n",
       "[1] Covariance matrix calculated using the outer product of gradients (complex-step).\n",
       "\"\"\""
      ]
     },
     "execution_count": 43,
     "metadata": {},
     "output_type": "execute_result"
    }
   ],
   "source": [
    "model_ret_ma_5 = ARIMA(df.returns[1:], order=(0,0,5))\n",
    "result_ret_ma_5 = model_ret_ma_5.fit()\n",
    "result_ret_ma_5.summary()"
   ]
  },
  {
   "cell_type": "code",
   "execution_count": 44,
   "metadata": {},
   "outputs": [
    {
     "data": {
      "text/html": [
       "<table class=\"simpletable\">\n",
       "<caption>SARIMAX Results</caption>\n",
       "<tr>\n",
       "  <th>Dep. Variable:</th>        <td>returns</td>     <th>  No. Observations:  </th>   <td>5020</td>   \n",
       "</tr>\n",
       "<tr>\n",
       "  <th>Model:</th>            <td>ARIMA(0, 0, 6)</td>  <th>  Log Likelihood     </th> <td>-7889.221</td>\n",
       "</tr>\n",
       "<tr>\n",
       "  <th>Date:</th>            <td>Sat, 21 Nov 2020</td> <th>  AIC                </th> <td>15794.442</td>\n",
       "</tr>\n",
       "<tr>\n",
       "  <th>Time:</th>                <td>22:48:18</td>     <th>  BIC                </th> <td>15846.612</td>\n",
       "</tr>\n",
       "<tr>\n",
       "  <th>Sample:</th>             <td>01-10-1994</td>    <th>  HQIC               </th> <td>15812.723</td>\n",
       "</tr>\n",
       "<tr>\n",
       "  <th></th>                   <td>- 04-05-2013</td>   <th>                     </th>     <td> </td>    \n",
       "</tr>\n",
       "<tr>\n",
       "  <th>Covariance Type:</th>        <td>opg</td>       <th>                     </th>     <td> </td>    \n",
       "</tr>\n",
       "</table>\n",
       "<table class=\"simpletable\">\n",
       "<tr>\n",
       "     <td></td>       <th>coef</th>     <th>std err</th>      <th>z</th>      <th>P>|z|</th>  <th>[0.025</th>    <th>0.975]</th>  \n",
       "</tr>\n",
       "<tr>\n",
       "  <th>const</th>  <td>    0.0189</td> <td>    0.014</td> <td>    1.318</td> <td> 0.188</td> <td>   -0.009</td> <td>    0.047</td>\n",
       "</tr>\n",
       "<tr>\n",
       "  <th>ma.L1</th>  <td>   -0.0237</td> <td>    0.009</td> <td>   -2.562</td> <td> 0.010</td> <td>   -0.042</td> <td>   -0.006</td>\n",
       "</tr>\n",
       "<tr>\n",
       "  <th>ma.L2</th>  <td>   -0.0486</td> <td>    0.008</td> <td>   -5.982</td> <td> 0.000</td> <td>   -0.064</td> <td>   -0.033</td>\n",
       "</tr>\n",
       "<tr>\n",
       "  <th>ma.L3</th>  <td>   -0.0827</td> <td>    0.008</td> <td>  -10.179</td> <td> 0.000</td> <td>   -0.099</td> <td>   -0.067</td>\n",
       "</tr>\n",
       "<tr>\n",
       "  <th>ma.L4</th>  <td>    0.0466</td> <td>    0.009</td> <td>    5.386</td> <td> 0.000</td> <td>    0.030</td> <td>    0.064</td>\n",
       "</tr>\n",
       "<tr>\n",
       "  <th>ma.L5</th>  <td>   -0.0484</td> <td>    0.008</td> <td>   -5.991</td> <td> 0.000</td> <td>   -0.064</td> <td>   -0.033</td>\n",
       "</tr>\n",
       "<tr>\n",
       "  <th>ma.L6</th>  <td>   -0.0387</td> <td>    0.009</td> <td>   -4.318</td> <td> 0.000</td> <td>   -0.056</td> <td>   -0.021</td>\n",
       "</tr>\n",
       "<tr>\n",
       "  <th>sigma2</th> <td>    1.3569</td> <td>    0.015</td> <td>   92.179</td> <td> 0.000</td> <td>    1.328</td> <td>    1.386</td>\n",
       "</tr>\n",
       "</table>\n",
       "<table class=\"simpletable\">\n",
       "<tr>\n",
       "  <th>Ljung-Box (L1) (Q):</th>     <td>0.00</td> <th>  Jarque-Bera (JB):  </th> <td>6533.78</td>\n",
       "</tr>\n",
       "<tr>\n",
       "  <th>Prob(Q):</th>                <td>0.98</td> <th>  Prob(JB):          </th>  <td>0.00</td>  \n",
       "</tr>\n",
       "<tr>\n",
       "  <th>Heteroskedasticity (H):</th> <td>2.00</td> <th>  Skew:              </th>  <td>-0.20</td> \n",
       "</tr>\n",
       "<tr>\n",
       "  <th>Prob(H) (two-sided):</th>    <td>0.00</td> <th>  Kurtosis:          </th>  <td>8.58</td>  \n",
       "</tr>\n",
       "</table><br/><br/>Warnings:<br/>[1] Covariance matrix calculated using the outer product of gradients (complex-step)."
      ],
      "text/plain": [
       "<class 'statsmodels.iolib.summary.Summary'>\n",
       "\"\"\"\n",
       "                               SARIMAX Results                                \n",
       "==============================================================================\n",
       "Dep. Variable:                returns   No. Observations:                 5020\n",
       "Model:                 ARIMA(0, 0, 6)   Log Likelihood               -7889.221\n",
       "Date:                Sat, 21 Nov 2020   AIC                          15794.442\n",
       "Time:                        22:48:18   BIC                          15846.612\n",
       "Sample:                    01-10-1994   HQIC                         15812.723\n",
       "                         - 04-05-2013                                         \n",
       "Covariance Type:                  opg                                         \n",
       "==============================================================================\n",
       "                 coef    std err          z      P>|z|      [0.025      0.975]\n",
       "------------------------------------------------------------------------------\n",
       "const          0.0189      0.014      1.318      0.188      -0.009       0.047\n",
       "ma.L1         -0.0237      0.009     -2.562      0.010      -0.042      -0.006\n",
       "ma.L2         -0.0486      0.008     -5.982      0.000      -0.064      -0.033\n",
       "ma.L3         -0.0827      0.008    -10.179      0.000      -0.099      -0.067\n",
       "ma.L4          0.0466      0.009      5.386      0.000       0.030       0.064\n",
       "ma.L5         -0.0484      0.008     -5.991      0.000      -0.064      -0.033\n",
       "ma.L6         -0.0387      0.009     -4.318      0.000      -0.056      -0.021\n",
       "sigma2         1.3569      0.015     92.179      0.000       1.328       1.386\n",
       "===================================================================================\n",
       "Ljung-Box (L1) (Q):                   0.00   Jarque-Bera (JB):              6533.78\n",
       "Prob(Q):                              0.98   Prob(JB):                         0.00\n",
       "Heteroskedasticity (H):               2.00   Skew:                            -0.20\n",
       "Prob(H) (two-sided):                  0.00   Kurtosis:                         8.58\n",
       "===================================================================================\n",
       "\n",
       "Warnings:\n",
       "[1] Covariance matrix calculated using the outer product of gradients (complex-step).\n",
       "\"\"\""
      ]
     },
     "execution_count": 44,
     "metadata": {},
     "output_type": "execute_result"
    }
   ],
   "source": [
    "model_ret_ma_6 = ARIMA(df.returns[1:], order=(0,0,6))\n",
    "result_ret_ma_6 = model_ret_ma_6.fit()\n",
    "result_ret_ma_6.summary()"
   ]
  },
  {
   "cell_type": "code",
   "execution_count": 45,
   "metadata": {},
   "outputs": [
    {
     "data": {
      "text/html": [
       "<table class=\"simpletable\">\n",
       "<caption>SARIMAX Results</caption>\n",
       "<tr>\n",
       "  <th>Dep. Variable:</th>        <td>returns</td>     <th>  No. Observations:  </th>   <td>5020</td>   \n",
       "</tr>\n",
       "<tr>\n",
       "  <th>Model:</th>            <td>ARIMA(0, 0, 7)</td>  <th>  Log Likelihood     </th> <td>-7889.046</td>\n",
       "</tr>\n",
       "<tr>\n",
       "  <th>Date:</th>            <td>Sat, 21 Nov 2020</td> <th>  AIC                </th> <td>15796.091</td>\n",
       "</tr>\n",
       "<tr>\n",
       "  <th>Time:</th>                <td>22:50:57</td>     <th>  BIC                </th> <td>15854.782</td>\n",
       "</tr>\n",
       "<tr>\n",
       "  <th>Sample:</th>             <td>01-10-1994</td>    <th>  HQIC               </th> <td>15816.657</td>\n",
       "</tr>\n",
       "<tr>\n",
       "  <th></th>                   <td>- 04-05-2013</td>   <th>                     </th>     <td> </td>    \n",
       "</tr>\n",
       "<tr>\n",
       "  <th>Covariance Type:</th>        <td>opg</td>       <th>                     </th>     <td> </td>    \n",
       "</tr>\n",
       "</table>\n",
       "<table class=\"simpletable\">\n",
       "<tr>\n",
       "     <td></td>       <th>coef</th>     <th>std err</th>      <th>z</th>      <th>P>|z|</th>  <th>[0.025</th>    <th>0.975]</th>  \n",
       "</tr>\n",
       "<tr>\n",
       "  <th>const</th>  <td>    0.0189</td> <td>    0.015</td> <td>    1.303</td> <td> 0.193</td> <td>   -0.010</td> <td>    0.047</td>\n",
       "</tr>\n",
       "<tr>\n",
       "  <th>ma.L1</th>  <td>   -0.0247</td> <td>    0.009</td> <td>   -2.645</td> <td> 0.008</td> <td>   -0.043</td> <td>   -0.006</td>\n",
       "</tr>\n",
       "<tr>\n",
       "  <th>ma.L2</th>  <td>   -0.0488</td> <td>    0.008</td> <td>   -6.000</td> <td> 0.000</td> <td>   -0.065</td> <td>   -0.033</td>\n",
       "</tr>\n",
       "<tr>\n",
       "  <th>ma.L3</th>  <td>   -0.0821</td> <td>    0.008</td> <td>   -9.988</td> <td> 0.000</td> <td>   -0.098</td> <td>   -0.066</td>\n",
       "</tr>\n",
       "<tr>\n",
       "  <th>ma.L4</th>  <td>    0.0458</td> <td>    0.009</td> <td>    5.292</td> <td> 0.000</td> <td>    0.029</td> <td>    0.063</td>\n",
       "</tr>\n",
       "<tr>\n",
       "  <th>ma.L5</th>  <td>   -0.0486</td> <td>    0.008</td> <td>   -5.989</td> <td> 0.000</td> <td>   -0.064</td> <td>   -0.033</td>\n",
       "</tr>\n",
       "<tr>\n",
       "  <th>ma.L6</th>  <td>   -0.0390</td> <td>    0.009</td> <td>   -4.314</td> <td> 0.000</td> <td>   -0.057</td> <td>   -0.021</td>\n",
       "</tr>\n",
       "<tr>\n",
       "  <th>ma.L7</th>  <td>    0.0085</td> <td>    0.009</td> <td>    0.947</td> <td> 0.343</td> <td>   -0.009</td> <td>    0.026</td>\n",
       "</tr>\n",
       "<tr>\n",
       "  <th>sigma2</th> <td>    1.3568</td> <td>    0.015</td> <td>   91.390</td> <td> 0.000</td> <td>    1.328</td> <td>    1.386</td>\n",
       "</tr>\n",
       "</table>\n",
       "<table class=\"simpletable\">\n",
       "<tr>\n",
       "  <th>Ljung-Box (L1) (Q):</th>     <td>0.00</td> <th>  Jarque-Bera (JB):  </th> <td>6506.02</td>\n",
       "</tr>\n",
       "<tr>\n",
       "  <th>Prob(Q):</th>                <td>0.98</td> <th>  Prob(JB):          </th>  <td>0.00</td>  \n",
       "</tr>\n",
       "<tr>\n",
       "  <th>Heteroskedasticity (H):</th> <td>2.00</td> <th>  Skew:              </th>  <td>-0.19</td> \n",
       "</tr>\n",
       "<tr>\n",
       "  <th>Prob(H) (two-sided):</th>    <td>0.00</td> <th>  Kurtosis:          </th>  <td>8.56</td>  \n",
       "</tr>\n",
       "</table><br/><br/>Warnings:<br/>[1] Covariance matrix calculated using the outer product of gradients (complex-step)."
      ],
      "text/plain": [
       "<class 'statsmodels.iolib.summary.Summary'>\n",
       "\"\"\"\n",
       "                               SARIMAX Results                                \n",
       "==============================================================================\n",
       "Dep. Variable:                returns   No. Observations:                 5020\n",
       "Model:                 ARIMA(0, 0, 7)   Log Likelihood               -7889.046\n",
       "Date:                Sat, 21 Nov 2020   AIC                          15796.091\n",
       "Time:                        22:50:57   BIC                          15854.782\n",
       "Sample:                    01-10-1994   HQIC                         15816.657\n",
       "                         - 04-05-2013                                         \n",
       "Covariance Type:                  opg                                         \n",
       "==============================================================================\n",
       "                 coef    std err          z      P>|z|      [0.025      0.975]\n",
       "------------------------------------------------------------------------------\n",
       "const          0.0189      0.015      1.303      0.193      -0.010       0.047\n",
       "ma.L1         -0.0247      0.009     -2.645      0.008      -0.043      -0.006\n",
       "ma.L2         -0.0488      0.008     -6.000      0.000      -0.065      -0.033\n",
       "ma.L3         -0.0821      0.008     -9.988      0.000      -0.098      -0.066\n",
       "ma.L4          0.0458      0.009      5.292      0.000       0.029       0.063\n",
       "ma.L5         -0.0486      0.008     -5.989      0.000      -0.064      -0.033\n",
       "ma.L6         -0.0390      0.009     -4.314      0.000      -0.057      -0.021\n",
       "ma.L7          0.0085      0.009      0.947      0.343      -0.009       0.026\n",
       "sigma2         1.3568      0.015     91.390      0.000       1.328       1.386\n",
       "===================================================================================\n",
       "Ljung-Box (L1) (Q):                   0.00   Jarque-Bera (JB):              6506.02\n",
       "Prob(Q):                              0.98   Prob(JB):                         0.00\n",
       "Heteroskedasticity (H):               2.00   Skew:                            -0.19\n",
       "Prob(H) (two-sided):                  0.00   Kurtosis:                         8.56\n",
       "===================================================================================\n",
       "\n",
       "Warnings:\n",
       "[1] Covariance matrix calculated using the outer product of gradients (complex-step).\n",
       "\"\"\""
      ]
     },
     "execution_count": 45,
     "metadata": {},
     "output_type": "execute_result"
    }
   ],
   "source": [
    "model_ret_ma_7 = ARIMA(df.returns[1:], order=(0,0,7))\n",
    "result_ret_ma_7 = model_ret_ma_7.fit()\n",
    "result_ret_ma_7.summary()"
   ]
  },
  {
   "cell_type": "markdown",
   "metadata": {},
   "source": [
    "From, the ACF graph has shown that lags = 8 is significant, and the LLR test also show that there is a significant improvement from lags of 7."
   ]
  },
  {
   "cell_type": "code",
   "execution_count": 46,
   "metadata": {},
   "outputs": [
    {
     "data": {
      "text/html": [
       "<table class=\"simpletable\">\n",
       "<caption>SARIMAX Results</caption>\n",
       "<tr>\n",
       "  <th>Dep. Variable:</th>        <td>returns</td>     <th>  No. Observations:  </th>   <td>5020</td>   \n",
       "</tr>\n",
       "<tr>\n",
       "  <th>Model:</th>            <td>ARIMA(0, 0, 8)</td>  <th>  Log Likelihood     </th> <td>-7885.603</td>\n",
       "</tr>\n",
       "<tr>\n",
       "  <th>Date:</th>            <td>Sat, 21 Nov 2020</td> <th>  AIC                </th> <td>15791.205</td>\n",
       "</tr>\n",
       "<tr>\n",
       "  <th>Time:</th>                <td>22:57:52</td>     <th>  BIC                </th> <td>15856.417</td>\n",
       "</tr>\n",
       "<tr>\n",
       "  <th>Sample:</th>             <td>01-10-1994</td>    <th>  HQIC               </th> <td>15814.056</td>\n",
       "</tr>\n",
       "<tr>\n",
       "  <th></th>                   <td>- 04-05-2013</td>   <th>                     </th>     <td> </td>    \n",
       "</tr>\n",
       "<tr>\n",
       "  <th>Covariance Type:</th>        <td>opg</td>       <th>                     </th>     <td> </td>    \n",
       "</tr>\n",
       "</table>\n",
       "<table class=\"simpletable\">\n",
       "<tr>\n",
       "     <td></td>       <th>coef</th>     <th>std err</th>      <th>z</th>      <th>P>|z|</th>  <th>[0.025</th>    <th>0.975]</th>  \n",
       "</tr>\n",
       "<tr>\n",
       "  <th>const</th>  <td>    0.0189</td> <td>    0.015</td> <td>    1.253</td> <td> 0.210</td> <td>   -0.011</td> <td>    0.048</td>\n",
       "</tr>\n",
       "<tr>\n",
       "  <th>ma.L1</th>  <td>   -0.0238</td> <td>    0.009</td> <td>   -2.527</td> <td> 0.011</td> <td>   -0.042</td> <td>   -0.005</td>\n",
       "</tr>\n",
       "<tr>\n",
       "  <th>ma.L2</th>  <td>   -0.0495</td> <td>    0.008</td> <td>   -6.053</td> <td> 0.000</td> <td>   -0.066</td> <td>   -0.033</td>\n",
       "</tr>\n",
       "<tr>\n",
       "  <th>ma.L3</th>  <td>   -0.0847</td> <td>    0.008</td> <td>  -10.308</td> <td> 0.000</td> <td>   -0.101</td> <td>   -0.069</td>\n",
       "</tr>\n",
       "<tr>\n",
       "  <th>ma.L4</th>  <td>    0.0488</td> <td>    0.009</td> <td>    5.615</td> <td> 0.000</td> <td>    0.032</td> <td>    0.066</td>\n",
       "</tr>\n",
       "<tr>\n",
       "  <th>ma.L5</th>  <td>   -0.0518</td> <td>    0.008</td> <td>   -6.304</td> <td> 0.000</td> <td>   -0.068</td> <td>   -0.036</td>\n",
       "</tr>\n",
       "<tr>\n",
       "  <th>ma.L6</th>  <td>   -0.0402</td> <td>    0.009</td> <td>   -4.411</td> <td> 0.000</td> <td>   -0.058</td> <td>   -0.022</td>\n",
       "</tr>\n",
       "<tr>\n",
       "  <th>ma.L7</th>  <td>    0.0083</td> <td>    0.009</td> <td>    0.938</td> <td> 0.348</td> <td>   -0.009</td> <td>    0.026</td>\n",
       "</tr>\n",
       "<tr>\n",
       "  <th>ma.L8</th>  <td>    0.0365</td> <td>    0.009</td> <td>    3.881</td> <td> 0.000</td> <td>    0.018</td> <td>    0.055</td>\n",
       "</tr>\n",
       "<tr>\n",
       "  <th>sigma2</th> <td>    1.3550</td> <td>    0.015</td> <td>   91.305</td> <td> 0.000</td> <td>    1.326</td> <td>    1.384</td>\n",
       "</tr>\n",
       "</table>\n",
       "<table class=\"simpletable\">\n",
       "<tr>\n",
       "  <th>Ljung-Box (L1) (Q):</th>     <td>0.00</td> <th>  Jarque-Bera (JB):  </th> <td>6440.47</td>\n",
       "</tr>\n",
       "<tr>\n",
       "  <th>Prob(Q):</th>                <td>0.99</td> <th>  Prob(JB):          </th>  <td>0.00</td>  \n",
       "</tr>\n",
       "<tr>\n",
       "  <th>Heteroskedasticity (H):</th> <td>2.00</td> <th>  Skew:              </th>  <td>-0.18</td> \n",
       "</tr>\n",
       "<tr>\n",
       "  <th>Prob(H) (two-sided):</th>    <td>0.00</td> <th>  Kurtosis:          </th>  <td>8.54</td>  \n",
       "</tr>\n",
       "</table><br/><br/>Warnings:<br/>[1] Covariance matrix calculated using the outer product of gradients (complex-step)."
      ],
      "text/plain": [
       "<class 'statsmodels.iolib.summary.Summary'>\n",
       "\"\"\"\n",
       "                               SARIMAX Results                                \n",
       "==============================================================================\n",
       "Dep. Variable:                returns   No. Observations:                 5020\n",
       "Model:                 ARIMA(0, 0, 8)   Log Likelihood               -7885.603\n",
       "Date:                Sat, 21 Nov 2020   AIC                          15791.205\n",
       "Time:                        22:57:52   BIC                          15856.417\n",
       "Sample:                    01-10-1994   HQIC                         15814.056\n",
       "                         - 04-05-2013                                         \n",
       "Covariance Type:                  opg                                         \n",
       "==============================================================================\n",
       "                 coef    std err          z      P>|z|      [0.025      0.975]\n",
       "------------------------------------------------------------------------------\n",
       "const          0.0189      0.015      1.253      0.210      -0.011       0.048\n",
       "ma.L1         -0.0238      0.009     -2.527      0.011      -0.042      -0.005\n",
       "ma.L2         -0.0495      0.008     -6.053      0.000      -0.066      -0.033\n",
       "ma.L3         -0.0847      0.008    -10.308      0.000      -0.101      -0.069\n",
       "ma.L4          0.0488      0.009      5.615      0.000       0.032       0.066\n",
       "ma.L5         -0.0518      0.008     -6.304      0.000      -0.068      -0.036\n",
       "ma.L6         -0.0402      0.009     -4.411      0.000      -0.058      -0.022\n",
       "ma.L7          0.0083      0.009      0.938      0.348      -0.009       0.026\n",
       "ma.L8          0.0365      0.009      3.881      0.000       0.018       0.055\n",
       "sigma2         1.3550      0.015     91.305      0.000       1.326       1.384\n",
       "===================================================================================\n",
       "Ljung-Box (L1) (Q):                   0.00   Jarque-Bera (JB):              6440.47\n",
       "Prob(Q):                              0.99   Prob(JB):                         0.00\n",
       "Heteroskedasticity (H):               2.00   Skew:                            -0.18\n",
       "Prob(H) (two-sided):                  0.00   Kurtosis:                         8.54\n",
       "===================================================================================\n",
       "\n",
       "Warnings:\n",
       "[1] Covariance matrix calculated using the outer product of gradients (complex-step).\n",
       "\"\"\""
      ]
     },
     "execution_count": 46,
     "metadata": {},
     "output_type": "execute_result"
    }
   ],
   "source": [
    "model_ret_ma_8 = ARIMA(df.returns[1:], order=(0,0,8))\n",
    "result_ret_ma_8 = model_ret_ma_8.fit()\n",
    "result_ret_ma_8.summary()"
   ]
  },
  {
   "cell_type": "markdown",
   "metadata": {},
   "source": [
    "As what we can observe, the p value for lags=8 is significant."
   ]
  },
  {
   "cell_type": "markdown",
   "metadata": {},
   "source": [
    "Now, we perform the LLR test of MA(6) and MA(8) to check if there's a significant improvement between both models. We here we choose `DF=2` because the difference between the number of parameters of MA(8) and MA(6) is 2. MA(8) has extra 2 parameters (or think of it as degree of freedom) than MA(6)!"
   ]
  },
  {
   "cell_type": "code",
   "execution_count": 47,
   "metadata": {},
   "outputs": [
    {
     "data": {
      "text/plain": [
       "0.027"
      ]
     },
     "execution_count": 47,
     "metadata": {},
     "output_type": "execute_result"
    }
   ],
   "source": [
    "LLR_test(model_ret_ma_6, model_ret_ma_8, 2)"
   ]
  },
  {
   "cell_type": "markdown",
   "metadata": {},
   "source": [
    "Here we observe that the p-value is 0.027 which indicates the more complicated model ie MA(8)  performs better than MA(6) using 5% significance."
   ]
  },
  {
   "cell_type": "markdown",
   "metadata": {},
   "source": [
    "## Residuals"
   ]
  },
  {
   "cell_type": "markdown",
   "metadata": {},
   "source": [
    "### Residuals analysis for MA(8)"
   ]
  },
  {
   "cell_type": "code",
   "execution_count": 49,
   "metadata": {},
   "outputs": [],
   "source": [
    "ma_8_res = result_ret_ma_8.resid"
   ]
  },
  {
   "cell_type": "code",
   "execution_count": 54,
   "metadata": {},
   "outputs": [
    {
     "name": "stdout",
     "output_type": "stream",
     "text": [
      "Mean: -0.0\n",
      "Variance: 1.3552546724934194\n"
     ]
    }
   ],
   "source": [
    "print(f\"Mean: {ma_8_res.mean().round(3)}\")\n",
    "print(f\"Variance: {ma_8_res.var()}\")"
   ]
  },
  {
   "cell_type": "code",
   "execution_count": 53,
   "metadata": {},
   "outputs": [
    {
     "name": "stdout",
     "output_type": "stream",
     "text": [
      "Standard Deviation: 1.1641540587454133\n"
     ]
    }
   ],
   "source": [
    "print(f\"Standard Deviation: {np.sqrt(ma_8_res.var())}\")"
   ]
  },
  {
   "cell_type": "code",
   "execution_count": 50,
   "metadata": {},
   "outputs": [
    {
     "data": {
      "text/plain": [
       "<AxesSubplot:>"
      ]
     },
     "execution_count": 50,
     "metadata": {},
     "output_type": "execute_result"
    },
    {
     "data": {
      "image/png": "[encoded data removed]",
      "text/plain": [
       "<Figure size 432x288 with 1 Axes>"
      ]
     },
     "metadata": {
      "needs_background": "light"
     },
     "output_type": "display_data"
    }
   ],
   "source": [
    "ma_8_res.hist()"
   ]
  },
  {
   "cell_type": "markdown",
   "metadata": {},
   "source": [
    "The white noise exerts the properties of normality. Hence we can use the 68,95,99.7 principle. It tells us the part of the data is spread within 1,2, and 3 standard deviaitons away from the mean in either directions."
   ]
  },
  {
   "cell_type": "markdown",
   "metadata": {},
   "source": [
    "Hence we can say that the most return residuals range from $[-3.5 \\space 3.5]$ (3 standard deviations from either directions 3*1.16)"
   ]
  },
  {
   "cell_type": "markdown",
   "metadata": {},
   "source": [
    "Which means that in the worst case scenario, we can be 7% off when perform the predictions."
   ]
  },
  {
   "cell_type": "markdown",
   "metadata": {},
   "source": [
    "To confirm that the residual is a white noise, we should plot out the graph to look at the pattern."
   ]
  },
  {
   "cell_type": "code",
   "execution_count": 56,
   "metadata": {},
   "outputs": [
    {
     "data": {
      "text/plain": [
       "<AxesSubplot:title={'center':'MA 8 Residuals'}, xlabel='date'>"
      ]
     },
     "execution_count": 56,
     "metadata": {},
     "output_type": "execute_result"
    },
    {
     "data": {
      "image/png": "[encoded data removed]",
      "text/plain": [
       "<Figure size 1440x288 with 1 Axes>"
      ]
     },
     "metadata": {
      "needs_background": "light"
     },
     "output_type": "display_data"
    }
   ],
   "source": [
    "ma_8_res.plot(title=\"MA 8 Residuals\", figsize=(20,4))"
   ]
  },
  {
   "cell_type": "markdown",
   "metadata": {},
   "source": [
    "We can confirm the stationarity of the residuals by performing the ADF test."
   ]
  },
  {
   "cell_type": "code",
   "execution_count": 57,
   "metadata": {},
   "outputs": [
    {
     "data": {
      "text/plain": [
       "(-70.83777222306064,\n",
       " 0.0,\n",
       " 0,\n",
       " 5019,\n",
       " {'1%': -3.4316535759402753,\n",
       "  '5%': -2.8621160400844468,\n",
       "  '10%': -2.567076626752987},\n",
       " 15689.88193568252)"
      ]
     },
     "execution_count": 57,
     "metadata": {},
     "output_type": "execute_result"
    }
   ],
   "source": [
    "sts.adfuller(ma_8_res)"
   ]
  },
  {
   "cell_type": "markdown",
   "metadata": {},
   "source": [
    "From the above results, we clearly see that the residuals are stationary. But a stationary series does not mean that it is a white noise. Thus we need examine the ACF of the residuals. The ACF of the residuals should be insignificant from zero."
   ]
  },
  {
   "cell_type": "code",
   "execution_count": 58,
   "metadata": {},
   "outputs": [
    {
     "data": {
      "image/png": "[encoded data removed]",
      "text/plain": [
       "<Figure size 432x288 with 1 Axes>"
      ]
     },
     "metadata": {
      "needs_background": "light"
     },
     "output_type": "display_data"
    }
   ],
   "source": [
    "sgt.plot_acf(ma_8_res, zero=False, lags=40)\n",
    "plt.title(\"ACF of Residuals for MA(8)\")\n",
    "plt.show()"
   ]
  },
  {
   "cell_type": "markdown",
   "metadata": {},
   "source": [
    "From the ACF graph above, we can observe that most of the lags (first 17 in particular) are insignificant from zeros."
   ]
  },
  {
   "cell_type": "markdown",
   "metadata": {},
   "source": [
    "### Residuals Analysis for MA(6)"
   ]
  },
  {
   "cell_type": "markdown",
   "metadata": {},
   "source": [
    "MA(6) is a simpler model compares to MA(8). Lets look at its performance."
   ]
  },
  {
   "cell_type": "code",
   "execution_count": 59,
   "metadata": {},
   "outputs": [],
   "source": [
    "ma_6_res = result_ret_ma_6.resid"
   ]
  },
  {
   "cell_type": "code",
   "execution_count": 60,
   "metadata": {},
   "outputs": [
    {
     "name": "stdout",
     "output_type": "stream",
     "text": [
      "Mean of MA(6) residuals:  -0.0\n",
      "Variance of MA(6) residuals:  1.357\n",
      "Std Deviation of MA(6) residuals:  1.1649941802774706\n"
     ]
    }
   ],
   "source": [
    "print(\"Mean of MA(6) residuals: \", ma_6_res.mean().round(3))\n",
    "print(\"Variance of MA(6) residuals: \", ma_6_res.var().round(3))\n",
    "print(\"Std Deviation of MA(6) residuals: \", np.sqrt(ma_6_res.var()))"
   ]
  },
  {
   "cell_type": "code",
   "execution_count": 62,
   "metadata": {},
   "outputs": [
    {
     "data": {
      "text/plain": [
       "<AxesSubplot:xlabel='date'>"
      ]
     },
     "execution_count": 62,
     "metadata": {},
     "output_type": "execute_result"
    },
    {
     "data": {
      "image/png": "[encoded data removed]",
      "text/plain": [
       "<Figure size 1440x288 with 1 Axes>"
      ]
     },
     "metadata": {
      "needs_background": "light"
     },
     "output_type": "display_data"
    }
   ],
   "source": [
    "ma_6_res.plot(figsize=(20,4))"
   ]
  },
  {
   "cell_type": "code",
   "execution_count": 63,
   "metadata": {},
   "outputs": [
    {
     "data": {
      "text/plain": [
       "(-70.84148865500472,\n",
       " 0.0,\n",
       " 0,\n",
       " 5019,\n",
       " {'1%': -3.4316535759402753,\n",
       "  '5%': -2.8621160400844468,\n",
       "  '10%': -2.567076626752987},\n",
       " 15697.059691586603)"
      ]
     },
     "execution_count": 63,
     "metadata": {},
     "output_type": "execute_result"
    }
   ],
   "source": [
    "sts.adfuller(ma_6_res)"
   ]
  },
  {
   "cell_type": "code",
   "execution_count": 64,
   "metadata": {},
   "outputs": [
    {
     "data": {
      "image/png": "[encoded data removed]",
      "text/plain": [
       "<Figure size 432x288 with 1 Axes>"
      ]
     },
     "metadata": {
      "needs_background": "light"
     },
     "output_type": "display_data"
    }
   ],
   "source": [
    "sgt.plot_acf(ma_6_res, zero=False, lags=40)\n",
    "plt.title(\"ACF of Residuals for MA(6)\")\n",
    "plt.show()"
   ]
  },
  {
   "cell_type": "code",
   "execution_count": null,
   "metadata": {},
   "outputs": [],
   "source": []
  }
 ],
 "metadata": {
  "kernelspec": {
   "display_name": "Python 3",
   "language": "python",
   "name": "python3"
  },
  "language_info": {
   "codemirror_mode": {
    "name": "ipython",
    "version": 3
   },
   "file_extension": ".py",
   "mimetype": "text/x-python",
   "name": "python",
   "nbconvert_exporter": "python",
   "pygments_lexer": "ipython3",
   "version": "3.9.0"
  }
 },
 "nbformat": 4,
 "nbformat_minor": 4
}
