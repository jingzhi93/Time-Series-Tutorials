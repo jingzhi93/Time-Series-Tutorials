{
 "cells": [
  {
   "cell_type": "code",
   "execution_count": 56,
   "metadata": {},
   "outputs": [],
   "source": [
    "import pandas as pd\n",
    "import numpy as np\n",
    "import statsmodels.graphics.tsaplots as sgt\n",
    "import statsmodels.tsa.stattools as sts\n",
    "import matplotlib.pyplot as plt\n",
    "from statsmodels.tsa.arima.model import ARIMA\n",
    "from scipy.stats.distributions import chi2"
   ]
  },
  {
   "cell_type": "markdown",
   "metadata": {},
   "source": [
    "## Read file from path"
   ]
  },
  {
   "cell_type": "code",
   "execution_count": 57,
   "metadata": {},
   "outputs": [],
   "source": [
    "raw = pd.read_csv(\"Index2018.csv\")\n",
    "df_comp = raw.copy()\n",
    "df_comp.date = pd.to_datetime(raw.date, dayfirst=True)\n",
    "df_comp.set_index(\"date\", inplace=True)\n",
    "df_comp = df_comp.asfreq('b')\n",
    "df_comp = df_comp.fillna(method=\"ffill\")"
   ]
  },
  {
   "cell_type": "code",
   "execution_count": 58,
   "metadata": {},
   "outputs": [],
   "source": [
    "df_comp['market_value'] = df_comp.ftse"
   ]
  },
  {
   "cell_type": "code",
   "execution_count": 59,
   "metadata": {},
   "outputs": [],
   "source": [
    "del df_comp['spx']\n",
    "del df_comp['dax']\n",
    "del df_comp['ftse']\n",
    "del df_comp['nikkei']\n",
    "\n",
    "size = int(len(df_comp)*0.8)\n",
    "df, df_test = df_comp.iloc[:size], df_comp.iloc[size:]"
   ]
  },
  {
   "cell_type": "markdown",
   "metadata": {},
   "source": [
    "## Calculate Returns"
   ]
  },
  {
   "cell_type": "code",
   "execution_count": 60,
   "metadata": {},
   "outputs": [
    {
     "name": "stderr",
     "output_type": "stream",
     "text": [
      "<ipython-input-60-c327943c3c15>:1: SettingWithCopyWarning: \n",
      "A value is trying to be set on a copy of a slice from a DataFrame.\n",
      "Try using .loc[row_indexer,col_indexer] = value instead\n",
      "\n",
      "See the caveats in the documentation: https://pandas.pydata.org/pandas-docs/stable/user_guide/indexing.html#returning-a-view-versus-a-copy\n",
      "  df['returns'] = df['market_value'].pct_change(1)\n"
     ]
    }
   ],
   "source": [
    "df['returns'] = df['market_value'].pct_change(1)"
   ]
  },
  {
   "cell_type": "code",
   "execution_count": 61,
   "metadata": {},
   "outputs": [
    {
     "name": "stderr",
     "output_type": "stream",
     "text": [
      "<ipython-input-61-946fbf27dbf6>:1: SettingWithCopyWarning: \n",
      "A value is trying to be set on a copy of a slice from a DataFrame.\n",
      "Try using .loc[row_indexer,col_indexer] = value instead\n",
      "\n",
      "See the caveats in the documentation: https://pandas.pydata.org/pandas-docs/stable/user_guide/indexing.html#returning-a-view-versus-a-copy\n",
      "  df['norm_returns'] = df['returns'].div(df['returns'].iloc[1])\n"
     ]
    }
   ],
   "source": [
    "df['norm_returns'] = df['returns'].div(df['returns'].iloc[1])"
   ]
  },
  {
   "cell_type": "markdown",
   "metadata": {},
   "source": [
    "## Model with MA"
   ]
  },
  {
   "cell_type": "markdown",
   "metadata": {},
   "source": [
    "### ACF and PACF Analysis"
   ]
  },
  {
   "cell_type": "code",
   "execution_count": 62,
   "metadata": {},
   "outputs": [
    {
     "data": {
      "image/png": "[encoded data removed]",
      "text/plain": [
       "<Figure size 432x288 with 1 Axes>"
      ]
     },
     "metadata": {
      "needs_background": "light"
     },
     "output_type": "display_data"
    }
   ],
   "source": [
    "sgt.plot_acf(df.norm_returns.dropna(),zero=False, lags=40)\n",
    "plt.title(\"ACF for Normalized Returns\")\n",
    "plt.show()"
   ]
  },
  {
   "cell_type": "markdown",
   "metadata": {},
   "source": [
    "### Model with MA(8)"
   ]
  },
  {
   "cell_type": "code",
   "execution_count": 63,
   "metadata": {},
   "outputs": [
    {
     "data": {
      "text/html": [
       "<table class=\"simpletable\">\n",
       "<caption>SARIMAX Results</caption>\n",
       "<tr>\n",
       "  <th>Dep. Variable:</th>     <td>norm_returns</td>   <th>  No. Observations:  </th>    <td>5021</td>   \n",
       "</tr>\n",
       "<tr>\n",
       "  <th>Model:</th>            <td>ARIMA(0, 0, 8)</td>  <th>  Log Likelihood     </th> <td>-17189.643</td>\n",
       "</tr>\n",
       "<tr>\n",
       "  <th>Date:</th>            <td>Mon, 23 Nov 2020</td> <th>  AIC                </th>  <td>34399.286</td>\n",
       "</tr>\n",
       "<tr>\n",
       "  <th>Time:</th>                <td>21:52:22</td>     <th>  BIC                </th>  <td>34464.499</td>\n",
       "</tr>\n",
       "<tr>\n",
       "  <th>Sample:</th>             <td>01-07-1994</td>    <th>  HQIC               </th>  <td>34422.137</td>\n",
       "</tr>\n",
       "<tr>\n",
       "  <th></th>                   <td>- 04-05-2013</td>   <th>                     </th>      <td> </td>    \n",
       "</tr>\n",
       "<tr>\n",
       "  <th>Covariance Type:</th>        <td>opg</td>       <th>                     </th>      <td> </td>    \n",
       "</tr>\n",
       "</table>\n",
       "<table class=\"simpletable\">\n",
       "<tr>\n",
       "     <td></td>       <th>coef</th>     <th>std err</th>      <th>z</th>      <th>P>|z|</th>  <th>[0.025</th>    <th>0.975]</th>  \n",
       "</tr>\n",
       "<tr>\n",
       "  <th>const</th>  <td>   -0.1204</td> <td>    0.096</td> <td>   -1.252</td> <td> 0.211</td> <td>   -0.309</td> <td>    0.068</td>\n",
       "</tr>\n",
       "<tr>\n",
       "  <th>ma.L1</th>  <td>   -0.0238</td> <td>    0.009</td> <td>   -2.527</td> <td> 0.012</td> <td>   -0.042</td> <td>   -0.005</td>\n",
       "</tr>\n",
       "<tr>\n",
       "  <th>ma.L2</th>  <td>   -0.0495</td> <td>    0.008</td> <td>   -6.053</td> <td> 0.000</td> <td>   -0.066</td> <td>   -0.033</td>\n",
       "</tr>\n",
       "<tr>\n",
       "  <th>ma.L3</th>  <td>   -0.0847</td> <td>    0.008</td> <td>  -10.310</td> <td> 0.000</td> <td>   -0.101</td> <td>   -0.069</td>\n",
       "</tr>\n",
       "<tr>\n",
       "  <th>ma.L4</th>  <td>    0.0488</td> <td>    0.009</td> <td>    5.614</td> <td> 0.000</td> <td>    0.032</td> <td>    0.066</td>\n",
       "</tr>\n",
       "<tr>\n",
       "  <th>ma.L5</th>  <td>   -0.0518</td> <td>    0.008</td> <td>   -6.304</td> <td> 0.000</td> <td>   -0.068</td> <td>   -0.036</td>\n",
       "</tr>\n",
       "<tr>\n",
       "  <th>ma.L6</th>  <td>   -0.0402</td> <td>    0.009</td> <td>   -4.410</td> <td> 0.000</td> <td>   -0.058</td> <td>   -0.022</td>\n",
       "</tr>\n",
       "<tr>\n",
       "  <th>ma.L7</th>  <td>    0.0084</td> <td>    0.009</td> <td>    0.938</td> <td> 0.348</td> <td>   -0.009</td> <td>    0.026</td>\n",
       "</tr>\n",
       "<tr>\n",
       "  <th>ma.L8</th>  <td>    0.0365</td> <td>    0.009</td> <td>    3.881</td> <td> 0.000</td> <td>    0.018</td> <td>    0.055</td>\n",
       "</tr>\n",
       "<tr>\n",
       "  <th>sigma2</th> <td>   55.1781</td> <td>    0.604</td> <td>   91.304</td> <td> 0.000</td> <td>   53.994</td> <td>   56.363</td>\n",
       "</tr>\n",
       "</table>\n",
       "<table class=\"simpletable\">\n",
       "<tr>\n",
       "  <th>Ljung-Box (L1) (Q):</th>     <td>0.00</td> <th>  Jarque-Bera (JB):  </th> <td>6445.64</td>\n",
       "</tr>\n",
       "<tr>\n",
       "  <th>Prob(Q):</th>                <td>0.99</td> <th>  Prob(JB):          </th>  <td>0.00</td>  \n",
       "</tr>\n",
       "<tr>\n",
       "  <th>Heteroskedasticity (H):</th> <td>2.00</td> <th>  Skew:              </th>  <td>0.18</td>  \n",
       "</tr>\n",
       "<tr>\n",
       "  <th>Prob(H) (two-sided):</th>    <td>0.00</td> <th>  Kurtosis:          </th>  <td>8.54</td>  \n",
       "</tr>\n",
       "</table><br/><br/>Warnings:<br/>[1] Covariance matrix calculated using the outer product of gradients (complex-step)."
      ],
      "text/plain": [
       "<class 'statsmodels.iolib.summary.Summary'>\n",
       "\"\"\"\n",
       "                               SARIMAX Results                                \n",
       "==============================================================================\n",
       "Dep. Variable:           norm_returns   No. Observations:                 5021\n",
       "Model:                 ARIMA(0, 0, 8)   Log Likelihood              -17189.643\n",
       "Date:                Mon, 23 Nov 2020   AIC                          34399.286\n",
       "Time:                        21:52:22   BIC                          34464.499\n",
       "Sample:                    01-07-1994   HQIC                         34422.137\n",
       "                         - 04-05-2013                                         \n",
       "Covariance Type:                  opg                                         \n",
       "==============================================================================\n",
       "                 coef    std err          z      P>|z|      [0.025      0.975]\n",
       "------------------------------------------------------------------------------\n",
       "const         -0.1204      0.096     -1.252      0.211      -0.309       0.068\n",
       "ma.L1         -0.0238      0.009     -2.527      0.012      -0.042      -0.005\n",
       "ma.L2         -0.0495      0.008     -6.053      0.000      -0.066      -0.033\n",
       "ma.L3         -0.0847      0.008    -10.310      0.000      -0.101      -0.069\n",
       "ma.L4          0.0488      0.009      5.614      0.000       0.032       0.066\n",
       "ma.L5         -0.0518      0.008     -6.304      0.000      -0.068      -0.036\n",
       "ma.L6         -0.0402      0.009     -4.410      0.000      -0.058      -0.022\n",
       "ma.L7          0.0084      0.009      0.938      0.348      -0.009       0.026\n",
       "ma.L8          0.0365      0.009      3.881      0.000       0.018       0.055\n",
       "sigma2        55.1781      0.604     91.304      0.000      53.994      56.363\n",
       "===================================================================================\n",
       "Ljung-Box (L1) (Q):                   0.00   Jarque-Bera (JB):              6445.64\n",
       "Prob(Q):                              0.99   Prob(JB):                         0.00\n",
       "Heteroskedasticity (H):               2.00   Skew:                             0.18\n",
       "Prob(H) (two-sided):                  0.00   Kurtosis:                         8.54\n",
       "===================================================================================\n",
       "\n",
       "Warnings:\n",
       "[1] Covariance matrix calculated using the outer product of gradients (complex-step).\n",
       "\"\"\""
      ]
     },
     "execution_count": 63,
     "metadata": {},
     "output_type": "execute_result"
    }
   ],
   "source": [
    "model_MA_8 = ARIMA(df.norm_returns, order=(0,0,8))\n",
    "result_MA_8 = model_MA_8.fit()\n",
    "result_MA_8.summary()"
   ]
  },
  {
   "cell_type": "markdown",
   "metadata": {},
   "source": [
    "It seems that the results we get are similar to what we have using non-normalized returns. Let us see if we are getting the same result for MA(6) using normalized returns."
   ]
  },
  {
   "cell_type": "markdown",
   "metadata": {},
   "source": [
    "## Modelling with MA(6)"
   ]
  },
  {
   "cell_type": "code",
   "execution_count": 64,
   "metadata": {},
   "outputs": [
    {
     "data": {
      "text/html": [
       "<table class=\"simpletable\">\n",
       "<caption>SARIMAX Results</caption>\n",
       "<tr>\n",
       "  <th>Dep. Variable:</th>     <td>norm_returns</td>   <th>  No. Observations:  </th>    <td>5021</td>   \n",
       "</tr>\n",
       "<tr>\n",
       "  <th>Model:</th>            <td>ARIMA(0, 0, 6)</td>  <th>  Log Likelihood     </th> <td>-17193.261</td>\n",
       "</tr>\n",
       "<tr>\n",
       "  <th>Date:</th>            <td>Mon, 23 Nov 2020</td> <th>  AIC                </th>  <td>34402.523</td>\n",
       "</tr>\n",
       "<tr>\n",
       "  <th>Time:</th>                <td>21:52:24</td>     <th>  BIC                </th>  <td>34454.694</td>\n",
       "</tr>\n",
       "<tr>\n",
       "  <th>Sample:</th>             <td>01-07-1994</td>    <th>  HQIC               </th>  <td>34420.804</td>\n",
       "</tr>\n",
       "<tr>\n",
       "  <th></th>                   <td>- 04-05-2013</td>   <th>                     </th>      <td> </td>    \n",
       "</tr>\n",
       "<tr>\n",
       "  <th>Covariance Type:</th>        <td>opg</td>       <th>                     </th>      <td> </td>    \n",
       "</tr>\n",
       "</table>\n",
       "<table class=\"simpletable\">\n",
       "<tr>\n",
       "     <td></td>       <th>coef</th>     <th>std err</th>      <th>z</th>      <th>P>|z|</th>  <th>[0.025</th>    <th>0.975]</th>  \n",
       "</tr>\n",
       "<tr>\n",
       "  <th>const</th>  <td>   -0.1206</td> <td>    0.092</td> <td>   -1.316</td> <td> 0.188</td> <td>   -0.300</td> <td>    0.059</td>\n",
       "</tr>\n",
       "<tr>\n",
       "  <th>ma.L1</th>  <td>   -0.0237</td> <td>    0.009</td> <td>   -2.561</td> <td> 0.010</td> <td>   -0.042</td> <td>   -0.006</td>\n",
       "</tr>\n",
       "<tr>\n",
       "  <th>ma.L2</th>  <td>   -0.0486</td> <td>    0.008</td> <td>   -5.982</td> <td> 0.000</td> <td>   -0.064</td> <td>   -0.033</td>\n",
       "</tr>\n",
       "<tr>\n",
       "  <th>ma.L3</th>  <td>   -0.0827</td> <td>    0.008</td> <td>  -10.179</td> <td> 0.000</td> <td>   -0.099</td> <td>   -0.067</td>\n",
       "</tr>\n",
       "<tr>\n",
       "  <th>ma.L4</th>  <td>    0.0466</td> <td>    0.009</td> <td>    5.387</td> <td> 0.000</td> <td>    0.030</td> <td>    0.064</td>\n",
       "</tr>\n",
       "<tr>\n",
       "  <th>ma.L5</th>  <td>   -0.0484</td> <td>    0.008</td> <td>   -5.989</td> <td> 0.000</td> <td>   -0.064</td> <td>   -0.033</td>\n",
       "</tr>\n",
       "<tr>\n",
       "  <th>ma.L6</th>  <td>   -0.0387</td> <td>    0.009</td> <td>   -4.319</td> <td> 0.000</td> <td>   -0.056</td> <td>   -0.021</td>\n",
       "</tr>\n",
       "<tr>\n",
       "  <th>sigma2</th> <td>   55.2566</td> <td>    0.599</td> <td>   92.180</td> <td> 0.000</td> <td>   54.082</td> <td>   56.431</td>\n",
       "</tr>\n",
       "</table>\n",
       "<table class=\"simpletable\">\n",
       "<tr>\n",
       "  <th>Ljung-Box (L1) (Q):</th>     <td>0.00</td> <th>  Jarque-Bera (JB):  </th> <td>6539.14</td>\n",
       "</tr>\n",
       "<tr>\n",
       "  <th>Prob(Q):</th>                <td>0.98</td> <th>  Prob(JB):          </th>  <td>0.00</td>  \n",
       "</tr>\n",
       "<tr>\n",
       "  <th>Heteroskedasticity (H):</th> <td>2.00</td> <th>  Skew:              </th>  <td>0.20</td>  \n",
       "</tr>\n",
       "<tr>\n",
       "  <th>Prob(H) (two-sided):</th>    <td>0.00</td> <th>  Kurtosis:          </th>  <td>8.58</td>  \n",
       "</tr>\n",
       "</table><br/><br/>Warnings:<br/>[1] Covariance matrix calculated using the outer product of gradients (complex-step)."
      ],
      "text/plain": [
       "<class 'statsmodels.iolib.summary.Summary'>\n",
       "\"\"\"\n",
       "                               SARIMAX Results                                \n",
       "==============================================================================\n",
       "Dep. Variable:           norm_returns   No. Observations:                 5021\n",
       "Model:                 ARIMA(0, 0, 6)   Log Likelihood              -17193.261\n",
       "Date:                Mon, 23 Nov 2020   AIC                          34402.523\n",
       "Time:                        21:52:24   BIC                          34454.694\n",
       "Sample:                    01-07-1994   HQIC                         34420.804\n",
       "                         - 04-05-2013                                         \n",
       "Covariance Type:                  opg                                         \n",
       "==============================================================================\n",
       "                 coef    std err          z      P>|z|      [0.025      0.975]\n",
       "------------------------------------------------------------------------------\n",
       "const         -0.1206      0.092     -1.316      0.188      -0.300       0.059\n",
       "ma.L1         -0.0237      0.009     -2.561      0.010      -0.042      -0.006\n",
       "ma.L2         -0.0486      0.008     -5.982      0.000      -0.064      -0.033\n",
       "ma.L3         -0.0827      0.008    -10.179      0.000      -0.099      -0.067\n",
       "ma.L4          0.0466      0.009      5.387      0.000       0.030       0.064\n",
       "ma.L5         -0.0484      0.008     -5.989      0.000      -0.064      -0.033\n",
       "ma.L6         -0.0387      0.009     -4.319      0.000      -0.056      -0.021\n",
       "sigma2        55.2566      0.599     92.180      0.000      54.082      56.431\n",
       "===================================================================================\n",
       "Ljung-Box (L1) (Q):                   0.00   Jarque-Bera (JB):              6539.14\n",
       "Prob(Q):                              0.98   Prob(JB):                         0.00\n",
       "Heteroskedasticity (H):               2.00   Skew:                             0.20\n",
       "Prob(H) (two-sided):                  0.00   Kurtosis:                         8.58\n",
       "===================================================================================\n",
       "\n",
       "Warnings:\n",
       "[1] Covariance matrix calculated using the outer product of gradients (complex-step).\n",
       "\"\"\""
      ]
     },
     "execution_count": 64,
     "metadata": {},
     "output_type": "execute_result"
    }
   ],
   "source": [
    "model_MA_6 = ARIMA(df.norm_returns,order=(0,0,6))\n",
    "result_MA_6 = model_MA_6.fit()\n",
    "result_MA_6.summary()"
   ]
  },
  {
   "cell_type": "markdown",
   "metadata": {},
   "source": [
    "Is MA(8) better than MA(6)? Let us find out with LLR Test"
   ]
  },
  {
   "cell_type": "code",
   "execution_count": 65,
   "metadata": {},
   "outputs": [],
   "source": [
    "def LLR_Test(model_1, model_2, DF=1):\n",
    "    llh_1 = model_1.fit().llf\n",
    "    llh_2 = model_2.fit().llf\n",
    "    diff = (2*(llh_2 - llh_1))\n",
    "    p = chi2.sf(diff, df=DF)\n",
    "    return p"
   ]
  },
  {
   "cell_type": "code",
   "execution_count": 66,
   "metadata": {},
   "outputs": [
    {
     "data": {
      "text/plain": [
       "0.02682288976867831"
      ]
     },
     "execution_count": 66,
     "metadata": {},
     "output_type": "execute_result"
    }
   ],
   "source": [
    "LLR_Test(model_MA_6, model_MA_8, DF=2)"
   ]
  },
  {
   "cell_type": "markdown",
   "metadata": {},
   "source": [
    "p value is 0.027, which means that MA(8) is significantly better than MA(6)"
   ]
  },
  {
   "cell_type": "markdown",
   "metadata": {},
   "source": [
    "## Residual Analysis for MA(8)"
   ]
  },
  {
   "cell_type": "code",
   "execution_count": 67,
   "metadata": {},
   "outputs": [],
   "source": [
    "MA_8_residuals = result_MA_8.resid"
   ]
  },
  {
   "cell_type": "code",
   "execution_count": 68,
   "metadata": {},
   "outputs": [
    {
     "data": {
      "image/png": "[encoded data removed]",
      "text/plain": [
       "<Figure size 1440x288 with 1 Axes>"
      ]
     },
     "metadata": {
      "needs_background": "light"
     },
     "output_type": "display_data"
    }
   ],
   "source": [
    "MA_8_residuals.plot(figsize=(20,4))\n",
    "plt.title(\"Residuals of MA(8)\")\n",
    "plt.show()"
   ]
  },
  {
   "cell_type": "code",
   "execution_count": 69,
   "metadata": {},
   "outputs": [
    {
     "name": "stdout",
     "output_type": "stream",
     "text": [
      "Mean of residuals for MA(8) is 0.00012314203326931219\n",
      "Std Dev of residuals for MA(8) is 7.428984459225109\n"
     ]
    }
   ],
   "source": [
    "print(f\"Mean of residuals for MA(8) is {MA_8_residuals.mean()}\")\n",
    "print(f\"Std Dev of residuals for MA(8) is {np.sqrt(MA_8_residuals.var())}\")"
   ]
  },
  {
   "cell_type": "code",
   "execution_count": 74,
   "metadata": {},
   "outputs": [
    {
     "data": {
      "text/plain": [
       "(-70.83788946104745,\n",
       " 0.0,\n",
       " 0,\n",
       " 5019,\n",
       " {'1%': -3.4316535759402753,\n",
       "  '5%': -2.8621160400844468,\n",
       "  '10%': -2.567076626752987},\n",
       " 34175.63847174012)"
      ]
     },
     "execution_count": 74,
     "metadata": {},
     "output_type": "execute_result"
    }
   ],
   "source": [
    "sts.adfuller(MA_8_residuals.dropna())"
   ]
  },
  {
   "cell_type": "code",
   "execution_count": 78,
   "metadata": {},
   "outputs": [
    {
     "data": {
      "image/png": "[encoded data removed]",
      "text/plain": [
       "<Figure size 432x288 with 1 Axes>"
      ]
     },
     "metadata": {
      "needs_background": "light"
     },
     "output_type": "display_data"
    }
   ],
   "source": [
    "sgt.plot_acf(MA_8_residuals.dropna(), zero=False, lags=40)\n",
    "plt.title(\"ACF for MA(8)\")\n",
    "plt.show()"
   ]
  }
 ],
 "metadata": {
  "kernelspec": {
   "display_name": "Python 3",
   "language": "python",
   "name": "python3"
  },
  "language_info": {
   "codemirror_mode": {
    "name": "ipython",
    "version": 3
   },
   "file_extension": ".py",
   "mimetype": "text/x-python",
   "name": "python",
   "nbconvert_exporter": "python",
   "pygments_lexer": "ipython3",
   "version": "3.9.0"
  }
 },
 "nbformat": 4,
 "nbformat_minor": 4
}
