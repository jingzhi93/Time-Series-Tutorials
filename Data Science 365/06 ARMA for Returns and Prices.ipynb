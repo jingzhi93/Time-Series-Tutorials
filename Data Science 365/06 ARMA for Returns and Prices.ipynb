{
 "cells": [
  {
   "cell_type": "markdown",
   "metadata": {},
   "source": [
    "## Import packages"
   ]
  },
  {
   "cell_type": "code",
   "execution_count": 1,
   "metadata": {},
   "outputs": [],
   "source": [
    "import pandas as pd\n",
    "import numpy as np\n",
    "import matplotlib.pyplot as plt\n",
    "import statsmodels.graphics.tsaplots as sgt\n",
    "import statsmodels.tsa.stattools as sts\n",
    "from statsmodels.tsa.seasonal import seasonal_decompose\n",
    "from statsmodels.tsa.arima.model import ARIMA\n",
    "from statsmodels.tsa.arima_model import ARMA\n",
    "from statsmodels.tsa.arima_process import ArmaProcess\n",
    "from scipy.stats.distributions import chi2\n",
    "from scipy.stats import chisquare\n",
    "from statsmodels.stats.proportion import proportions_chisquare\n",
    "import seaborn as sns"
   ]
  },
  {
   "cell_type": "markdown",
   "metadata": {},
   "source": [
    "## Import and Pre-process data"
   ]
  },
  {
   "cell_type": "code",
   "execution_count": 2,
   "metadata": {},
   "outputs": [],
   "source": [
    "raw = pd.read_csv(\"Index2018.csv\")\n",
    "df_comp = raw.copy()\n",
    "df_comp.date = pd.to_datetime(raw.date, dayfirst=True)\n",
    "df_comp.set_index(\"date\", inplace=True)\n",
    "df_comp = df_comp.asfreq('b')\n",
    "df_comp = df_comp.fillna(method=\"ffill\")"
   ]
  },
  {
   "cell_type": "code",
   "execution_count": 3,
   "metadata": {},
   "outputs": [],
   "source": [
    "df_comp['market_value'] = df_comp.ftse"
   ]
  },
  {
   "cell_type": "code",
   "execution_count": 4,
   "metadata": {},
   "outputs": [],
   "source": [
    "del df_comp['spx']\n",
    "del df_comp['dax']\n",
    "del df_comp['ftse']\n",
    "del df_comp['nikkei']\n",
    "\n",
    "size = int(len(df_comp)*0.8)\n",
    "df, df_test = df_comp.iloc[:size], df_comp.iloc[size:]"
   ]
  },
  {
   "cell_type": "markdown",
   "metadata": {},
   "source": [
    "## Creating Returns"
   ]
  },
  {
   "cell_type": "code",
   "execution_count": 5,
   "metadata": {},
   "outputs": [
    {
     "name": "stderr",
     "output_type": "stream",
     "text": [
      "<ipython-input-5-6f3746182e20>:1: SettingWithCopyWarning: \n",
      "A value is trying to be set on a copy of a slice from a DataFrame.\n",
      "Try using .loc[row_indexer,col_indexer] = value instead\n",
      "\n",
      "See the caveats in the documentation: https://pandas.pydata.org/pandas-docs/stable/user_guide/indexing.html#returning-a-view-versus-a-copy\n",
      "  df['returns'] = df.market_value.pct_change(1)*100\n"
     ]
    }
   ],
   "source": [
    "df['returns'] = df.market_value.pct_change(1)*100"
   ]
  },
  {
   "cell_type": "markdown",
   "metadata": {},
   "source": [
    "## ACF and PACF Plot"
   ]
  },
  {
   "cell_type": "code",
   "execution_count": 6,
   "metadata": {},
   "outputs": [
    {
     "data": {
      "image/png": "[encoded data removed]",
      "text/plain": [
       "<Figure size 432x288 with 1 Axes>"
      ]
     },
     "metadata": {
      "needs_background": "light"
     },
     "output_type": "display_data"
    }
   ],
   "source": [
    "sgt.plot_acf(df.returns.dropna(), zero=False, lags=40)\n",
    "plt.title(\"ACF of Returns\")\n",
    "plt.show()"
   ]
  },
  {
   "cell_type": "code",
   "execution_count": 7,
   "metadata": {},
   "outputs": [
    {
     "data": {
      "image/png": "[encoded data removed]",
      "text/plain": [
       "<Figure size 432x288 with 1 Axes>"
      ]
     },
     "metadata": {
      "needs_background": "light"
     },
     "output_type": "display_data"
    }
   ],
   "source": [
    "sgt.plot_pacf(df.returns.dropna(), zero=False, lags=40)\n",
    "plt.title(\"PACF of Returns\")\n",
    "plt.show()"
   ]
  },
  {
   "cell_type": "markdown",
   "metadata": {},
   "source": [
    "## Create LLR Test Function"
   ]
  },
  {
   "cell_type": "code",
   "execution_count": 8,
   "metadata": {},
   "outputs": [],
   "source": [
    "def LLR_test(mod1, mod2, df=1):\n",
    "    llf_mod1 = mod1.fit().llf\n",
    "    llf_mod2 = mod2.fit().llf\n",
    "    diff = (2*(llf_mod2- llf_mod1))\n",
    "    p = chi2.sf(diff, df=df).round(3)\n",
    "    return p"
   ]
  },
  {
   "cell_type": "markdown",
   "metadata": {},
   "source": [
    "## Models Creation"
   ]
  },
  {
   "cell_type": "markdown",
   "metadata": {},
   "source": [
    "### AR(1)"
   ]
  },
  {
   "cell_type": "code",
   "execution_count": 9,
   "metadata": {},
   "outputs": [
    {
     "data": {
      "text/html": [
       "<table class=\"simpletable\">\n",
       "<caption>SARIMAX Results</caption>\n",
       "<tr>\n",
       "  <th>Dep. Variable:</th>        <td>returns</td>     <th>  No. Observations:  </th>   <td>5020</td>   \n",
       "</tr>\n",
       "<tr>\n",
       "  <th>Model:</th>            <td>ARIMA(1, 0, 0)</td>  <th>  Log Likelihood     </th> <td>-7929.749</td>\n",
       "</tr>\n",
       "<tr>\n",
       "  <th>Date:</th>            <td>Sun, 29 Nov 2020</td> <th>  AIC                </th> <td>15865.497</td>\n",
       "</tr>\n",
       "<tr>\n",
       "  <th>Time:</th>                <td>18:32:10</td>     <th>  BIC                </th> <td>15885.061</td>\n",
       "</tr>\n",
       "<tr>\n",
       "  <th>Sample:</th>             <td>01-10-1994</td>    <th>  HQIC               </th> <td>15872.353</td>\n",
       "</tr>\n",
       "<tr>\n",
       "  <th></th>                   <td>- 04-05-2013</td>   <th>                     </th>     <td> </td>    \n",
       "</tr>\n",
       "<tr>\n",
       "  <th>Covariance Type:</th>        <td>opg</td>       <th>                     </th>     <td> </td>    \n",
       "</tr>\n",
       "</table>\n",
       "<table class=\"simpletable\">\n",
       "<tr>\n",
       "     <td></td>       <th>coef</th>     <th>std err</th>      <th>z</th>      <th>P>|z|</th>  <th>[0.025</th>    <th>0.975]</th>  \n",
       "</tr>\n",
       "<tr>\n",
       "  <th>const</th>  <td>    0.0188</td> <td>    0.016</td> <td>    1.143</td> <td> 0.253</td> <td>   -0.013</td> <td>    0.051</td>\n",
       "</tr>\n",
       "<tr>\n",
       "  <th>ar.L1</th>  <td>   -0.0230</td> <td>    0.009</td> <td>   -2.697</td> <td> 0.007</td> <td>   -0.040</td> <td>   -0.006</td>\n",
       "</tr>\n",
       "<tr>\n",
       "  <th>sigma2</th> <td>    1.3790</td> <td>    0.014</td> <td>  100.092</td> <td> 0.000</td> <td>    1.352</td> <td>    1.406</td>\n",
       "</tr>\n",
       "</table>\n",
       "<table class=\"simpletable\">\n",
       "<tr>\n",
       "  <th>Ljung-Box (L1) (Q):</th>     <td>0.01</td> <th>  Jarque-Bera (JB):  </th> <td>7872.72</td>\n",
       "</tr>\n",
       "<tr>\n",
       "  <th>Prob(Q):</th>                <td>0.93</td> <th>  Prob(JB):          </th>  <td>0.00</td>  \n",
       "</tr>\n",
       "<tr>\n",
       "  <th>Heteroskedasticity (H):</th> <td>2.04</td> <th>  Skew:              </th>  <td>-0.03</td> \n",
       "</tr>\n",
       "<tr>\n",
       "  <th>Prob(H) (two-sided):</th>    <td>0.00</td> <th>  Kurtosis:          </th>  <td>9.13</td>  \n",
       "</tr>\n",
       "</table><br/><br/>Warnings:<br/>[1] Covariance matrix calculated using the outer product of gradients (complex-step)."
      ],
      "text/plain": [
       "<class 'statsmodels.iolib.summary.Summary'>\n",
       "\"\"\"\n",
       "                               SARIMAX Results                                \n",
       "==============================================================================\n",
       "Dep. Variable:                returns   No. Observations:                 5020\n",
       "Model:                 ARIMA(1, 0, 0)   Log Likelihood               -7929.749\n",
       "Date:                Sun, 29 Nov 2020   AIC                          15865.497\n",
       "Time:                        18:32:10   BIC                          15885.061\n",
       "Sample:                    01-10-1994   HQIC                         15872.353\n",
       "                         - 04-05-2013                                         \n",
       "Covariance Type:                  opg                                         \n",
       "==============================================================================\n",
       "                 coef    std err          z      P>|z|      [0.025      0.975]\n",
       "------------------------------------------------------------------------------\n",
       "const          0.0188      0.016      1.143      0.253      -0.013       0.051\n",
       "ar.L1         -0.0230      0.009     -2.697      0.007      -0.040      -0.006\n",
       "sigma2         1.3790      0.014    100.092      0.000       1.352       1.406\n",
       "===================================================================================\n",
       "Ljung-Box (L1) (Q):                   0.01   Jarque-Bera (JB):              7872.72\n",
       "Prob(Q):                              0.93   Prob(JB):                         0.00\n",
       "Heteroskedasticity (H):               2.04   Skew:                            -0.03\n",
       "Prob(H) (two-sided):                  0.00   Kurtosis:                         9.13\n",
       "===================================================================================\n",
       "\n",
       "Warnings:\n",
       "[1] Covariance matrix calculated using the outer product of gradients (complex-step).\n",
       "\"\"\""
      ]
     },
     "execution_count": 9,
     "metadata": {},
     "output_type": "execute_result"
    }
   ],
   "source": [
    "returns = df.returns.dropna()\n",
    "model_ar_1 = ARIMA(returns, order=(1,0,0))\n",
    "result_ar_1 = model_ar_1.fit()\n",
    "result_ar_1.summary()"
   ]
  },
  {
   "cell_type": "markdown",
   "metadata": {},
   "source": [
    "### MA(1)"
   ]
  },
  {
   "cell_type": "code",
   "execution_count": 10,
   "metadata": {},
   "outputs": [
    {
     "data": {
      "text/html": [
       "<table class=\"simpletable\">\n",
       "<caption>SARIMAX Results</caption>\n",
       "<tr>\n",
       "  <th>Dep. Variable:</th>        <td>returns</td>     <th>  No. Observations:  </th>   <td>5020</td>   \n",
       "</tr>\n",
       "<tr>\n",
       "  <th>Model:</th>            <td>ARIMA(0, 0, 1)</td>  <th>  Log Likelihood     </th> <td>-7929.595</td>\n",
       "</tr>\n",
       "<tr>\n",
       "  <th>Date:</th>            <td>Sun, 29 Nov 2020</td> <th>  AIC                </th> <td>15865.190</td>\n",
       "</tr>\n",
       "<tr>\n",
       "  <th>Time:</th>                <td>18:32:11</td>     <th>  BIC                </th> <td>15884.754</td>\n",
       "</tr>\n",
       "<tr>\n",
       "  <th>Sample:</th>             <td>01-10-1994</td>    <th>  HQIC               </th> <td>15872.045</td>\n",
       "</tr>\n",
       "<tr>\n",
       "  <th></th>                   <td>- 04-05-2013</td>   <th>                     </th>     <td> </td>    \n",
       "</tr>\n",
       "<tr>\n",
       "  <th>Covariance Type:</th>        <td>opg</td>       <th>                     </th>     <td> </td>    \n",
       "</tr>\n",
       "</table>\n",
       "<table class=\"simpletable\">\n",
       "<tr>\n",
       "     <td></td>       <th>coef</th>     <th>std err</th>      <th>z</th>      <th>P>|z|</th>  <th>[0.025</th>    <th>0.975]</th>  \n",
       "</tr>\n",
       "<tr>\n",
       "  <th>const</th>  <td>    0.0188</td> <td>    0.016</td> <td>    1.146</td> <td> 0.252</td> <td>   -0.013</td> <td>    0.051</td>\n",
       "</tr>\n",
       "<tr>\n",
       "  <th>ma.L1</th>  <td>   -0.0257</td> <td>    0.009</td> <td>   -3.018</td> <td> 0.003</td> <td>   -0.042</td> <td>   -0.009</td>\n",
       "</tr>\n",
       "<tr>\n",
       "  <th>sigma2</th> <td>    1.3789</td> <td>    0.014</td> <td>   99.990</td> <td> 0.000</td> <td>    1.352</td> <td>    1.406</td>\n",
       "</tr>\n",
       "</table>\n",
       "<table class=\"simpletable\">\n",
       "<tr>\n",
       "  <th>Ljung-Box (L1) (Q):</th>     <td>0.01</td> <th>  Jarque-Bera (JB):  </th> <td>7852.85</td>\n",
       "</tr>\n",
       "<tr>\n",
       "  <th>Prob(Q):</th>                <td>0.92</td> <th>  Prob(JB):          </th>  <td>0.00</td>  \n",
       "</tr>\n",
       "<tr>\n",
       "  <th>Heteroskedasticity (H):</th> <td>2.04</td> <th>  Skew:              </th>  <td>-0.03</td> \n",
       "</tr>\n",
       "<tr>\n",
       "  <th>Prob(H) (two-sided):</th>    <td>0.00</td> <th>  Kurtosis:          </th>  <td>9.13</td>  \n",
       "</tr>\n",
       "</table><br/><br/>Warnings:<br/>[1] Covariance matrix calculated using the outer product of gradients (complex-step)."
      ],
      "text/plain": [
       "<class 'statsmodels.iolib.summary.Summary'>\n",
       "\"\"\"\n",
       "                               SARIMAX Results                                \n",
       "==============================================================================\n",
       "Dep. Variable:                returns   No. Observations:                 5020\n",
       "Model:                 ARIMA(0, 0, 1)   Log Likelihood               -7929.595\n",
       "Date:                Sun, 29 Nov 2020   AIC                          15865.190\n",
       "Time:                        18:32:11   BIC                          15884.754\n",
       "Sample:                    01-10-1994   HQIC                         15872.045\n",
       "                         - 04-05-2013                                         \n",
       "Covariance Type:                  opg                                         \n",
       "==============================================================================\n",
       "                 coef    std err          z      P>|z|      [0.025      0.975]\n",
       "------------------------------------------------------------------------------\n",
       "const          0.0188      0.016      1.146      0.252      -0.013       0.051\n",
       "ma.L1         -0.0257      0.009     -3.018      0.003      -0.042      -0.009\n",
       "sigma2         1.3789      0.014     99.990      0.000       1.352       1.406\n",
       "===================================================================================\n",
       "Ljung-Box (L1) (Q):                   0.01   Jarque-Bera (JB):              7852.85\n",
       "Prob(Q):                              0.92   Prob(JB):                         0.00\n",
       "Heteroskedasticity (H):               2.04   Skew:                            -0.03\n",
       "Prob(H) (two-sided):                  0.00   Kurtosis:                         9.13\n",
       "===================================================================================\n",
       "\n",
       "Warnings:\n",
       "[1] Covariance matrix calculated using the outer product of gradients (complex-step).\n",
       "\"\"\""
      ]
     },
     "execution_count": 10,
     "metadata": {},
     "output_type": "execute_result"
    }
   ],
   "source": [
    "model_ma_1 = ARIMA(returns, order=(0,0,1))\n",
    "result_ma_1 = model_ma_1.fit()\n",
    "result_ma_1.summary()"
   ]
  },
  {
   "cell_type": "markdown",
   "metadata": {},
   "source": [
    "## ARMA(1,1)"
   ]
  },
  {
   "cell_type": "code",
   "execution_count": 11,
   "metadata": {},
   "outputs": [
    {
     "name": "stderr",
     "output_type": "stream",
     "text": [
      "D:\\anaconda3\\envs\\time-series-tutorials\\lib\\site-packages\\statsmodels\\tsa\\statespace\\sarimax.py:966: UserWarning: Non-stationary starting autoregressive parameters found. Using zeros as starting parameters.\n",
      "  warn('Non-stationary starting autoregressive parameters'\n",
      "D:\\anaconda3\\envs\\time-series-tutorials\\lib\\site-packages\\statsmodels\\tsa\\statespace\\sarimax.py:978: UserWarning: Non-invertible starting MA parameters found. Using zeros as starting parameters.\n",
      "  warn('Non-invertible starting MA parameters found.'\n"
     ]
    },
    {
     "data": {
      "text/html": [
       "<table class=\"simpletable\">\n",
       "<caption>SARIMAX Results</caption>\n",
       "<tr>\n",
       "  <th>Dep. Variable:</th>        <td>returns</td>     <th>  No. Observations:  </th>   <td>5020</td>   \n",
       "</tr>\n",
       "<tr>\n",
       "  <th>Model:</th>            <td>ARIMA(1, 0, 1)</td>  <th>  Log Likelihood     </th> <td>-7916.500</td>\n",
       "</tr>\n",
       "<tr>\n",
       "  <th>Date:</th>            <td>Sun, 29 Nov 2020</td> <th>  AIC                </th> <td>15841.000</td>\n",
       "</tr>\n",
       "<tr>\n",
       "  <th>Time:</th>                <td>18:32:12</td>     <th>  BIC                </th> <td>15867.085</td>\n",
       "</tr>\n",
       "<tr>\n",
       "  <th>Sample:</th>             <td>01-10-1994</td>    <th>  HQIC               </th> <td>15850.140</td>\n",
       "</tr>\n",
       "<tr>\n",
       "  <th></th>                   <td>- 04-05-2013</td>   <th>                     </th>     <td> </td>    \n",
       "</tr>\n",
       "<tr>\n",
       "  <th>Covariance Type:</th>        <td>opg</td>       <th>                     </th>     <td> </td>    \n",
       "</tr>\n",
       "</table>\n",
       "<table class=\"simpletable\">\n",
       "<tr>\n",
       "     <td></td>       <th>coef</th>     <th>std err</th>      <th>z</th>      <th>P>|z|</th>  <th>[0.025</th>    <th>0.975]</th>  \n",
       "</tr>\n",
       "<tr>\n",
       "  <th>const</th>  <td>    0.0189</td> <td>    0.015</td> <td>    1.290</td> <td> 0.197</td> <td>   -0.010</td> <td>    0.048</td>\n",
       "</tr>\n",
       "<tr>\n",
       "  <th>ar.L1</th>  <td>    0.7650</td> <td>    0.045</td> <td>   16.995</td> <td> 0.000</td> <td>    0.677</td> <td>    0.853</td>\n",
       "</tr>\n",
       "<tr>\n",
       "  <th>ma.L1</th>  <td>   -0.8142</td> <td>    0.040</td> <td>  -20.187</td> <td> 0.000</td> <td>   -0.893</td> <td>   -0.735</td>\n",
       "</tr>\n",
       "<tr>\n",
       "  <th>sigma2</th> <td>    1.3718</td> <td>    0.014</td> <td>   98.110</td> <td> 0.000</td> <td>    1.344</td> <td>    1.399</td>\n",
       "</tr>\n",
       "</table>\n",
       "<table class=\"simpletable\">\n",
       "<tr>\n",
       "  <th>Ljung-Box (L1) (Q):</th>     <td>2.06</td> <th>  Jarque-Bera (JB):  </th> <td>7488.92</td>\n",
       "</tr>\n",
       "<tr>\n",
       "  <th>Prob(Q):</th>                <td>0.15</td> <th>  Prob(JB):          </th>  <td>0.00</td>  \n",
       "</tr>\n",
       "<tr>\n",
       "  <th>Heteroskedasticity (H):</th> <td>2.03</td> <th>  Skew:              </th>  <td>-0.18</td> \n",
       "</tr>\n",
       "<tr>\n",
       "  <th>Prob(H) (two-sided):</th>    <td>0.00</td> <th>  Kurtosis:          </th>  <td>8.97</td>  \n",
       "</tr>\n",
       "</table><br/><br/>Warnings:<br/>[1] Covariance matrix calculated using the outer product of gradients (complex-step)."
      ],
      "text/plain": [
       "<class 'statsmodels.iolib.summary.Summary'>\n",
       "\"\"\"\n",
       "                               SARIMAX Results                                \n",
       "==============================================================================\n",
       "Dep. Variable:                returns   No. Observations:                 5020\n",
       "Model:                 ARIMA(1, 0, 1)   Log Likelihood               -7916.500\n",
       "Date:                Sun, 29 Nov 2020   AIC                          15841.000\n",
       "Time:                        18:32:12   BIC                          15867.085\n",
       "Sample:                    01-10-1994   HQIC                         15850.140\n",
       "                         - 04-05-2013                                         \n",
       "Covariance Type:                  opg                                         \n",
       "==============================================================================\n",
       "                 coef    std err          z      P>|z|      [0.025      0.975]\n",
       "------------------------------------------------------------------------------\n",
       "const          0.0189      0.015      1.290      0.197      -0.010       0.048\n",
       "ar.L1          0.7650      0.045     16.995      0.000       0.677       0.853\n",
       "ma.L1         -0.8142      0.040    -20.187      0.000      -0.893      -0.735\n",
       "sigma2         1.3718      0.014     98.110      0.000       1.344       1.399\n",
       "===================================================================================\n",
       "Ljung-Box (L1) (Q):                   2.06   Jarque-Bera (JB):              7488.92\n",
       "Prob(Q):                              0.15   Prob(JB):                         0.00\n",
       "Heteroskedasticity (H):               2.03   Skew:                            -0.18\n",
       "Prob(H) (two-sided):                  0.00   Kurtosis:                         8.97\n",
       "===================================================================================\n",
       "\n",
       "Warnings:\n",
       "[1] Covariance matrix calculated using the outer product of gradients (complex-step).\n",
       "\"\"\""
      ]
     },
     "execution_count": 11,
     "metadata": {},
     "output_type": "execute_result"
    }
   ],
   "source": [
    "model_arma_1_1 = ARIMA(returns, order=(1,0,1))\n",
    "result_arma_1_1 = model_arma_1_1.fit()\n",
    "result_arma_1_1.summary()"
   ]
  },
  {
   "cell_type": "code",
   "execution_count": 12,
   "metadata": {},
   "outputs": [
    {
     "name": "stderr",
     "output_type": "stream",
     "text": [
      "D:\\anaconda3\\envs\\time-series-tutorials\\lib\\site-packages\\statsmodels\\tsa\\statespace\\sarimax.py:966: UserWarning: Non-stationary starting autoregressive parameters found. Using zeros as starting parameters.\n",
      "  warn('Non-stationary starting autoregressive parameters'\n",
      "D:\\anaconda3\\envs\\time-series-tutorials\\lib\\site-packages\\statsmodels\\tsa\\statespace\\sarimax.py:978: UserWarning: Non-invertible starting MA parameters found. Using zeros as starting parameters.\n",
      "  warn('Non-invertible starting MA parameters found.'\n"
     ]
    },
    {
     "name": "stdout",
     "output_type": "stream",
     "text": [
      "AR(1) vs ARMA(1,1) 0.0\n",
      "MA(1) vs ARMA(1,1) 0.0\n"
     ]
    }
   ],
   "source": [
    "print(f\"AR(1) vs ARMA(1,1) {LLR_test(model_ar_1, model_arma_1_1)}\")\n",
    "print(f\"MA(1) vs ARMA(1,1) {LLR_test(model_ma_1, model_arma_1_1)}\")"
   ]
  },
  {
   "cell_type": "markdown",
   "metadata": {},
   "source": [
    "It's shown that ARMA is significantly better than AR and MA models."
   ]
  },
  {
   "cell_type": "markdown",
   "metadata": {},
   "source": [
    "From the ACF and PACF graph, it is shown that AR (p=6) and MA (q=8)."
   ]
  },
  {
   "cell_type": "code",
   "execution_count": 13,
   "metadata": {},
   "outputs": [
    {
     "name": "stderr",
     "output_type": "stream",
     "text": [
      "D:\\anaconda3\\envs\\time-series-tutorials\\lib\\site-packages\\statsmodels\\base\\model.py:566: ConvergenceWarning: Maximum Likelihood optimization failed to converge. Check mle_retvals\n",
      "  warnings.warn(\"Maximum Likelihood optimization failed to \"\n"
     ]
    },
    {
     "data": {
      "text/html": [
       "<table class=\"simpletable\">\n",
       "<caption>SARIMAX Results</caption>\n",
       "<tr>\n",
       "  <th>Dep. Variable:</th>        <td>returns</td>     <th>  No. Observations:  </th>   <td>5020</td>   \n",
       "</tr>\n",
       "<tr>\n",
       "  <th>Model:</th>            <td>ARIMA(6, 0, 8)</td>  <th>  Log Likelihood     </th> <td>-7881.970</td>\n",
       "</tr>\n",
       "<tr>\n",
       "  <th>Date:</th>            <td>Sun, 29 Nov 2020</td> <th>  AIC                </th> <td>15795.940</td>\n",
       "</tr>\n",
       "<tr>\n",
       "  <th>Time:</th>                <td>18:32:28</td>     <th>  BIC                </th> <td>15900.279</td>\n",
       "</tr>\n",
       "<tr>\n",
       "  <th>Sample:</th>             <td>01-10-1994</td>    <th>  HQIC               </th> <td>15832.502</td>\n",
       "</tr>\n",
       "<tr>\n",
       "  <th></th>                   <td>- 04-05-2013</td>   <th>                     </th>     <td> </td>    \n",
       "</tr>\n",
       "<tr>\n",
       "  <th>Covariance Type:</th>        <td>opg</td>       <th>                     </th>     <td> </td>    \n",
       "</tr>\n",
       "</table>\n",
       "<table class=\"simpletable\">\n",
       "<tr>\n",
       "     <td></td>       <th>coef</th>     <th>std err</th>      <th>z</th>      <th>P>|z|</th>  <th>[0.025</th>    <th>0.975]</th>  \n",
       "</tr>\n",
       "<tr>\n",
       "  <th>const</th>  <td>    0.0190</td> <td>    0.015</td> <td>    1.285</td> <td> 0.199</td> <td>   -0.010</td> <td>    0.048</td>\n",
       "</tr>\n",
       "<tr>\n",
       "  <th>ar.L1</th>  <td>   -0.3089</td> <td>    0.137</td> <td>   -2.248</td> <td> 0.025</td> <td>   -0.578</td> <td>   -0.040</td>\n",
       "</tr>\n",
       "<tr>\n",
       "  <th>ar.L2</th>  <td>   -0.5335</td> <td>    0.114</td> <td>   -4.687</td> <td> 0.000</td> <td>   -0.757</td> <td>   -0.310</td>\n",
       "</tr>\n",
       "<tr>\n",
       "  <th>ar.L3</th>  <td>    0.4880</td> <td>    0.151</td> <td>    3.241</td> <td> 0.001</td> <td>    0.193</td> <td>    0.783</td>\n",
       "</tr>\n",
       "<tr>\n",
       "  <th>ar.L4</th>  <td>    0.1579</td> <td>    0.091</td> <td>    1.726</td> <td> 0.084</td> <td>   -0.021</td> <td>    0.337</td>\n",
       "</tr>\n",
       "<tr>\n",
       "  <th>ar.L5</th>  <td>    0.6965</td> <td>    0.080</td> <td>    8.721</td> <td> 0.000</td> <td>    0.540</td> <td>    0.853</td>\n",
       "</tr>\n",
       "<tr>\n",
       "  <th>ar.L6</th>  <td>    0.2014</td> <td>    0.079</td> <td>    2.548</td> <td> 0.011</td> <td>    0.047</td> <td>    0.356</td>\n",
       "</tr>\n",
       "<tr>\n",
       "  <th>ma.L1</th>  <td>    0.2849</td> <td>    0.137</td> <td>    2.072</td> <td> 0.038</td> <td>    0.015</td> <td>    0.554</td>\n",
       "</tr>\n",
       "<tr>\n",
       "  <th>ma.L2</th>  <td>    0.4770</td> <td>    0.114</td> <td>    4.196</td> <td> 0.000</td> <td>    0.254</td> <td>    0.700</td>\n",
       "</tr>\n",
       "<tr>\n",
       "  <th>ma.L3</th>  <td>   -0.6007</td> <td>    0.145</td> <td>   -4.134</td> <td> 0.000</td> <td>   -0.886</td> <td>   -0.316</td>\n",
       "</tr>\n",
       "<tr>\n",
       "  <th>ma.L4</th>  <td>   -0.1491</td> <td>    0.093</td> <td>   -1.607</td> <td> 0.108</td> <td>   -0.331</td> <td>    0.033</td>\n",
       "</tr>\n",
       "<tr>\n",
       "  <th>ma.L5</th>  <td>   -0.7436</td> <td>    0.077</td> <td>   -9.712</td> <td> 0.000</td> <td>   -0.894</td> <td>   -0.594</td>\n",
       "</tr>\n",
       "<tr>\n",
       "  <th>ma.L6</th>  <td>   -0.1563</td> <td>    0.084</td> <td>   -1.856</td> <td> 0.064</td> <td>   -0.321</td> <td>    0.009</td>\n",
       "</tr>\n",
       "<tr>\n",
       "  <th>ma.L7</th>  <td>    0.0106</td> <td>    0.015</td> <td>    0.714</td> <td> 0.475</td> <td>   -0.018</td> <td>    0.040</td>\n",
       "</tr>\n",
       "<tr>\n",
       "  <th>ma.L8</th>  <td>    0.1007</td> <td>    0.016</td> <td>    6.418</td> <td> 0.000</td> <td>    0.070</td> <td>    0.131</td>\n",
       "</tr>\n",
       "<tr>\n",
       "  <th>sigma2</th> <td>    1.3532</td> <td>    0.015</td> <td>   91.150</td> <td> 0.000</td> <td>    1.324</td> <td>    1.382</td>\n",
       "</tr>\n",
       "</table>\n",
       "<table class=\"simpletable\">\n",
       "<tr>\n",
       "  <th>Ljung-Box (L1) (Q):</th>     <td>0.00</td> <th>  Jarque-Bera (JB):  </th> <td>6517.09</td>\n",
       "</tr>\n",
       "<tr>\n",
       "  <th>Prob(Q):</th>                <td>1.00</td> <th>  Prob(JB):          </th>  <td>0.00</td>  \n",
       "</tr>\n",
       "<tr>\n",
       "  <th>Heteroskedasticity (H):</th> <td>1.99</td> <th>  Skew:              </th>  <td>-0.22</td> \n",
       "</tr>\n",
       "<tr>\n",
       "  <th>Prob(H) (two-sided):</th>    <td>0.00</td> <th>  Kurtosis:          </th>  <td>8.56</td>  \n",
       "</tr>\n",
       "</table><br/><br/>Warnings:<br/>[1] Covariance matrix calculated using the outer product of gradients (complex-step)."
      ],
      "text/plain": [
       "<class 'statsmodels.iolib.summary.Summary'>\n",
       "\"\"\"\n",
       "                               SARIMAX Results                                \n",
       "==============================================================================\n",
       "Dep. Variable:                returns   No. Observations:                 5020\n",
       "Model:                 ARIMA(6, 0, 8)   Log Likelihood               -7881.970\n",
       "Date:                Sun, 29 Nov 2020   AIC                          15795.940\n",
       "Time:                        18:32:28   BIC                          15900.279\n",
       "Sample:                    01-10-1994   HQIC                         15832.502\n",
       "                         - 04-05-2013                                         \n",
       "Covariance Type:                  opg                                         \n",
       "==============================================================================\n",
       "                 coef    std err          z      P>|z|      [0.025      0.975]\n",
       "------------------------------------------------------------------------------\n",
       "const          0.0190      0.015      1.285      0.199      -0.010       0.048\n",
       "ar.L1         -0.3089      0.137     -2.248      0.025      -0.578      -0.040\n",
       "ar.L2         -0.5335      0.114     -4.687      0.000      -0.757      -0.310\n",
       "ar.L3          0.4880      0.151      3.241      0.001       0.193       0.783\n",
       "ar.L4          0.1579      0.091      1.726      0.084      -0.021       0.337\n",
       "ar.L5          0.6965      0.080      8.721      0.000       0.540       0.853\n",
       "ar.L6          0.2014      0.079      2.548      0.011       0.047       0.356\n",
       "ma.L1          0.2849      0.137      2.072      0.038       0.015       0.554\n",
       "ma.L2          0.4770      0.114      4.196      0.000       0.254       0.700\n",
       "ma.L3         -0.6007      0.145     -4.134      0.000      -0.886      -0.316\n",
       "ma.L4         -0.1491      0.093     -1.607      0.108      -0.331       0.033\n",
       "ma.L5         -0.7436      0.077     -9.712      0.000      -0.894      -0.594\n",
       "ma.L6         -0.1563      0.084     -1.856      0.064      -0.321       0.009\n",
       "ma.L7          0.0106      0.015      0.714      0.475      -0.018       0.040\n",
       "ma.L8          0.1007      0.016      6.418      0.000       0.070       0.131\n",
       "sigma2         1.3532      0.015     91.150      0.000       1.324       1.382\n",
       "===================================================================================\n",
       "Ljung-Box (L1) (Q):                   0.00   Jarque-Bera (JB):              6517.09\n",
       "Prob(Q):                              1.00   Prob(JB):                         0.00\n",
       "Heteroskedasticity (H):               1.99   Skew:                            -0.22\n",
       "Prob(H) (two-sided):                  0.00   Kurtosis:                         8.56\n",
       "===================================================================================\n",
       "\n",
       "Warnings:\n",
       "[1] Covariance matrix calculated using the outer product of gradients (complex-step).\n",
       "\"\"\""
      ]
     },
     "execution_count": 13,
     "metadata": {},
     "output_type": "execute_result"
    }
   ],
   "source": [
    "model_arma_6_8 = ARIMA(returns, order=(6,0,8))\n",
    "result_arma_6_8 = model_arma_6_8.fit()\n",
    "result_arma_6_8.summary()"
   ]
  },
  {
   "cell_type": "markdown",
   "metadata": {},
   "source": [
    "From the p values, we can observe that some of the coefficients are insignificant from zero. We can reduce the size of parameters to half, which is ARMA(3,3)."
   ]
  },
  {
   "cell_type": "code",
   "execution_count": 14,
   "metadata": {},
   "outputs": [
    {
     "data": {
      "text/html": [
       "<table class=\"simpletable\">\n",
       "<caption>SARIMAX Results</caption>\n",
       "<tr>\n",
       "  <th>Dep. Variable:</th>        <td>returns</td>     <th>  No. Observations:  </th>   <td>5020</td>   \n",
       "</tr>\n",
       "<tr>\n",
       "  <th>Model:</th>            <td>ARIMA(3, 0, 3)</td>  <th>  Log Likelihood     </th> <td>-7893.515</td>\n",
       "</tr>\n",
       "<tr>\n",
       "  <th>Date:</th>            <td>Sun, 29 Nov 2020</td> <th>  AIC                </th> <td>15803.030</td>\n",
       "</tr>\n",
       "<tr>\n",
       "  <th>Time:</th>                <td>18:32:31</td>     <th>  BIC                </th> <td>15855.200</td>\n",
       "</tr>\n",
       "<tr>\n",
       "  <th>Sample:</th>             <td>01-10-1994</td>    <th>  HQIC               </th> <td>15821.311</td>\n",
       "</tr>\n",
       "<tr>\n",
       "  <th></th>                   <td>- 04-05-2013</td>   <th>                     </th>     <td> </td>    \n",
       "</tr>\n",
       "<tr>\n",
       "  <th>Covariance Type:</th>        <td>opg</td>       <th>                     </th>     <td> </td>    \n",
       "</tr>\n",
       "</table>\n",
       "<table class=\"simpletable\">\n",
       "<tr>\n",
       "     <td></td>       <th>coef</th>     <th>std err</th>      <th>z</th>      <th>P>|z|</th>  <th>[0.025</th>    <th>0.975]</th>  \n",
       "</tr>\n",
       "<tr>\n",
       "  <th>const</th>  <td>    0.0189</td> <td>    0.015</td> <td>    1.281</td> <td> 0.200</td> <td>   -0.010</td> <td>    0.048</td>\n",
       "</tr>\n",
       "<tr>\n",
       "  <th>ar.L1</th>  <td>   -0.1880</td> <td>    0.068</td> <td>   -2.780</td> <td> 0.005</td> <td>   -0.321</td> <td>   -0.055</td>\n",
       "</tr>\n",
       "<tr>\n",
       "  <th>ar.L2</th>  <td>   -0.2926</td> <td>    0.054</td> <td>   -5.380</td> <td> 0.000</td> <td>   -0.399</td> <td>   -0.186</td>\n",
       "</tr>\n",
       "<tr>\n",
       "  <th>ar.L3</th>  <td>    0.4469</td> <td>    0.062</td> <td>    7.253</td> <td> 0.000</td> <td>    0.326</td> <td>    0.568</td>\n",
       "</tr>\n",
       "<tr>\n",
       "  <th>ma.L1</th>  <td>    0.1690</td> <td>    0.063</td> <td>    2.686</td> <td> 0.007</td> <td>    0.046</td> <td>    0.292</td>\n",
       "</tr>\n",
       "<tr>\n",
       "  <th>ma.L2</th>  <td>    0.2260</td> <td>    0.052</td> <td>    4.328</td> <td> 0.000</td> <td>    0.124</td> <td>    0.328</td>\n",
       "</tr>\n",
       "<tr>\n",
       "  <th>ma.L3</th>  <td>   -0.5442</td> <td>    0.056</td> <td>   -9.632</td> <td> 0.000</td> <td>   -0.655</td> <td>   -0.433</td>\n",
       "</tr>\n",
       "<tr>\n",
       "  <th>sigma2</th> <td>    1.3591</td> <td>    0.015</td> <td>   92.543</td> <td> 0.000</td> <td>    1.330</td> <td>    1.388</td>\n",
       "</tr>\n",
       "</table>\n",
       "<table class=\"simpletable\">\n",
       "<tr>\n",
       "  <th>Ljung-Box (L1) (Q):</th>     <td>0.18</td> <th>  Jarque-Bera (JB):  </th> <td>6862.43</td>\n",
       "</tr>\n",
       "<tr>\n",
       "  <th>Prob(Q):</th>                <td>0.67</td> <th>  Prob(JB):          </th>  <td>0.00</td>  \n",
       "</tr>\n",
       "<tr>\n",
       "  <th>Heteroskedasticity (H):</th> <td>2.00</td> <th>  Skew:              </th>  <td>-0.17</td> \n",
       "</tr>\n",
       "<tr>\n",
       "  <th>Prob(H) (two-sided):</th>    <td>0.00</td> <th>  Kurtosis:          </th>  <td>8.72</td>  \n",
       "</tr>\n",
       "</table><br/><br/>Warnings:<br/>[1] Covariance matrix calculated using the outer product of gradients (complex-step)."
      ],
      "text/plain": [
       "<class 'statsmodels.iolib.summary.Summary'>\n",
       "\"\"\"\n",
       "                               SARIMAX Results                                \n",
       "==============================================================================\n",
       "Dep. Variable:                returns   No. Observations:                 5020\n",
       "Model:                 ARIMA(3, 0, 3)   Log Likelihood               -7893.515\n",
       "Date:                Sun, 29 Nov 2020   AIC                          15803.030\n",
       "Time:                        18:32:31   BIC                          15855.200\n",
       "Sample:                    01-10-1994   HQIC                         15821.311\n",
       "                         - 04-05-2013                                         \n",
       "Covariance Type:                  opg                                         \n",
       "==============================================================================\n",
       "                 coef    std err          z      P>|z|      [0.025      0.975]\n",
       "------------------------------------------------------------------------------\n",
       "const          0.0189      0.015      1.281      0.200      -0.010       0.048\n",
       "ar.L1         -0.1880      0.068     -2.780      0.005      -0.321      -0.055\n",
       "ar.L2         -0.2926      0.054     -5.380      0.000      -0.399      -0.186\n",
       "ar.L3          0.4469      0.062      7.253      0.000       0.326       0.568\n",
       "ma.L1          0.1690      0.063      2.686      0.007       0.046       0.292\n",
       "ma.L2          0.2260      0.052      4.328      0.000       0.124       0.328\n",
       "ma.L3         -0.5442      0.056     -9.632      0.000      -0.655      -0.433\n",
       "sigma2         1.3591      0.015     92.543      0.000       1.330       1.388\n",
       "===================================================================================\n",
       "Ljung-Box (L1) (Q):                   0.18   Jarque-Bera (JB):              6862.43\n",
       "Prob(Q):                              0.67   Prob(JB):                         0.00\n",
       "Heteroskedasticity (H):               2.00   Skew:                            -0.17\n",
       "Prob(H) (two-sided):                  0.00   Kurtosis:                         8.72\n",
       "===================================================================================\n",
       "\n",
       "Warnings:\n",
       "[1] Covariance matrix calculated using the outer product of gradients (complex-step).\n",
       "\"\"\""
      ]
     },
     "execution_count": 14,
     "metadata": {},
     "output_type": "execute_result"
    }
   ],
   "source": [
    "model_arma_3_3 = ARIMA(returns, order=(3,0,3))\n",
    "result_arma_3_3 = model_arma_3_3.fit()\n",
    "result_arma_3_3.summary()"
   ]
  },
  {
   "cell_type": "code",
   "execution_count": 15,
   "metadata": {},
   "outputs": [
    {
     "name": "stderr",
     "output_type": "stream",
     "text": [
      "D:\\anaconda3\\envs\\time-series-tutorials\\lib\\site-packages\\statsmodels\\tsa\\statespace\\sarimax.py:966: UserWarning: Non-stationary starting autoregressive parameters found. Using zeros as starting parameters.\n",
      "  warn('Non-stationary starting autoregressive parameters'\n",
      "D:\\anaconda3\\envs\\time-series-tutorials\\lib\\site-packages\\statsmodels\\tsa\\statespace\\sarimax.py:978: UserWarning: Non-invertible starting MA parameters found. Using zeros as starting parameters.\n",
      "  warn('Non-invertible starting MA parameters found.'\n"
     ]
    },
    {
     "data": {
      "text/html": [
       "<table class=\"simpletable\">\n",
       "<caption>SARIMAX Results</caption>\n",
       "<tr>\n",
       "  <th>Dep. Variable:</th>        <td>returns</td>     <th>  No. Observations:  </th>   <td>5020</td>   \n",
       "</tr>\n",
       "<tr>\n",
       "  <th>Model:</th>            <td>ARIMA(1, 0, 1)</td>  <th>  Log Likelihood     </th> <td>-7916.500</td>\n",
       "</tr>\n",
       "<tr>\n",
       "  <th>Date:</th>            <td>Sun, 29 Nov 2020</td> <th>  AIC                </th> <td>15841.000</td>\n",
       "</tr>\n",
       "<tr>\n",
       "  <th>Time:</th>                <td>18:32:32</td>     <th>  BIC                </th> <td>15867.085</td>\n",
       "</tr>\n",
       "<tr>\n",
       "  <th>Sample:</th>             <td>01-10-1994</td>    <th>  HQIC               </th> <td>15850.140</td>\n",
       "</tr>\n",
       "<tr>\n",
       "  <th></th>                   <td>- 04-05-2013</td>   <th>                     </th>     <td> </td>    \n",
       "</tr>\n",
       "<tr>\n",
       "  <th>Covariance Type:</th>        <td>opg</td>       <th>                     </th>     <td> </td>    \n",
       "</tr>\n",
       "</table>\n",
       "<table class=\"simpletable\">\n",
       "<tr>\n",
       "     <td></td>       <th>coef</th>     <th>std err</th>      <th>z</th>      <th>P>|z|</th>  <th>[0.025</th>    <th>0.975]</th>  \n",
       "</tr>\n",
       "<tr>\n",
       "  <th>const</th>  <td>    0.0189</td> <td>    0.015</td> <td>    1.290</td> <td> 0.197</td> <td>   -0.010</td> <td>    0.048</td>\n",
       "</tr>\n",
       "<tr>\n",
       "  <th>ar.L1</th>  <td>    0.7650</td> <td>    0.045</td> <td>   16.995</td> <td> 0.000</td> <td>    0.677</td> <td>    0.853</td>\n",
       "</tr>\n",
       "<tr>\n",
       "  <th>ma.L1</th>  <td>   -0.8142</td> <td>    0.040</td> <td>  -20.187</td> <td> 0.000</td> <td>   -0.893</td> <td>   -0.735</td>\n",
       "</tr>\n",
       "<tr>\n",
       "  <th>sigma2</th> <td>    1.3718</td> <td>    0.014</td> <td>   98.110</td> <td> 0.000</td> <td>    1.344</td> <td>    1.399</td>\n",
       "</tr>\n",
       "</table>\n",
       "<table class=\"simpletable\">\n",
       "<tr>\n",
       "  <th>Ljung-Box (L1) (Q):</th>     <td>2.06</td> <th>  Jarque-Bera (JB):  </th> <td>7488.92</td>\n",
       "</tr>\n",
       "<tr>\n",
       "  <th>Prob(Q):</th>                <td>0.15</td> <th>  Prob(JB):          </th>  <td>0.00</td>  \n",
       "</tr>\n",
       "<tr>\n",
       "  <th>Heteroskedasticity (H):</th> <td>2.03</td> <th>  Skew:              </th>  <td>-0.18</td> \n",
       "</tr>\n",
       "<tr>\n",
       "  <th>Prob(H) (two-sided):</th>    <td>0.00</td> <th>  Kurtosis:          </th>  <td>8.97</td>  \n",
       "</tr>\n",
       "</table><br/><br/>Warnings:<br/>[1] Covariance matrix calculated using the outer product of gradients (complex-step)."
      ],
      "text/plain": [
       "<class 'statsmodels.iolib.summary.Summary'>\n",
       "\"\"\"\n",
       "                               SARIMAX Results                                \n",
       "==============================================================================\n",
       "Dep. Variable:                returns   No. Observations:                 5020\n",
       "Model:                 ARIMA(1, 0, 1)   Log Likelihood               -7916.500\n",
       "Date:                Sun, 29 Nov 2020   AIC                          15841.000\n",
       "Time:                        18:32:32   BIC                          15867.085\n",
       "Sample:                    01-10-1994   HQIC                         15850.140\n",
       "                         - 04-05-2013                                         \n",
       "Covariance Type:                  opg                                         \n",
       "==============================================================================\n",
       "                 coef    std err          z      P>|z|      [0.025      0.975]\n",
       "------------------------------------------------------------------------------\n",
       "const          0.0189      0.015      1.290      0.197      -0.010       0.048\n",
       "ar.L1          0.7650      0.045     16.995      0.000       0.677       0.853\n",
       "ma.L1         -0.8142      0.040    -20.187      0.000      -0.893      -0.735\n",
       "sigma2         1.3718      0.014     98.110      0.000       1.344       1.399\n",
       "===================================================================================\n",
       "Ljung-Box (L1) (Q):                   2.06   Jarque-Bera (JB):              7488.92\n",
       "Prob(Q):                              0.15   Prob(JB):                         0.00\n",
       "Heteroskedasticity (H):               2.03   Skew:                            -0.18\n",
       "Prob(H) (two-sided):                  0.00   Kurtosis:                         8.97\n",
       "===================================================================================\n",
       "\n",
       "Warnings:\n",
       "[1] Covariance matrix calculated using the outer product of gradients (complex-step).\n",
       "\"\"\""
      ]
     },
     "execution_count": 15,
     "metadata": {},
     "output_type": "execute_result"
    }
   ],
   "source": [
    "model_arma_1_1 = ARIMA(returns, order=(1,0,1))\n",
    "result_arma_1_1 = model_arma_1_1.fit()\n",
    "result_arma_1_1.summary()"
   ]
  },
  {
   "cell_type": "code",
   "execution_count": 16,
   "metadata": {},
   "outputs": [
    {
     "name": "stderr",
     "output_type": "stream",
     "text": [
      "D:\\anaconda3\\envs\\time-series-tutorials\\lib\\site-packages\\statsmodels\\tsa\\statespace\\sarimax.py:966: UserWarning: Non-stationary starting autoregressive parameters found. Using zeros as starting parameters.\n",
      "  warn('Non-stationary starting autoregressive parameters'\n",
      "D:\\anaconda3\\envs\\time-series-tutorials\\lib\\site-packages\\statsmodels\\tsa\\statespace\\sarimax.py:978: UserWarning: Non-invertible starting MA parameters found. Using zeros as starting parameters.\n",
      "  warn('Non-invertible starting MA parameters found.'\n"
     ]
    },
    {
     "data": {
      "text/plain": [
       "0.0"
      ]
     },
     "execution_count": 16,
     "metadata": {},
     "output_type": "execute_result"
    }
   ],
   "source": [
    "LLR_test(model_arma_1_1, model_arma_3_3, df=2)"
   ]
  },
  {
   "cell_type": "markdown",
   "metadata": {},
   "source": [
    "From the LLR test, ARMA(3,3) performs better than ARMA(1,1). However, from ARMA(3,3) we still observe that some of the coefficients are insignificant from 0. A good and light weight models must lie between ARMA(3,3) and ARMA(1,1)."
   ]
  },
  {
   "cell_type": "code",
   "execution_count": 17,
   "metadata": {},
   "outputs": [
    {
     "name": "stdout",
     "output_type": "stream",
     "text": [
      "Model ARMA(1,1)\n",
      "                               SARIMAX Results                                \n",
      "==============================================================================\n",
      "Dep. Variable:                returns   No. Observations:                 5020\n",
      "Model:                 ARIMA(1, 0, 1)   Log Likelihood               -7916.500\n",
      "Date:                Sun, 29 Nov 2020   AIC                          15841.000\n",
      "Time:                        18:32:38   BIC                          15867.085\n",
      "Sample:                    01-10-1994   HQIC                         15850.140\n",
      "                         - 04-05-2013                                         \n",
      "Covariance Type:                  opg                                         \n",
      "==============================================================================\n",
      "                 coef    std err          z      P>|z|      [0.025      0.975]\n",
      "------------------------------------------------------------------------------\n",
      "const          0.0189      0.015      1.290      0.197      -0.010       0.048\n",
      "ar.L1          0.7650      0.045     16.995      0.000       0.677       0.853\n",
      "ma.L1         -0.8142      0.040    -20.187      0.000      -0.893      -0.735\n",
      "sigma2         1.3718      0.014     98.110      0.000       1.344       1.399\n",
      "===================================================================================\n",
      "Ljung-Box (L1) (Q):                   2.06   Jarque-Bera (JB):              7488.92\n",
      "Prob(Q):                              0.15   Prob(JB):                         0.00\n",
      "Heteroskedasticity (H):               2.03   Skew:                            -0.18\n",
      "Prob(H) (two-sided):                  0.00   Kurtosis:                         8.97\n",
      "===================================================================================\n",
      "\n",
      "Warnings:\n",
      "[1] Covariance matrix calculated using the outer product of gradients (complex-step).\n",
      "****************************************************************************************************\n",
      "Model ARMA(1,2)\n",
      "                               SARIMAX Results                                \n",
      "==============================================================================\n",
      "Dep. Variable:                returns   No. Observations:                 5020\n",
      "Model:                 ARIMA(1, 0, 2)   Log Likelihood               -7913.670\n",
      "Date:                Sun, 29 Nov 2020   AIC                          15837.341\n",
      "Time:                        18:32:39   BIC                          15869.947\n",
      "Sample:                    01-10-1994   HQIC                         15848.766\n",
      "                         - 04-05-2013                                         \n",
      "Covariance Type:                  opg                                         \n",
      "==============================================================================\n",
      "                 coef    std err          z      P>|z|      [0.025      0.975]\n",
      "------------------------------------------------------------------------------\n",
      "const          0.0189      0.015      1.284      0.199      -0.010       0.048\n",
      "ar.L1          0.6173      0.064      9.601      0.000       0.491       0.743\n",
      "ma.L1         -0.6474      0.064    -10.150      0.000      -0.772      -0.522\n",
      "ma.L2         -0.0421      0.010     -4.061      0.000      -0.062      -0.022\n",
      "sigma2         1.3702      0.014     98.196      0.000       1.343       1.398\n",
      "===================================================================================\n",
      "Ljung-Box (L1) (Q):                   0.00   Jarque-Bera (JB):              7453.33\n",
      "Prob(Q):                              0.96   Prob(JB):                         0.00\n",
      "Heteroskedasticity (H):               2.04   Skew:                            -0.17\n",
      "Prob(H) (two-sided):                  0.00   Kurtosis:                         8.96\n",
      "===================================================================================\n",
      "\n",
      "Warnings:\n",
      "[1] Covariance matrix calculated using the outer product of gradients (complex-step).\n",
      "****************************************************************************************************\n",
      "Model ARMA(1,3)\n",
      "                               SARIMAX Results                                \n",
      "==============================================================================\n",
      "Dep. Variable:                returns   No. Observations:                 5020\n",
      "Model:                 ARIMA(1, 0, 3)   Log Likelihood               -7896.838\n",
      "Date:                Sun, 29 Nov 2020   AIC                          15805.676\n",
      "Time:                        18:32:40   BIC                          15844.803\n",
      "Sample:                    01-10-1994   HQIC                         15819.386\n",
      "                         - 04-05-2013                                         \n",
      "Covariance Type:                  opg                                         \n",
      "==============================================================================\n",
      "                 coef    std err          z      P>|z|      [0.025      0.975]\n",
      "------------------------------------------------------------------------------\n",
      "const          0.0189      0.015      1.265      0.206      -0.010       0.048\n",
      "ar.L1         -0.4693      0.060     -7.878      0.000      -0.586      -0.353\n",
      "ma.L1          0.4469      0.060      7.437      0.000       0.329       0.565\n",
      "ma.L2         -0.0637      0.009     -7.277      0.000      -0.081      -0.047\n",
      "ma.L3         -0.1182      0.008    -14.693      0.000      -0.134      -0.102\n",
      "sigma2         1.3610      0.015     92.540      0.000       1.332       1.390\n",
      "===================================================================================\n",
      "Ljung-Box (L1) (Q):                   0.00   Jarque-Bera (JB):              6401.49\n",
      "Prob(Q):                              0.96   Prob(JB):                         0.00\n",
      "Heteroskedasticity (H):               2.00   Skew:                            -0.16\n",
      "Prob(H) (two-sided):                  0.00   Kurtosis:                         8.52\n",
      "===================================================================================\n",
      "\n",
      "Warnings:\n",
      "[1] Covariance matrix calculated using the outer product of gradients (complex-step).\n",
      "****************************************************************************************************\n"
     ]
    },
    {
     "name": "stderr",
     "output_type": "stream",
     "text": [
      "D:\\anaconda3\\envs\\time-series-tutorials\\lib\\site-packages\\statsmodels\\tsa\\statespace\\sarimax.py:966: UserWarning: Non-stationary starting autoregressive parameters found. Using zeros as starting parameters.\n",
      "  warn('Non-stationary starting autoregressive parameters'\n",
      "D:\\anaconda3\\envs\\time-series-tutorials\\lib\\site-packages\\statsmodels\\tsa\\statespace\\sarimax.py:978: UserWarning: Non-invertible starting MA parameters found. Using zeros as starting parameters.\n",
      "  warn('Non-invertible starting MA parameters found.'\n"
     ]
    },
    {
     "name": "stdout",
     "output_type": "stream",
     "text": [
      "Model ARMA(2,1)\n",
      "                               SARIMAX Results                                \n",
      "==============================================================================\n",
      "Dep. Variable:                returns   No. Observations:                 5020\n",
      "Model:                 ARIMA(2, 0, 1)   Log Likelihood               -7913.456\n",
      "Date:                Sun, 29 Nov 2020   AIC                          15836.913\n",
      "Time:                        18:32:42   BIC                          15869.519\n",
      "Sample:                    01-10-1994   HQIC                         15848.338\n",
      "                         - 04-05-2013                                         \n",
      "Covariance Type:                  opg                                         \n",
      "==============================================================================\n",
      "                 coef    std err          z      P>|z|      [0.025      0.975]\n",
      "------------------------------------------------------------------------------\n",
      "const          0.0189      0.015      1.283      0.200      -0.010       0.048\n",
      "ar.L1          0.6544      0.058     11.355      0.000       0.541       0.767\n",
      "ar.L2         -0.0433      0.010     -4.377      0.000      -0.063      -0.024\n",
      "ma.L1         -0.6833      0.056    -12.124      0.000      -0.794      -0.573\n",
      "sigma2         1.3701      0.014     98.127      0.000       1.343       1.397\n",
      "===================================================================================\n",
      "Ljung-Box (L1) (Q):                   0.00   Jarque-Bera (JB):              7435.21\n",
      "Prob(Q):                              0.97   Prob(JB):                         0.00\n",
      "Heteroskedasticity (H):               2.04   Skew:                            -0.17\n",
      "Prob(H) (two-sided):                  0.00   Kurtosis:                         8.95\n",
      "===================================================================================\n",
      "\n",
      "Warnings:\n",
      "[1] Covariance matrix calculated using the outer product of gradients (complex-step).\n",
      "****************************************************************************************************\n",
      "Model ARMA(2,2)\n",
      "                               SARIMAX Results                                \n",
      "==============================================================================\n",
      "Dep. Variable:                returns   No. Observations:                 5020\n",
      "Model:                 ARIMA(2, 0, 2)   Log Likelihood               -7914.692\n",
      "Date:                Sun, 29 Nov 2020   AIC                          15841.384\n",
      "Time:                        18:32:44   BIC                          15880.511\n",
      "Sample:                    01-10-1994   HQIC                         15855.095\n",
      "                         - 04-05-2013                                         \n",
      "Covariance Type:                  opg                                         \n",
      "==============================================================================\n",
      "                 coef    std err          z      P>|z|      [0.025      0.975]\n",
      "------------------------------------------------------------------------------\n",
      "const          0.0189      0.015      1.290      0.197      -0.010       0.048\n",
      "ar.L1         -0.0969      0.091     -1.068      0.286      -0.275       0.081\n",
      "ar.L2          0.6975      0.066     10.509      0.000       0.567       0.828\n",
      "ma.L1          0.0399      0.092      0.435      0.663      -0.140       0.220\n",
      "ma.L2         -0.7259      0.071    -10.274      0.000      -0.864      -0.587\n",
      "sigma2         1.3708      0.014     95.248      0.000       1.343       1.399\n",
      "===================================================================================\n",
      "Ljung-Box (L1) (Q):                   4.33   Jarque-Bera (JB):              7237.20\n",
      "Prob(Q):                              0.04   Prob(JB):                         0.00\n",
      "Heteroskedasticity (H):               2.02   Skew:                            -0.19\n",
      "Prob(H) (two-sided):                  0.00   Kurtosis:                         8.87\n",
      "===================================================================================\n",
      "\n",
      "Warnings:\n",
      "[1] Covariance matrix calculated using the outer product of gradients (complex-step).\n",
      "****************************************************************************************************\n",
      "Model ARMA(2,3)\n",
      "                               SARIMAX Results                                \n",
      "==============================================================================\n",
      "Dep. Variable:                returns   No. Observations:                 5020\n",
      "Model:                 ARIMA(2, 0, 3)   Log Likelihood               -7895.587\n",
      "Date:                Sun, 29 Nov 2020   AIC                          15805.175\n",
      "Time:                        18:32:47   BIC                          15850.823\n",
      "Sample:                    01-10-1994   HQIC                         15821.170\n",
      "                         - 04-05-2013                                         \n",
      "Covariance Type:                  opg                                         \n",
      "==============================================================================\n",
      "                 coef    std err          z      P>|z|      [0.025      0.975]\n",
      "------------------------------------------------------------------------------\n",
      "const          0.0188      0.015      1.224      0.221      -0.011       0.049\n",
      "ar.L1         -0.5600      0.057     -9.777      0.000      -0.672      -0.448\n",
      "ar.L2         -0.4178      0.065     -6.381      0.000      -0.546      -0.289\n",
      "ma.L1          0.5373      0.057      9.417      0.000       0.425       0.649\n",
      "ma.L2          0.3531      0.066      5.383      0.000       0.225       0.482\n",
      "ma.L3         -0.1159      0.009    -12.679      0.000      -0.134      -0.098\n",
      "sigma2         1.3604      0.015     91.315      0.000       1.331       1.390\n",
      "===================================================================================\n",
      "Ljung-Box (L1) (Q):                   0.00   Jarque-Bera (JB):              6515.27\n",
      "Prob(Q):                              0.99   Prob(JB):                         0.00\n",
      "Heteroskedasticity (H):               1.99   Skew:                            -0.12\n",
      "Prob(H) (two-sided):                  0.00   Kurtosis:                         8.58\n",
      "===================================================================================\n",
      "\n",
      "Warnings:\n",
      "[1] Covariance matrix calculated using the outer product of gradients (complex-step).\n",
      "****************************************************************************************************\n",
      "Model ARMA(3,1)\n",
      "                               SARIMAX Results                                \n",
      "==============================================================================\n",
      "Dep. Variable:                returns   No. Observations:                 5020\n",
      "Model:                 ARIMA(3, 0, 1)   Log Likelihood               -7899.072\n",
      "Date:                Sun, 29 Nov 2020   AIC                          15810.144\n",
      "Time:                        18:32:49   BIC                          15849.271\n",
      "Sample:                    01-10-1994   HQIC                         15823.855\n",
      "                         - 04-05-2013                                         \n",
      "Covariance Type:                  opg                                         \n",
      "==============================================================================\n",
      "                 coef    std err          z      P>|z|      [0.025      0.975]\n",
      "------------------------------------------------------------------------------\n",
      "const          0.0189      0.015      1.248      0.212      -0.011       0.048\n",
      "ar.L1         -0.5074      0.062     -8.155      0.000      -0.629      -0.385\n",
      "ar.L2         -0.0638      0.009     -7.027      0.000      -0.082      -0.046\n",
      "ar.L3         -0.1102      0.008    -13.610      0.000      -0.126      -0.094\n",
      "ma.L1          0.4836      0.064      7.608      0.000       0.359       0.608\n",
      "sigma2         1.3623      0.015     92.782      0.000       1.334       1.391\n",
      "===================================================================================\n",
      "Ljung-Box (L1) (Q):                   0.01   Jarque-Bera (JB):              6490.60\n",
      "Prob(Q):                              0.94   Prob(JB):                         0.00\n",
      "Heteroskedasticity (H):               2.00   Skew:                            -0.14\n",
      "Prob(H) (two-sided):                  0.00   Kurtosis:                         8.56\n",
      "===================================================================================\n",
      "\n",
      "Warnings:\n",
      "[1] Covariance matrix calculated using the outer product of gradients (complex-step).\n",
      "****************************************************************************************************\n",
      "Model ARMA(3,2)\n",
      "                               SARIMAX Results                                \n",
      "==============================================================================\n",
      "Dep. Variable:                returns   No. Observations:                 5020\n",
      "Model:                 ARIMA(3, 0, 2)   Log Likelihood               -7895.747\n",
      "Date:                Sun, 29 Nov 2020   AIC                          15805.495\n",
      "Time:                        18:32:53   BIC                          15851.143\n",
      "Sample:                    01-10-1994   HQIC                         15821.491\n",
      "                         - 04-05-2013                                         \n",
      "Covariance Type:                  opg                                         \n",
      "==============================================================================\n",
      "                 coef    std err          z      P>|z|      [0.025      0.975]\n",
      "------------------------------------------------------------------------------\n",
      "const          0.0188      0.016      1.211      0.226      -0.012       0.049\n",
      "ar.L1         -0.6778      0.055    -12.298      0.000      -0.786      -0.570\n",
      "ar.L2         -0.5082      0.063     -8.035      0.000      -0.632      -0.384\n",
      "ar.L3         -0.1141      0.009    -12.755      0.000      -0.132      -0.097\n",
      "ma.L1          0.6561      0.056     11.747      0.000       0.547       0.766\n",
      "ma.L2          0.4468      0.064      7.031      0.000       0.322       0.571\n",
      "sigma2         1.3604      0.015     91.796      0.000       1.331       1.389\n",
      "===================================================================================\n",
      "Ljung-Box (L1) (Q):                   0.00   Jarque-Bera (JB):              6513.61\n",
      "Prob(Q):                              1.00   Prob(JB):                         0.00\n",
      "Heteroskedasticity (H):               1.99   Skew:                            -0.11\n",
      "Prob(H) (two-sided):                  0.00   Kurtosis:                         8.58\n",
      "===================================================================================\n",
      "\n",
      "Warnings:\n",
      "[1] Covariance matrix calculated using the outer product of gradients (complex-step).\n",
      "****************************************************************************************************\n",
      "Model ARMA(3,3)\n",
      "                               SARIMAX Results                                \n",
      "==============================================================================\n",
      "Dep. Variable:                returns   No. Observations:                 5020\n",
      "Model:                 ARIMA(3, 0, 3)   Log Likelihood               -7893.515\n",
      "Date:                Sun, 29 Nov 2020   AIC                          15803.030\n",
      "Time:                        18:32:56   BIC                          15855.200\n",
      "Sample:                    01-10-1994   HQIC                         15821.311\n",
      "                         - 04-05-2013                                         \n",
      "Covariance Type:                  opg                                         \n",
      "==============================================================================\n",
      "                 coef    std err          z      P>|z|      [0.025      0.975]\n",
      "------------------------------------------------------------------------------\n",
      "const          0.0189      0.015      1.281      0.200      -0.010       0.048\n",
      "ar.L1         -0.1880      0.068     -2.780      0.005      -0.321      -0.055\n",
      "ar.L2         -0.2926      0.054     -5.380      0.000      -0.399      -0.186\n",
      "ar.L3          0.4469      0.062      7.253      0.000       0.326       0.568\n",
      "ma.L1          0.1690      0.063      2.686      0.007       0.046       0.292\n",
      "ma.L2          0.2260      0.052      4.328      0.000       0.124       0.328\n",
      "ma.L3         -0.5442      0.056     -9.632      0.000      -0.655      -0.433\n",
      "sigma2         1.3591      0.015     92.543      0.000       1.330       1.388\n",
      "===================================================================================\n",
      "Ljung-Box (L1) (Q):                   0.18   Jarque-Bera (JB):              6862.43\n",
      "Prob(Q):                              0.67   Prob(JB):                         0.00\n",
      "Heteroskedasticity (H):               2.00   Skew:                            -0.17\n",
      "Prob(H) (two-sided):                  0.00   Kurtosis:                         8.72\n",
      "===================================================================================\n",
      "\n",
      "Warnings:\n",
      "[1] Covariance matrix calculated using the outer product of gradients (complex-step).\n",
      "****************************************************************************************************\n"
     ]
    }
   ],
   "source": [
    "arma_models = dict()\n",
    "for p in range(1,4):\n",
    "    for q in range(1,4):\n",
    "        model = ARIMA(returns, order=(p,0,q))\n",
    "        result = model.fit()\n",
    "        arma_models[f\"{p}_{q}\"] = model\n",
    "        print(f\"Model ARMA({p},{q})\")\n",
    "        print(result.summary())\n",
    "        print(\"*\"*100)  "
   ]
  },
  {
   "cell_type": "markdown",
   "metadata": {},
   "source": [
    "Lets observe ARMA (2,2). Here we can see that ARMA(2,2) has 2 components that is insignificant. Thus we should avoid it at all cost. Also, for ARMA(3,3) we also observe that there is one component that is insignificant."
   ]
  },
  {
   "cell_type": "code",
   "execution_count": 18,
   "metadata": {},
   "outputs": [
    {
     "data": {
      "text/plain": [
       "0.0"
      ]
     },
     "execution_count": 18,
     "metadata": {},
     "output_type": "execute_result"
    }
   ],
   "source": [
    "LLR_test(arma_models[\"1_2\"], arma_models[\"2_3\"], df=2)"
   ]
  },
  {
   "cell_type": "markdown",
   "metadata": {},
   "source": [
    "## ARMA(3,2) & ARMA(2,3)"
   ]
  },
  {
   "cell_type": "code",
   "execution_count": 19,
   "metadata": {},
   "outputs": [],
   "source": [
    "model_arma_3_2 = arma_models[\"3_2\"]\n",
    "model_arma_2_3 = arma_models[\"2_3\"]\n",
    "\n",
    "result_arma_3_2 = model_arma_3_2.fit()\n",
    "result_arma_2_3 = model_arma_2_3.fit()"
   ]
  },
  {
   "cell_type": "code",
   "execution_count": 20,
   "metadata": {},
   "outputs": [],
   "source": [
    "res_arma_3_2 = result_arma_3_2.resid\n",
    "res_arma_2_3 = result_arma_2_3.resid"
   ]
  },
  {
   "cell_type": "code",
   "execution_count": 21,
   "metadata": {},
   "outputs": [
    {
     "data": {
      "image/png": "[encoded data removed]",
      "text/plain": [
       "<Figure size 1440x288 with 1 Axes>"
      ]
     },
     "metadata": {
      "needs_background": "light"
     },
     "output_type": "display_data"
    }
   ],
   "source": [
    "res_arma_3_2.plot(figsize=(20,4))\n",
    "plt.title(\"ARMA(3,2) Residual Plot\")\n",
    "plt.show()"
   ]
  },
  {
   "cell_type": "code",
   "execution_count": 22,
   "metadata": {},
   "outputs": [
    {
     "data": {
      "image/png": "[encoded data removed]",
      "text/plain": [
       "<Figure size 1440x288 with 1 Axes>"
      ]
     },
     "metadata": {
      "needs_background": "light"
     },
     "output_type": "display_data"
    }
   ],
   "source": [
    "res_arma_2_3.plot(figsize=(20,4))\n",
    "plt.title(\"ARMA(2,3) Residual Plot\")\n",
    "plt.show()"
   ]
  },
  {
   "cell_type": "code",
   "execution_count": 23,
   "metadata": {},
   "outputs": [
    {
     "data": {
      "image/png": "[encoded data removed]",
      "text/plain": [
       "<Figure size 432x288 with 1 Axes>"
      ]
     },
     "metadata": {
      "needs_background": "light"
     },
     "output_type": "display_data"
    }
   ],
   "source": [
    "sgt.plot_acf(res_arma_3_2, zero=False, lags=40)\n",
    "plt.title(\"ACF for ARMA(3,2)\")\n",
    "plt.show()"
   ]
  },
  {
   "cell_type": "code",
   "execution_count": 24,
   "metadata": {},
   "outputs": [
    {
     "data": {
      "image/png": "[encoded data removed]",
      "text/plain": [
       "<Figure size 432x288 with 1 Axes>"
      ]
     },
     "metadata": {
      "needs_background": "light"
     },
     "output_type": "display_data"
    }
   ],
   "source": [
    "sgt.plot_acf(res_arma_2_3, zero=False, lags=40)\n",
    "plt.title(\"ACF for ARMA(2,3)\")\n",
    "plt.show()"
   ]
  },
  {
   "cell_type": "markdown",
   "metadata": {},
   "source": [
    "Both ACF curves show that lag of 5 has the most significant correlation. It suggests that we can try the lags of 5. Taking both returns and residuals 5 periods ago is redundant. We should focus only one of two."
   ]
  },
  {
   "cell_type": "markdown",
   "metadata": {},
   "source": [
    "### Model ARMA(P,5)"
   ]
  },
  {
   "cell_type": "code",
   "execution_count": 28,
   "metadata": {},
   "outputs": [
    {
     "name": "stdout",
     "output_type": "stream",
     "text": [
      "Model ARMA(1, 5)\n",
      "                               SARIMAX Results                                \n",
      "==============================================================================\n",
      "Dep. Variable:                returns   No. Observations:                 5020\n",
      "Model:                 ARIMA(1, 0, 5)   Log Likelihood               -7890.974\n",
      "Date:                Sun, 29 Nov 2020   AIC                          15797.949\n",
      "Time:                        18:39:07   BIC                          15850.118\n",
      "Sample:                    01-10-1994   HQIC                         15816.230\n",
      "                         - 04-05-2013                                         \n",
      "Covariance Type:                  opg                                         \n",
      "==============================================================================\n",
      "                 coef    std err          z      P>|z|      [0.025      0.975]\n",
      "------------------------------------------------------------------------------\n",
      "const          0.0189      0.015      1.297      0.194      -0.010       0.047\n",
      "ar.L1          0.3218      0.133      2.415      0.016       0.061       0.583\n",
      "ma.L1         -0.3467      0.134     -2.593      0.010      -0.609      -0.085\n",
      "ma.L2         -0.0406      0.010     -4.157      0.000      -0.060      -0.021\n",
      "ma.L3         -0.0682      0.011     -6.099      0.000      -0.090      -0.046\n",
      "ma.L4          0.0736      0.015      5.012      0.000       0.045       0.102\n",
      "ma.L5         -0.0682      0.009     -7.411      0.000      -0.086      -0.050\n",
      "sigma2         1.3579      0.015     91.599      0.000       1.329       1.387\n",
      "===================================================================================\n",
      "Ljung-Box (L1) (Q):                   0.00   Jarque-Bera (JB):              6465.72\n",
      "Prob(Q):                              0.95   Prob(JB):                         0.00\n",
      "Heteroskedasticity (H):               2.00   Skew:                            -0.20\n",
      "Prob(H) (two-sided):                  0.00   Kurtosis:                         8.55\n",
      "===================================================================================\n",
      "\n",
      "Warnings:\n",
      "[1] Covariance matrix calculated using the outer product of gradients (complex-step).\n",
      "********************\n",
      "Model ARMA(2, 5)\n",
      "                               SARIMAX Results                                \n",
      "==============================================================================\n",
      "Dep. Variable:                returns   No. Observations:                 5020\n",
      "Model:                 ARIMA(2, 0, 5)   Log Likelihood               -7884.688\n",
      "Date:                Sun, 29 Nov 2020   AIC                          15787.375\n",
      "Time:                        18:39:11   BIC                          15846.066\n",
      "Sample:                    01-10-1994   HQIC                         15807.941\n",
      "                         - 04-05-2013                                         \n",
      "Covariance Type:                  opg                                         \n",
      "==============================================================================\n",
      "                 coef    std err          z      P>|z|      [0.025      0.975]\n",
      "------------------------------------------------------------------------------\n",
      "const          0.0189      0.015      1.289      0.198      -0.010       0.048\n",
      "ar.L1          0.1784      0.040      4.467      0.000       0.100       0.257\n",
      "ar.L2         -0.8036      0.037    -21.989      0.000      -0.875      -0.732\n",
      "ma.L1         -0.2016      0.039     -5.133      0.000      -0.279      -0.125\n",
      "ma.L2          0.7568      0.039     19.603      0.000       0.681       0.832\n",
      "ma.L3         -0.0942      0.012     -8.168      0.000      -0.117      -0.072\n",
      "ma.L4          0.0129      0.009      1.420      0.156      -0.005       0.031\n",
      "ma.L5         -0.1117      0.009    -12.967      0.000      -0.129      -0.095\n",
      "sigma2         1.3545      0.014     93.834      0.000       1.326       1.383\n",
      "===================================================================================\n",
      "Ljung-Box (L1) (Q):                   0.01   Jarque-Bera (JB):              6562.86\n",
      "Prob(Q):                              0.94   Prob(JB):                         0.00\n",
      "Heteroskedasticity (H):               1.99   Skew:                            -0.18\n",
      "Prob(H) (two-sided):                  0.00   Kurtosis:                         8.59\n",
      "===================================================================================\n",
      "\n",
      "Warnings:\n",
      "[1] Covariance matrix calculated using the outer product of gradients (complex-step).\n",
      "********************\n"
     ]
    },
    {
     "name": "stderr",
     "output_type": "stream",
     "text": [
      "D:\\anaconda3\\envs\\time-series-tutorials\\lib\\site-packages\\statsmodels\\base\\model.py:566: ConvergenceWarning: Maximum Likelihood optimization failed to converge. Check mle_retvals\n",
      "  warnings.warn(\"Maximum Likelihood optimization failed to \"\n"
     ]
    },
    {
     "name": "stdout",
     "output_type": "stream",
     "text": [
      "Model ARMA(3, 5)\n",
      "                               SARIMAX Results                                \n",
      "==============================================================================\n",
      "Dep. Variable:                returns   No. Observations:                 5020\n",
      "Model:                 ARIMA(3, 0, 5)   Log Likelihood               -7883.926\n",
      "Date:                Sun, 29 Nov 2020   AIC                          15787.853\n",
      "Time:                        18:39:18   BIC                          15853.064\n",
      "Sample:                    01-10-1994   HQIC                         15810.704\n",
      "                         - 04-05-2013                                         \n",
      "Covariance Type:                  opg                                         \n",
      "==============================================================================\n",
      "                 coef    std err          z      P>|z|      [0.025      0.975]\n",
      "------------------------------------------------------------------------------\n",
      "const          0.0190      0.015      1.263      0.207      -0.010       0.048\n",
      "ar.L1         -0.1134      0.080     -1.420      0.156      -0.270       0.043\n",
      "ar.L2         -0.8778      0.020    -44.869      0.000      -0.916      -0.839\n",
      "ar.L3         -0.2614      0.073     -3.598      0.000      -0.404      -0.119\n",
      "ma.L1          0.0895      0.080      1.120      0.263      -0.067       0.246\n",
      "ma.L2          0.8244      0.023     36.586      0.000       0.780       0.869\n",
      "ma.L3          0.1496      0.071      2.113      0.035       0.011       0.288\n",
      "ma.L4         -0.0073      0.009     -0.792      0.429      -0.026       0.011\n",
      "ma.L5         -0.1110      0.008    -13.070      0.000      -0.128      -0.094\n",
      "sigma2         1.3536      0.015     90.610      0.000       1.324       1.383\n",
      "===================================================================================\n",
      "Ljung-Box (L1) (Q):                   0.00   Jarque-Bera (JB):              6236.08\n",
      "Prob(Q):                              0.99   Prob(JB):                         0.00\n",
      "Heteroskedasticity (H):               1.99   Skew:                            -0.17\n",
      "Prob(H) (two-sided):                  0.00   Kurtosis:                         8.45\n",
      "===================================================================================\n",
      "\n",
      "Warnings:\n",
      "[1] Covariance matrix calculated using the outer product of gradients (complex-step).\n",
      "********************\n"
     ]
    },
    {
     "name": "stderr",
     "output_type": "stream",
     "text": [
      "D:\\anaconda3\\envs\\time-series-tutorials\\lib\\site-packages\\statsmodels\\base\\model.py:566: ConvergenceWarning: Maximum Likelihood optimization failed to converge. Check mle_retvals\n",
      "  warnings.warn(\"Maximum Likelihood optimization failed to \"\n"
     ]
    },
    {
     "name": "stdout",
     "output_type": "stream",
     "text": [
      "Model ARMA(4, 5)\n",
      "                               SARIMAX Results                                \n",
      "==============================================================================\n",
      "Dep. Variable:                returns   No. Observations:                 5020\n",
      "Model:                 ARIMA(4, 0, 5)   Log Likelihood               -7882.728\n",
      "Date:                Sun, 29 Nov 2020   AIC                          15787.456\n",
      "Time:                        18:39:26   BIC                          15859.189\n",
      "Sample:                    01-10-1994   HQIC                         15812.592\n",
      "                         - 04-05-2013                                         \n",
      "Covariance Type:                  opg                                         \n",
      "==============================================================================\n",
      "                 coef    std err          z      P>|z|      [0.025      0.975]\n",
      "------------------------------------------------------------------------------\n",
      "const          0.0189      0.015      1.285      0.199      -0.010       0.048\n",
      "ar.L1          0.0227      0.081      0.279      0.780      -0.137       0.182\n",
      "ar.L2         -0.6456      0.077     -8.367      0.000      -0.797      -0.494\n",
      "ar.L3         -0.1536      0.071     -2.170      0.030      -0.292      -0.015\n",
      "ar.L4          0.2075      0.074      2.802      0.005       0.062       0.353\n",
      "ma.L1         -0.0467      0.081     -0.577      0.564      -0.205       0.112\n",
      "ma.L2          0.5981      0.078      7.662      0.000       0.445       0.751\n",
      "ma.L3          0.0533      0.068      0.780      0.435      -0.081       0.187\n",
      "ma.L4         -0.1988      0.073     -2.724      0.006      -0.342      -0.056\n",
      "ma.L5         -0.1054      0.010    -10.943      0.000      -0.124      -0.087\n",
      "sigma2         1.3536      0.015     91.131      0.000       1.324       1.383\n",
      "===================================================================================\n",
      "Ljung-Box (L1) (Q):                   0.00   Jarque-Bera (JB):              6373.73\n",
      "Prob(Q):                              0.98   Prob(JB):                         0.00\n",
      "Heteroskedasticity (H):               2.00   Skew:                            -0.20\n",
      "Prob(H) (two-sided):                  0.00   Kurtosis:                         8.51\n",
      "===================================================================================\n",
      "\n",
      "Warnings:\n",
      "[1] Covariance matrix calculated using the outer product of gradients (complex-step).\n",
      "********************\n"
     ]
    },
    {
     "name": "stderr",
     "output_type": "stream",
     "text": [
      "D:\\anaconda3\\envs\\time-series-tutorials\\lib\\site-packages\\statsmodels\\base\\model.py:566: ConvergenceWarning: Maximum Likelihood optimization failed to converge. Check mle_retvals\n",
      "  warnings.warn(\"Maximum Likelihood optimization failed to \"\n"
     ]
    },
    {
     "name": "stdout",
     "output_type": "stream",
     "text": [
      "Model ARMA(5, 5)\n",
      "                               SARIMAX Results                                \n",
      "==============================================================================\n",
      "Dep. Variable:                returns   No. Observations:                 5020\n",
      "Model:                 ARIMA(5, 0, 5)   Log Likelihood               -7883.652\n",
      "Date:                Sun, 29 Nov 2020   AIC                          15791.305\n",
      "Time:                        18:39:35   BIC                          15869.559\n",
      "Sample:                    01-10-1994   HQIC                         15818.726\n",
      "                         - 04-05-2013                                         \n",
      "Covariance Type:                  opg                                         \n",
      "==============================================================================\n",
      "                 coef    std err          z      P>|z|      [0.025      0.975]\n",
      "------------------------------------------------------------------------------\n",
      "const          0.0185      0.015      1.263      0.207      -0.010       0.047\n",
      "ar.L1          0.0030      0.131      0.023      0.982      -0.254       0.260\n",
      "ar.L2         -0.4903      0.083     -5.922      0.000      -0.653      -0.328\n",
      "ar.L3         -0.0256      0.074     -0.348      0.728      -0.170       0.119\n",
      "ar.L4          0.2603      0.073      3.543      0.000       0.116       0.404\n",
      "ar.L5          0.1011      0.093      1.088      0.277      -0.081       0.283\n",
      "ma.L1         -0.0279      0.131     -0.213      0.831      -0.284       0.229\n",
      "ma.L2          0.4431      0.084      5.302      0.000       0.279       0.607\n",
      "ma.L3         -0.0649      0.072     -0.907      0.365      -0.205       0.075\n",
      "ma.L4         -0.2354      0.073     -3.230      0.001      -0.378      -0.093\n",
      "ma.L5         -0.1902      0.088     -2.150      0.032      -0.364      -0.017\n",
      "sigma2         1.3545      0.015     90.165      0.000       1.325       1.384\n",
      "===================================================================================\n",
      "Ljung-Box (L1) (Q):                   0.00   Jarque-Bera (JB):              6532.81\n",
      "Prob(Q):                              0.96   Prob(JB):                         0.00\n",
      "Heteroskedasticity (H):               1.99   Skew:                            -0.21\n",
      "Prob(H) (two-sided):                  0.00   Kurtosis:                         8.57\n",
      "===================================================================================\n",
      "\n",
      "Warnings:\n",
      "[1] Covariance matrix calculated using the outer product of gradients (complex-step).\n",
      "********************\n"
     ]
    }
   ],
   "source": [
    "for p in range(1,6):\n",
    "    model = ARIMA(returns, order=(p,0,5))\n",
    "    results = model.fit()\n",
    "    arma_models[f\"{p}_5\"] = model\n",
    "    print(f\"Model ARMA({p}, 5)\")\n",
    "    print(results.summary())\n",
    "    print(\"*\"*20)"
   ]
  },
  {
   "cell_type": "code",
   "execution_count": 29,
   "metadata": {},
   "outputs": [
    {
     "name": "stdout",
     "output_type": "stream",
     "text": [
      "Model ARMA(5, 1)\n",
      "                               SARIMAX Results                                \n",
      "==============================================================================\n",
      "Dep. Variable:                returns   No. Observations:                 5020\n",
      "Model:                 ARIMA(5, 0, 1)   Log Likelihood               -7889.311\n",
      "Date:                Sun, 29 Nov 2020   AIC                          15794.623\n",
      "Time:                        18:40:03   BIC                          15846.792\n",
      "Sample:                    01-10-1994   HQIC                         15812.903\n",
      "                         - 04-05-2013                                         \n",
      "Covariance Type:                  opg                                         \n",
      "==============================================================================\n",
      "                 coef    std err          z      P>|z|      [0.025      0.975]\n",
      "------------------------------------------------------------------------------\n",
      "const          0.0189      0.015      1.301      0.193      -0.010       0.047\n",
      "ar.L1          0.3449      0.105      3.270      0.001       0.138       0.552\n",
      "ar.L2         -0.0458      0.009     -4.852      0.000      -0.064      -0.027\n",
      "ar.L3         -0.0651      0.010     -6.435      0.000      -0.085      -0.045\n",
      "ar.L4          0.0742      0.012      6.092      0.000       0.050       0.098\n",
      "ar.L5         -0.0813      0.009     -9.480      0.000      -0.098      -0.064\n",
      "ma.L1         -0.3682      0.106     -3.461      0.001      -0.577      -0.160\n",
      "sigma2         1.3570      0.015     92.269      0.000       1.328       1.386\n",
      "===================================================================================\n",
      "Ljung-Box (L1) (Q):                   0.01   Jarque-Bera (JB):              6468.96\n",
      "Prob(Q):                              0.94   Prob(JB):                         0.00\n",
      "Heteroskedasticity (H):               2.00   Skew:                            -0.20\n",
      "Prob(H) (two-sided):                  0.00   Kurtosis:                         8.55\n",
      "===================================================================================\n",
      "\n",
      "Warnings:\n",
      "[1] Covariance matrix calculated using the outer product of gradients (complex-step).\n",
      "********************\n"
     ]
    },
    {
     "name": "stderr",
     "output_type": "stream",
     "text": [
      "D:\\anaconda3\\envs\\time-series-tutorials\\lib\\site-packages\\statsmodels\\tsa\\statespace\\sarimax.py:966: UserWarning: Non-stationary starting autoregressive parameters found. Using zeros as starting parameters.\n",
      "  warn('Non-stationary starting autoregressive parameters'\n",
      "D:\\anaconda3\\envs\\time-series-tutorials\\lib\\site-packages\\statsmodels\\tsa\\statespace\\sarimax.py:978: UserWarning: Non-invertible starting MA parameters found. Using zeros as starting parameters.\n",
      "  warn('Non-invertible starting MA parameters found.'\n"
     ]
    },
    {
     "name": "stdout",
     "output_type": "stream",
     "text": [
      "Model ARMA(5, 2)\n",
      "                               SARIMAX Results                                \n",
      "==============================================================================\n",
      "Dep. Variable:                returns   No. Observations:                 5020\n",
      "Model:                 ARIMA(5, 0, 2)   Log Likelihood               -7885.667\n",
      "Date:                Sun, 29 Nov 2020   AIC                          15789.334\n",
      "Time:                        18:40:08   BIC                          15848.024\n",
      "Sample:                    01-10-1994   HQIC                         15809.900\n",
      "                         - 04-05-2013                                         \n",
      "Covariance Type:                  opg                                         \n",
      "==============================================================================\n",
      "                 coef    std err          z      P>|z|      [0.025      0.975]\n",
      "------------------------------------------------------------------------------\n",
      "const          0.0189      0.015      1.286      0.198      -0.010       0.048\n",
      "ar.L1          0.2971      0.079      3.746      0.000       0.142       0.453\n",
      "ar.L2         -0.4726      0.077     -6.102      0.000      -0.624      -0.321\n",
      "ar.L3         -0.0794      0.011     -7.210      0.000      -0.101      -0.058\n",
      "ar.L4          0.0505      0.010      4.958      0.000       0.031       0.070\n",
      "ar.L5         -0.1107      0.009    -12.039      0.000      -0.129      -0.093\n",
      "ma.L1         -0.3208      0.079     -4.059      0.000      -0.476      -0.166\n",
      "ma.L2          0.4297      0.079      5.439      0.000       0.275       0.585\n",
      "sigma2         1.3552      0.015     92.455      0.000       1.326       1.384\n",
      "===================================================================================\n",
      "Ljung-Box (L1) (Q):                   0.00   Jarque-Bera (JB):              6385.16\n",
      "Prob(Q):                              0.97   Prob(JB):                         0.00\n",
      "Heteroskedasticity (H):               1.99   Skew:                            -0.17\n",
      "Prob(H) (two-sided):                  0.00   Kurtosis:                         8.51\n",
      "===================================================================================\n",
      "\n",
      "Warnings:\n",
      "[1] Covariance matrix calculated using the outer product of gradients (complex-step).\n",
      "********************\n",
      "Model ARMA(5, 3)\n",
      "                               SARIMAX Results                                \n",
      "==============================================================================\n",
      "Dep. Variable:                returns   No. Observations:                 5020\n",
      "Model:                 ARIMA(5, 0, 3)   Log Likelihood               -7885.422\n",
      "Date:                Sun, 29 Nov 2020   AIC                          15790.844\n",
      "Time:                        18:40:14   BIC                          15856.056\n",
      "Sample:                    01-10-1994   HQIC                         15813.695\n",
      "                         - 04-05-2013                                         \n",
      "Covariance Type:                  opg                                         \n",
      "==============================================================================\n",
      "                 coef    std err          z      P>|z|      [0.025      0.975]\n",
      "------------------------------------------------------------------------------\n",
      "const          0.0189      0.015      1.280      0.201      -0.010       0.048\n",
      "ar.L1          0.3341      0.082      4.095      0.000       0.174       0.494\n",
      "ar.L2         -0.4768      0.077     -6.174      0.000      -0.628      -0.325\n",
      "ar.L3         -0.0024      0.075     -0.032      0.974      -0.149       0.145\n",
      "ar.L4          0.0525      0.011      4.756      0.000       0.031       0.074\n",
      "ar.L5         -0.1067      0.011     -9.842      0.000      -0.128      -0.085\n",
      "ma.L1         -0.3583      0.082     -4.391      0.000      -0.518      -0.198\n",
      "ma.L2          0.4352      0.078      5.554      0.000       0.282       0.589\n",
      "ma.L3         -0.0763      0.074     -1.031      0.302      -0.221       0.069\n",
      "sigma2         1.3549      0.015     91.417      0.000       1.326       1.384\n",
      "===================================================================================\n",
      "Ljung-Box (L1) (Q):                   0.00   Jarque-Bera (JB):              6455.82\n",
      "Prob(Q):                              1.00   Prob(JB):                         0.00\n",
      "Heteroskedasticity (H):               2.00   Skew:                            -0.18\n",
      "Prob(H) (two-sided):                  0.00   Kurtosis:                         8.54\n",
      "===================================================================================\n",
      "\n",
      "Warnings:\n",
      "[1] Covariance matrix calculated using the outer product of gradients (complex-step).\n",
      "********************\n"
     ]
    },
    {
     "name": "stderr",
     "output_type": "stream",
     "text": [
      "D:\\anaconda3\\envs\\time-series-tutorials\\lib\\site-packages\\statsmodels\\base\\model.py:566: ConvergenceWarning: Maximum Likelihood optimization failed to converge. Check mle_retvals\n",
      "  warnings.warn(\"Maximum Likelihood optimization failed to \"\n"
     ]
    },
    {
     "name": "stdout",
     "output_type": "stream",
     "text": [
      "Model ARMA(5, 4)\n",
      "                               SARIMAX Results                                \n",
      "==============================================================================\n",
      "Dep. Variable:                returns   No. Observations:                 5020\n",
      "Model:                 ARIMA(5, 0, 4)   Log Likelihood               -7883.865\n",
      "Date:                Sun, 29 Nov 2020   AIC                          15789.730\n",
      "Time:                        18:40:21   BIC                          15861.463\n",
      "Sample:                    01-10-1994   HQIC                         15814.866\n",
      "                         - 04-05-2013                                         \n",
      "Covariance Type:                  opg                                         \n",
      "==============================================================================\n",
      "                 coef    std err          z      P>|z|      [0.025      0.975]\n",
      "------------------------------------------------------------------------------\n",
      "const          0.0189      0.015      1.282      0.200      -0.010       0.048\n",
      "ar.L1          0.1350      0.082      1.649      0.099      -0.026       0.296\n",
      "ar.L2         -0.6039      0.080     -7.570      0.000      -0.760      -0.448\n",
      "ar.L3         -0.1570      0.072     -2.191      0.028      -0.298      -0.017\n",
      "ar.L4          0.2541      0.076      3.357      0.001       0.106       0.403\n",
      "ar.L5         -0.1016      0.010     -9.971      0.000      -0.122      -0.082\n",
      "ma.L1         -0.1602      0.082     -1.944      0.052      -0.322       0.001\n",
      "ma.L2          0.5605      0.082      6.823      0.000       0.399       0.722\n",
      "ma.L3          0.0657      0.070      0.934      0.350      -0.072       0.204\n",
      "ma.L4         -0.2393      0.076     -3.144      0.002      -0.389      -0.090\n",
      "sigma2         1.3541      0.015     92.011      0.000       1.325       1.383\n",
      "===================================================================================\n",
      "Ljung-Box (L1) (Q):                   0.00   Jarque-Bera (JB):              6466.83\n",
      "Prob(Q):                              0.96   Prob(JB):                         0.00\n",
      "Heteroskedasticity (H):               2.00   Skew:                            -0.19\n",
      "Prob(H) (two-sided):                  0.00   Kurtosis:                         8.55\n",
      "===================================================================================\n",
      "\n",
      "Warnings:\n",
      "[1] Covariance matrix calculated using the outer product of gradients (complex-step).\n",
      "********************\n"
     ]
    },
    {
     "name": "stderr",
     "output_type": "stream",
     "text": [
      "D:\\anaconda3\\envs\\time-series-tutorials\\lib\\site-packages\\statsmodels\\base\\model.py:566: ConvergenceWarning: Maximum Likelihood optimization failed to converge. Check mle_retvals\n",
      "  warnings.warn(\"Maximum Likelihood optimization failed to \"\n"
     ]
    },
    {
     "name": "stdout",
     "output_type": "stream",
     "text": [
      "Model ARMA(5, 5)\n",
      "                               SARIMAX Results                                \n",
      "==============================================================================\n",
      "Dep. Variable:                returns   No. Observations:                 5020\n",
      "Model:                 ARIMA(5, 0, 5)   Log Likelihood               -7883.652\n",
      "Date:                Sun, 29 Nov 2020   AIC                          15791.305\n",
      "Time:                        18:40:30   BIC                          15869.559\n",
      "Sample:                    01-10-1994   HQIC                         15818.726\n",
      "                         - 04-05-2013                                         \n",
      "Covariance Type:                  opg                                         \n",
      "==============================================================================\n",
      "                 coef    std err          z      P>|z|      [0.025      0.975]\n",
      "------------------------------------------------------------------------------\n",
      "const          0.0185      0.015      1.263      0.207      -0.010       0.047\n",
      "ar.L1          0.0030      0.131      0.023      0.982      -0.254       0.260\n",
      "ar.L2         -0.4903      0.083     -5.922      0.000      -0.653      -0.328\n",
      "ar.L3         -0.0256      0.074     -0.348      0.728      -0.170       0.119\n",
      "ar.L4          0.2603      0.073      3.543      0.000       0.116       0.404\n",
      "ar.L5          0.1011      0.093      1.088      0.277      -0.081       0.283\n",
      "ma.L1         -0.0279      0.131     -0.213      0.831      -0.284       0.229\n",
      "ma.L2          0.4431      0.084      5.302      0.000       0.279       0.607\n",
      "ma.L3         -0.0649      0.072     -0.907      0.365      -0.205       0.075\n",
      "ma.L4         -0.2354      0.073     -3.230      0.001      -0.378      -0.093\n",
      "ma.L5         -0.1902      0.088     -2.150      0.032      -0.364      -0.017\n",
      "sigma2         1.3545      0.015     90.165      0.000       1.325       1.384\n",
      "===================================================================================\n",
      "Ljung-Box (L1) (Q):                   0.00   Jarque-Bera (JB):              6532.81\n",
      "Prob(Q):                              0.96   Prob(JB):                         0.00\n",
      "Heteroskedasticity (H):               1.99   Skew:                            -0.21\n",
      "Prob(H) (two-sided):                  0.00   Kurtosis:                         8.57\n",
      "===================================================================================\n",
      "\n",
      "Warnings:\n",
      "[1] Covariance matrix calculated using the outer product of gradients (complex-step).\n",
      "********************\n"
     ]
    }
   ],
   "source": [
    "for q in range(1,6):\n",
    "    model = ARIMA(returns, order=(5,0,q))\n",
    "    results = model.fit()\n",
    "    arma_models[f\"5_{q}\"] = model\n",
    "    print(f\"Model ARMA(5, {q})\")\n",
    "    print(results.summary())\n",
    "    print(\"*\"*20)"
   ]
  },
  {
   "cell_type": "code",
   "execution_count": 41,
   "metadata": {},
   "outputs": [
    {
     "name": "stdout",
     "output_type": "stream",
     "text": [
      "\n",
      " ARMA(1,5) LLF: \t-7890.974434537868\t AIC: \t15797.948869075735\n",
      "\n",
      " ARMA(5,1) LLF: \t-7889.3113054536\t AIC: \t15794.6226109072\n"
     ]
    }
   ],
   "source": [
    "results_arma_1_5 = arma_models[\"1_5\"].fit()\n",
    "results_arma_5_1 = arma_models[\"5_1\"].fit()\n",
    "\n",
    "print(f\"\\n ARMA(1,5) LLF: \\t{results_arma_1_5.llf}\\t AIC: \\t{results_arma_1_5.aic}\")\n",
    "print(f\"\\n ARMA(5,1) LLF: \\t{results_arma_5_1.llf}\\t AIC: \\t{results_arma_5_1.aic}\")"
   ]
  },
  {
   "cell_type": "code",
   "execution_count": 43,
   "metadata": {},
   "outputs": [
    {
     "name": "stdout",
     "output_type": "stream",
     "text": [
      "\n",
      " ARMA(2,3) LLF: \t-7895.587261325962\t AIC: \t15805.174522651923\n",
      "\n",
      " ARMA(3,2) LLF: \t-7895.747490024978\t AIC: \t15805.494980049956\n"
     ]
    }
   ],
   "source": [
    "results_arma_2_3 = arma_models[\"2_3\"].fit()\n",
    "results_arma_3_2 = arma_models[\"3_2\"].fit()\n",
    "\n",
    "print(f\"\\n ARMA(2,3) LLF: \\t{results_arma_2_3.llf}\\t AIC: \\t{results_arma_2_3.aic}\")\n",
    "print(f\"\\n ARMA(3,2) LLF: \\t{results_arma_3_2.llf}\\t AIC: \\t{results_arma_3_2.aic}\")"
   ]
  },
  {
   "cell_type": "markdown",
   "metadata": {},
   "source": [
    "## Residual analysis for new model"
   ]
  },
  {
   "cell_type": "code",
   "execution_count": 45,
   "metadata": {},
   "outputs": [
    {
     "data": {
      "image/png": "[encoded data removed]",
      "text/plain": [
       "<Figure size 432x288 with 1 Axes>"
      ]
     },
     "metadata": {
      "needs_background": "light"
     },
     "output_type": "display_data"
    }
   ],
   "source": [
    "sgt.plot_acf(results_arma_5_1.resid, zero=False, lags=40)\n",
    "plt.show()"
   ]
  },
  {
   "cell_type": "markdown",
   "metadata": {},
   "source": [
    "## ARMA for Prices"
   ]
  },
  {
   "cell_type": "markdown",
   "metadata": {},
   "source": [
    "Let us look at how ARMA performs on non-stationary data ie prices"
   ]
  },
  {
   "cell_type": "code",
   "execution_count": 47,
   "metadata": {},
   "outputs": [
    {
     "data": {
      "image/png": "[encoded data removed]",
      "text/plain": [
       "<Figure size 432x288 with 1 Axes>"
      ]
     },
     "metadata": {
      "needs_background": "light"
     },
     "output_type": "display_data"
    }
   ],
   "source": [
    "sgt.plot_acf(df.market_value, zero=False, lags=40)\n",
    "plt.title(\"ACF of Prices\")\n",
    "plt.show()"
   ]
  },
  {
   "cell_type": "code",
   "execution_count": 48,
   "metadata": {},
   "outputs": [
    {
     "data": {
      "image/png": "[encoded data removed]",
      "text/plain": [
       "<Figure size 432x288 with 1 Axes>"
      ]
     },
     "metadata": {
      "needs_background": "light"
     },
     "output_type": "display_data"
    }
   ],
   "source": [
    "sgt.plot_pacf(df.market_value, zero=False, lags=40)\n",
    "plt.title(\"PACF of Prices\")\n",
    "plt.show()"
   ]
  },
  {
   "cell_type": "code",
   "execution_count": 50,
   "metadata": {},
   "outputs": [
    {
     "data": {
      "text/html": [
       "<table class=\"simpletable\">\n",
       "<caption>SARIMAX Results</caption>\n",
       "<tr>\n",
       "  <th>Dep. Variable:</th>     <td>market_value</td>   <th>  No. Observations:  </th>    <td>5021</td>   \n",
       "</tr>\n",
       "<tr>\n",
       "  <th>Model:</th>            <td>ARIMA(1, 0, 1)</td>  <th>  Log Likelihood     </th> <td>-27621.875</td>\n",
       "</tr>\n",
       "<tr>\n",
       "  <th>Date:</th>            <td>Sun, 29 Nov 2020</td> <th>  AIC                </th>  <td>55251.749</td>\n",
       "</tr>\n",
       "<tr>\n",
       "  <th>Time:</th>                <td>19:52:03</td>     <th>  BIC                </th>  <td>55277.835</td>\n",
       "</tr>\n",
       "<tr>\n",
       "  <th>Sample:</th>             <td>01-07-1994</td>    <th>  HQIC               </th>  <td>55260.890</td>\n",
       "</tr>\n",
       "<tr>\n",
       "  <th></th>                   <td>- 04-05-2013</td>   <th>                     </th>      <td> </td>    \n",
       "</tr>\n",
       "<tr>\n",
       "  <th>Covariance Type:</th>        <td>opg</td>       <th>                     </th>      <td> </td>    \n",
       "</tr>\n",
       "</table>\n",
       "<table class=\"simpletable\">\n",
       "<tr>\n",
       "     <td></td>       <th>coef</th>     <th>std err</th>      <th>z</th>      <th>P>|z|</th>  <th>[0.025</th>    <th>0.975]</th>  \n",
       "</tr>\n",
       "<tr>\n",
       "  <th>const</th>  <td> 5089.6409</td> <td>  366.501</td> <td>   13.887</td> <td> 0.000</td> <td> 4371.312</td> <td> 5807.970</td>\n",
       "</tr>\n",
       "<tr>\n",
       "  <th>ar.L1</th>  <td>    0.9982</td> <td>    0.001</td> <td> 1189.159</td> <td> 0.000</td> <td>    0.997</td> <td>    1.000</td>\n",
       "</tr>\n",
       "<tr>\n",
       "  <th>ma.L1</th>  <td>   -0.0186</td> <td>    0.010</td> <td>   -1.894</td> <td> 0.058</td> <td>   -0.038</td> <td>    0.001</td>\n",
       "</tr>\n",
       "<tr>\n",
       "  <th>sigma2</th> <td> 3510.8350</td> <td>   41.068</td> <td>   85.489</td> <td> 0.000</td> <td> 3430.344</td> <td> 3591.326</td>\n",
       "</tr>\n",
       "</table>\n",
       "<table class=\"simpletable\">\n",
       "<tr>\n",
       "  <th>Ljung-Box (L1) (Q):</th>     <td>0.00</td> <th>  Jarque-Bera (JB):  </th> <td>3280.53</td>\n",
       "</tr>\n",
       "<tr>\n",
       "  <th>Prob(Q):</th>                <td>0.97</td> <th>  Prob(JB):          </th>  <td>0.00</td>  \n",
       "</tr>\n",
       "<tr>\n",
       "  <th>Heteroskedasticity (H):</th> <td>1.89</td> <th>  Skew:              </th>  <td>-0.19</td> \n",
       "</tr>\n",
       "<tr>\n",
       "  <th>Prob(H) (two-sided):</th>    <td>0.00</td> <th>  Kurtosis:          </th>  <td>6.94</td>  \n",
       "</tr>\n",
       "</table><br/><br/>Warnings:<br/>[1] Covariance matrix calculated using the outer product of gradients (complex-step)."
      ],
      "text/plain": [
       "<class 'statsmodels.iolib.summary.Summary'>\n",
       "\"\"\"\n",
       "                               SARIMAX Results                                \n",
       "==============================================================================\n",
       "Dep. Variable:           market_value   No. Observations:                 5021\n",
       "Model:                 ARIMA(1, 0, 1)   Log Likelihood              -27621.875\n",
       "Date:                Sun, 29 Nov 2020   AIC                          55251.749\n",
       "Time:                        19:52:03   BIC                          55277.835\n",
       "Sample:                    01-07-1994   HQIC                         55260.890\n",
       "                         - 04-05-2013                                         \n",
       "Covariance Type:                  opg                                         \n",
       "==============================================================================\n",
       "                 coef    std err          z      P>|z|      [0.025      0.975]\n",
       "------------------------------------------------------------------------------\n",
       "const       5089.6409    366.501     13.887      0.000    4371.312    5807.970\n",
       "ar.L1          0.9982      0.001   1189.159      0.000       0.997       1.000\n",
       "ma.L1         -0.0186      0.010     -1.894      0.058      -0.038       0.001\n",
       "sigma2      3510.8350     41.068     85.489      0.000    3430.344    3591.326\n",
       "===================================================================================\n",
       "Ljung-Box (L1) (Q):                   0.00   Jarque-Bera (JB):              3280.53\n",
       "Prob(Q):                              0.97   Prob(JB):                         0.00\n",
       "Heteroskedasticity (H):               1.89   Skew:                            -0.19\n",
       "Prob(H) (two-sided):                  0.00   Kurtosis:                         6.94\n",
       "===================================================================================\n",
       "\n",
       "Warnings:\n",
       "[1] Covariance matrix calculated using the outer product of gradients (complex-step).\n",
       "\"\"\""
      ]
     },
     "execution_count": 50,
     "metadata": {},
     "output_type": "execute_result"
    }
   ],
   "source": [
    "model_arma_1_1 = ARIMA(df.market_value, order=(1,0,1))\n",
    "result_arma_1_1 = model_arma_1_1.fit()\n",
    "result_arma_1_1.summary()"
   ]
  },
  {
   "cell_type": "code",
   "execution_count": 52,
   "metadata": {},
   "outputs": [
    {
     "data": {
      "text/plain": [
       "<AxesSubplot:xlabel='date'>"
      ]
     },
     "execution_count": 52,
     "metadata": {},
     "output_type": "execute_result"
    },
    {
     "data": {
      "image/png": "[encoded data removed]",
      "text/plain": [
       "<Figure size 1440x288 with 1 Axes>"
      ]
     },
     "metadata": {
      "needs_background": "light"
     },
     "output_type": "display_data"
    }
   ],
   "source": [
    "resid_arma_1_1 = result_arma_1_1.resid\n",
    "resid_arma_1_1.plot(figsize=(20,4))"
   ]
  },
  {
   "cell_type": "code",
   "execution_count": 53,
   "metadata": {},
   "outputs": [
    {
     "data": {
      "image/png": "[encoded data removed]",
      "text/plain": [
       "<Figure size 432x288 with 1 Axes>"
      ]
     },
     "metadata": {
      "needs_background": "light"
     },
     "output_type": "display_data"
    }
   ],
   "source": [
    "sgt.plot_acf(resid_arma_1_1, zero=False, lags=40)\n",
    "plt.title(\"ACF of Residuals from ARMA(1,1) on Prices\")\n",
    "plt.show()"
   ]
  },
  {
   "cell_type": "markdown",
   "metadata": {},
   "source": [
    "Here we can observe that the maximum lag is 6. Let us create a model of ARMA(6,6)"
   ]
  },
  {
   "cell_type": "code",
   "execution_count": 54,
   "metadata": {},
   "outputs": [
    {
     "data": {
      "text/html": [
       "<table class=\"simpletable\">\n",
       "<caption>SARIMAX Results</caption>\n",
       "<tr>\n",
       "  <th>Dep. Variable:</th>     <td>market_value</td>   <th>  No. Observations:  </th>    <td>5021</td>   \n",
       "</tr>\n",
       "<tr>\n",
       "  <th>Model:</th>            <td>ARIMA(6, 0, 6)</td>  <th>  Log Likelihood     </th> <td>-27591.277</td>\n",
       "</tr>\n",
       "<tr>\n",
       "  <th>Date:</th>            <td>Sun, 29 Nov 2020</td> <th>  AIC                </th>  <td>55210.553</td>\n",
       "</tr>\n",
       "<tr>\n",
       "  <th>Time:</th>                <td>20:28:36</td>     <th>  BIC                </th>  <td>55301.853</td>\n",
       "</tr>\n",
       "<tr>\n",
       "  <th>Sample:</th>             <td>01-07-1994</td>    <th>  HQIC               </th>  <td>55242.546</td>\n",
       "</tr>\n",
       "<tr>\n",
       "  <th></th>                   <td>- 04-05-2013</td>   <th>                     </th>      <td> </td>    \n",
       "</tr>\n",
       "<tr>\n",
       "  <th>Covariance Type:</th>        <td>opg</td>       <th>                     </th>      <td> </td>    \n",
       "</tr>\n",
       "</table>\n",
       "<table class=\"simpletable\">\n",
       "<tr>\n",
       "     <td></td>       <th>coef</th>     <th>std err</th>      <th>z</th>      <th>P>|z|</th>  <th>[0.025</th>    <th>0.975]</th>  \n",
       "</tr>\n",
       "<tr>\n",
       "  <th>const</th>  <td> 5089.6408</td> <td>  511.835</td> <td>    9.944</td> <td> 0.000</td> <td> 4086.462</td> <td> 6092.820</td>\n",
       "</tr>\n",
       "<tr>\n",
       "  <th>ar.L1</th>  <td>    0.7381</td> <td>    0.926</td> <td>    0.797</td> <td> 0.425</td> <td>   -1.077</td> <td>    2.553</td>\n",
       "</tr>\n",
       "<tr>\n",
       "  <th>ar.L2</th>  <td>    0.2445</td> <td>    1.554</td> <td>    0.157</td> <td> 0.875</td> <td>   -2.802</td> <td>    3.291</td>\n",
       "</tr>\n",
       "<tr>\n",
       "  <th>ar.L3</th>  <td>   -0.4061</td> <td>    1.222</td> <td>   -0.332</td> <td> 0.740</td> <td>   -2.801</td> <td>    1.988</td>\n",
       "</tr>\n",
       "<tr>\n",
       "  <th>ar.L4</th>  <td>    0.3422</td> <td>    0.758</td> <td>    0.451</td> <td> 0.652</td> <td>   -1.144</td> <td>    1.828</td>\n",
       "</tr>\n",
       "<tr>\n",
       "  <th>ar.L5</th>  <td>   -0.1100</td> <td>    0.418</td> <td>   -0.263</td> <td> 0.792</td> <td>   -0.929</td> <td>    0.709</td>\n",
       "</tr>\n",
       "<tr>\n",
       "  <th>ar.L6</th>  <td>    0.1891</td> <td>    0.254</td> <td>    0.746</td> <td> 0.456</td> <td>   -0.308</td> <td>    0.686</td>\n",
       "</tr>\n",
       "<tr>\n",
       "  <th>ma.L1</th>  <td>    0.2406</td> <td>    0.926</td> <td>    0.260</td> <td> 0.795</td> <td>   -1.573</td> <td>    2.055</td>\n",
       "</tr>\n",
       "<tr>\n",
       "  <th>ma.L2</th>  <td>   -0.0390</td> <td>    0.667</td> <td>   -0.058</td> <td> 0.953</td> <td>   -1.347</td> <td>    1.269</td>\n",
       "</tr>\n",
       "<tr>\n",
       "  <th>ma.L3</th>  <td>    0.3344</td> <td>    0.562</td> <td>    0.595</td> <td> 0.552</td> <td>   -0.767</td> <td>    1.436</td>\n",
       "</tr>\n",
       "<tr>\n",
       "  <th>ma.L4</th>  <td>    0.0823</td> <td>    0.243</td> <td>    0.339</td> <td> 0.735</td> <td>   -0.394</td> <td>    0.558</td>\n",
       "</tr>\n",
       "<tr>\n",
       "  <th>ma.L5</th>  <td>    0.1449</td> <td>    0.300</td> <td>    0.483</td> <td> 0.629</td> <td>   -0.444</td> <td>    0.734</td>\n",
       "</tr>\n",
       "<tr>\n",
       "  <th>ma.L6</th>  <td>   -0.0865</td> <td>    0.085</td> <td>   -1.017</td> <td> 0.309</td> <td>   -0.253</td> <td>    0.080</td>\n",
       "</tr>\n",
       "<tr>\n",
       "  <th>sigma2</th> <td> 3468.7462</td> <td>   43.249</td> <td>   80.204</td> <td> 0.000</td> <td> 3383.980</td> <td> 3553.513</td>\n",
       "</tr>\n",
       "</table>\n",
       "<table class=\"simpletable\">\n",
       "<tr>\n",
       "  <th>Ljung-Box (L1) (Q):</th>     <td>0.00</td> <th>  Jarque-Bera (JB):  </th> <td>2960.92</td>\n",
       "</tr>\n",
       "<tr>\n",
       "  <th>Prob(Q):</th>                <td>0.98</td> <th>  Prob(JB):          </th>  <td>0.00</td>  \n",
       "</tr>\n",
       "<tr>\n",
       "  <th>Heteroskedasticity (H):</th> <td>1.89</td> <th>  Skew:              </th>  <td>-0.29</td> \n",
       "</tr>\n",
       "<tr>\n",
       "  <th>Prob(H) (two-sided):</th>    <td>0.00</td> <th>  Kurtosis:          </th>  <td>6.72</td>  \n",
       "</tr>\n",
       "</table><br/><br/>Warnings:<br/>[1] Covariance matrix calculated using the outer product of gradients (complex-step)."
      ],
      "text/plain": [
       "<class 'statsmodels.iolib.summary.Summary'>\n",
       "\"\"\"\n",
       "                               SARIMAX Results                                \n",
       "==============================================================================\n",
       "Dep. Variable:           market_value   No. Observations:                 5021\n",
       "Model:                 ARIMA(6, 0, 6)   Log Likelihood              -27591.277\n",
       "Date:                Sun, 29 Nov 2020   AIC                          55210.553\n",
       "Time:                        20:28:36   BIC                          55301.853\n",
       "Sample:                    01-07-1994   HQIC                         55242.546\n",
       "                         - 04-05-2013                                         \n",
       "Covariance Type:                  opg                                         \n",
       "==============================================================================\n",
       "                 coef    std err          z      P>|z|      [0.025      0.975]\n",
       "------------------------------------------------------------------------------\n",
       "const       5089.6408    511.835      9.944      0.000    4086.462    6092.820\n",
       "ar.L1          0.7381      0.926      0.797      0.425      -1.077       2.553\n",
       "ar.L2          0.2445      1.554      0.157      0.875      -2.802       3.291\n",
       "ar.L3         -0.4061      1.222     -0.332      0.740      -2.801       1.988\n",
       "ar.L4          0.3422      0.758      0.451      0.652      -1.144       1.828\n",
       "ar.L5         -0.1100      0.418     -0.263      0.792      -0.929       0.709\n",
       "ar.L6          0.1891      0.254      0.746      0.456      -0.308       0.686\n",
       "ma.L1          0.2406      0.926      0.260      0.795      -1.573       2.055\n",
       "ma.L2         -0.0390      0.667     -0.058      0.953      -1.347       1.269\n",
       "ma.L3          0.3344      0.562      0.595      0.552      -0.767       1.436\n",
       "ma.L4          0.0823      0.243      0.339      0.735      -0.394       0.558\n",
       "ma.L5          0.1449      0.300      0.483      0.629      -0.444       0.734\n",
       "ma.L6         -0.0865      0.085     -1.017      0.309      -0.253       0.080\n",
       "sigma2      3468.7462     43.249     80.204      0.000    3383.980    3553.513\n",
       "===================================================================================\n",
       "Ljung-Box (L1) (Q):                   0.00   Jarque-Bera (JB):              2960.92\n",
       "Prob(Q):                              0.98   Prob(JB):                         0.00\n",
       "Heteroskedasticity (H):               1.89   Skew:                            -0.29\n",
       "Prob(H) (two-sided):                  0.00   Kurtosis:                         6.72\n",
       "===================================================================================\n",
       "\n",
       "Warnings:\n",
       "[1] Covariance matrix calculated using the outer product of gradients (complex-step).\n",
       "\"\"\""
      ]
     },
     "execution_count": 54,
     "metadata": {},
     "output_type": "execute_result"
    }
   ],
   "source": [
    "model_arma_6_6 = ARIMA(df.market_value, order=(6,0,6))\n",
    "result_arma_6_6 = model_arma_6_6.fit()\n",
    "result_arma_6_6.summary()"
   ]
  },
  {
   "cell_type": "markdown",
   "metadata": {},
   "source": [
    "## Models of 6 AR lags"
   ]
  },
  {
   "cell_type": "code",
   "execution_count": 57,
   "metadata": {},
   "outputs": [
    {
     "name": "stdout",
     "output_type": "stream",
     "text": [
      "Model ARMA(6, 1)\n",
      "                               SARIMAX Results                                \n",
      "==============================================================================\n",
      "Dep. Variable:                returns   No. Observations:                 5020\n",
      "Model:                 ARIMA(6, 0, 1)   Log Likelihood               -7886.788\n",
      "Date:                Sun, 29 Nov 2020   AIC                          15791.575\n",
      "Time:                        20:40:31   BIC                          15850.266\n",
      "Sample:                    01-10-1994   HQIC                         15812.141\n",
      "                         - 04-05-2013                                         \n",
      "Covariance Type:                  opg                                         \n",
      "==============================================================================\n",
      "                 coef    std err          z      P>|z|      [0.025      0.975]\n",
      "------------------------------------------------------------------------------\n",
      "const          0.0189      0.014      1.315      0.189      -0.009       0.047\n",
      "ar.L1         -0.1437      0.188     -0.765      0.444      -0.512       0.224\n",
      "ar.L2         -0.0549      0.009     -6.149      0.000      -0.072      -0.037\n",
      "ar.L3         -0.0935      0.014     -6.724      0.000      -0.121      -0.066\n",
      "ar.L4          0.0325      0.017      1.887      0.059      -0.001       0.066\n",
      "ar.L5         -0.0553      0.012     -4.659      0.000      -0.079      -0.032\n",
      "ar.L6         -0.0540      0.014     -3.816      0.000      -0.082      -0.026\n",
      "ma.L1          0.1194      0.187      0.637      0.524      -0.248       0.487\n",
      "sigma2         1.3556      0.015     91.794      0.000       1.327       1.385\n",
      "===================================================================================\n",
      "Ljung-Box (L1) (Q):                   0.00   Jarque-Bera (JB):              6467.78\n",
      "Prob(Q):                              0.99   Prob(JB):                         0.00\n",
      "Heteroskedasticity (H):               2.00   Skew:                            -0.19\n",
      "Prob(H) (two-sided):                  0.00   Kurtosis:                         8.55\n",
      "===================================================================================\n",
      "\n",
      "Warnings:\n",
      "[1] Covariance matrix calculated using the outer product of gradients (complex-step).\n",
      "********************\n",
      "Model ARMA(6, 2)\n",
      "                               SARIMAX Results                                \n",
      "==============================================================================\n",
      "Dep. Variable:                returns   No. Observations:                 5020\n",
      "Model:                 ARIMA(6, 0, 2)   Log Likelihood               -7885.449\n",
      "Date:                Sun, 29 Nov 2020   AIC                          15790.898\n",
      "Time:                        20:40:35   BIC                          15856.110\n",
      "Sample:                    01-10-1994   HQIC                         15813.750\n",
      "                         - 04-05-2013                                         \n",
      "Covariance Type:                  opg                                         \n",
      "==============================================================================\n",
      "                 coef    std err          z      P>|z|      [0.025      0.975]\n",
      "------------------------------------------------------------------------------\n",
      "const          0.0189      0.015      1.284      0.199      -0.010       0.048\n",
      "ar.L1          0.1785      0.169      1.054      0.292      -0.154       0.510\n",
      "ar.L2         -0.4242      0.108     -3.917      0.000      -0.637      -0.212\n",
      "ar.L3         -0.0851      0.013     -6.579      0.000      -0.111      -0.060\n",
      "ar.L4          0.0406      0.014      2.946      0.003       0.014       0.068\n",
      "ar.L5         -0.0994      0.017     -5.849      0.000      -0.133      -0.066\n",
      "ar.L6         -0.0172      0.019     -0.893      0.372      -0.055       0.021\n",
      "ma.L1         -0.2027      0.168     -1.208      0.227      -0.532       0.126\n",
      "ma.L2          0.3788      0.111      3.413      0.001       0.161       0.596\n",
      "sigma2         1.3549      0.015     92.034      0.000       1.326       1.384\n",
      "===================================================================================\n",
      "Ljung-Box (L1) (Q):                   0.00   Jarque-Bera (JB):              6439.92\n",
      "Prob(Q):                              1.00   Prob(JB):                         0.00\n",
      "Heteroskedasticity (H):               2.00   Skew:                            -0.18\n",
      "Prob(H) (two-sided):                  0.00   Kurtosis:                         8.54\n",
      "===================================================================================\n",
      "\n",
      "Warnings:\n",
      "[1] Covariance matrix calculated using the outer product of gradients (complex-step).\n",
      "********************\n"
     ]
    },
    {
     "name": "stderr",
     "output_type": "stream",
     "text": [
      "D:\\anaconda3\\envs\\time-series-tutorials\\lib\\site-packages\\statsmodels\\base\\model.py:566: ConvergenceWarning: Maximum Likelihood optimization failed to converge. Check mle_retvals\n",
      "  warnings.warn(\"Maximum Likelihood optimization failed to \"\n"
     ]
    },
    {
     "name": "stdout",
     "output_type": "stream",
     "text": [
      "Model ARMA(6, 3)\n",
      "                               SARIMAX Results                                \n",
      "==============================================================================\n",
      "Dep. Variable:                returns   No. Observations:                 5020\n",
      "Model:                 ARIMA(6, 0, 3)   Log Likelihood               -7885.236\n",
      "Date:                Sun, 29 Nov 2020   AIC                          15792.472\n",
      "Time:                        20:40:43   BIC                          15864.205\n",
      "Sample:                    01-10-1994   HQIC                         15817.609\n",
      "                         - 04-05-2013                                         \n",
      "Covariance Type:                  opg                                         \n",
      "==============================================================================\n",
      "                 coef    std err          z      P>|z|      [0.025      0.975]\n",
      "------------------------------------------------------------------------------\n",
      "const          0.0189      0.015      1.229      0.219      -0.011       0.049\n",
      "ar.L1          1.0921      0.204      5.347      0.000       0.692       1.492\n",
      "ar.L2         -0.8210      0.101     -8.146      0.000      -1.019      -0.623\n",
      "ar.L3          0.4893      0.117      4.181      0.000       0.260       0.719\n",
      "ar.L4          0.1069      0.022      4.944      0.000       0.065       0.149\n",
      "ar.L5         -0.1377      0.016     -8.848      0.000      -0.168      -0.107\n",
      "ar.L6          0.0931      0.026      3.644      0.000       0.043       0.143\n",
      "ma.L1         -1.1165      0.204     -5.484      0.000      -1.516      -0.717\n",
      "ma.L2          0.8004      0.104      7.711      0.000       0.597       1.004\n",
      "ma.L3         -0.5403      0.110     -4.912      0.000      -0.756      -0.325\n",
      "sigma2         1.3545      0.015     91.378      0.000       1.325       1.384\n",
      "===================================================================================\n",
      "Ljung-Box (L1) (Q):                   0.00   Jarque-Bera (JB):              6559.82\n",
      "Prob(Q):                              1.00   Prob(JB):                         0.00\n",
      "Heteroskedasticity (H):               1.99   Skew:                            -0.19\n",
      "Prob(H) (two-sided):                  0.00   Kurtosis:                         8.59\n",
      "===================================================================================\n",
      "\n",
      "Warnings:\n",
      "[1] Covariance matrix calculated using the outer product of gradients (complex-step).\n",
      "********************\n"
     ]
    },
    {
     "name": "stderr",
     "output_type": "stream",
     "text": [
      "D:\\anaconda3\\envs\\time-series-tutorials\\lib\\site-packages\\statsmodels\\base\\model.py:566: ConvergenceWarning: Maximum Likelihood optimization failed to converge. Check mle_retvals\n",
      "  warnings.warn(\"Maximum Likelihood optimization failed to \"\n"
     ]
    },
    {
     "name": "stdout",
     "output_type": "stream",
     "text": [
      "Model ARMA(6, 4)\n",
      "                               SARIMAX Results                                \n",
      "==============================================================================\n",
      "Dep. Variable:                returns   No. Observations:                 5020\n",
      "Model:                 ARIMA(6, 0, 4)   Log Likelihood               -7883.427\n",
      "Date:                Sun, 29 Nov 2020   AIC                          15790.854\n",
      "Time:                        20:40:53   BIC                          15869.108\n",
      "Sample:                    01-10-1994   HQIC                         15818.275\n",
      "                         - 04-05-2013                                         \n",
      "Covariance Type:                  opg                                         \n",
      "==============================================================================\n",
      "                 coef    std err          z      P>|z|      [0.025      0.975]\n",
      "------------------------------------------------------------------------------\n",
      "const          0.0190      0.014      1.318      0.188      -0.009       0.047\n",
      "ar.L1          0.8022      0.116      6.903      0.000       0.574       1.030\n",
      "ar.L2         -0.7146      0.096     -7.410      0.000      -0.904      -0.526\n",
      "ar.L3          0.4147      0.101      4.119      0.000       0.217       0.612\n",
      "ar.L4          0.3640      0.074      4.947      0.000       0.220       0.508\n",
      "ar.L5         -0.1085      0.012     -8.692      0.000      -0.133      -0.084\n",
      "ar.L6          0.0908      0.013      7.249      0.000       0.066       0.115\n",
      "ma.L1         -0.8265      0.117     -7.060      0.000      -1.056      -0.597\n",
      "ma.L2          0.6870      0.101      6.787      0.000       0.489       0.885\n",
      "ma.L3         -0.4756      0.101     -4.690      0.000      -0.674      -0.277\n",
      "ma.L4         -0.2735      0.080     -3.438      0.001      -0.429      -0.118\n",
      "sigma2         1.3546      0.015     91.488      0.000       1.326       1.384\n",
      "===================================================================================\n",
      "Ljung-Box (L1) (Q):                   0.00   Jarque-Bera (JB):              6490.21\n",
      "Prob(Q):                              0.99   Prob(JB):                         0.00\n",
      "Heteroskedasticity (H):               1.99   Skew:                            -0.23\n",
      "Prob(H) (two-sided):                  0.00   Kurtosis:                         8.55\n",
      "===================================================================================\n",
      "\n",
      "Warnings:\n",
      "[1] Covariance matrix calculated using the outer product of gradients (complex-step).\n",
      "********************\n"
     ]
    },
    {
     "name": "stderr",
     "output_type": "stream",
     "text": [
      "D:\\anaconda3\\envs\\time-series-tutorials\\lib\\site-packages\\statsmodels\\tsa\\statespace\\sarimax.py:966: UserWarning: Non-stationary starting autoregressive parameters found. Using zeros as starting parameters.\n",
      "  warn('Non-stationary starting autoregressive parameters'\n",
      "D:\\anaconda3\\envs\\time-series-tutorials\\lib\\site-packages\\statsmodels\\tsa\\statespace\\sarimax.py:978: UserWarning: Non-invertible starting MA parameters found. Using zeros as starting parameters.\n",
      "  warn('Non-invertible starting MA parameters found.'\n",
      "D:\\anaconda3\\envs\\time-series-tutorials\\lib\\site-packages\\statsmodels\\base\\model.py:566: ConvergenceWarning: Maximum Likelihood optimization failed to converge. Check mle_retvals\n",
      "  warnings.warn(\"Maximum Likelihood optimization failed to \"\n"
     ]
    },
    {
     "name": "stdout",
     "output_type": "stream",
     "text": [
      "Model ARMA(6, 5)\n",
      "                               SARIMAX Results                                \n",
      "==============================================================================\n",
      "Dep. Variable:                returns   No. Observations:                 5020\n",
      "Model:                 ARIMA(6, 0, 5)   Log Likelihood               -7883.158\n",
      "Date:                Sun, 29 Nov 2020   AIC                          15792.317\n",
      "Time:                        20:41:02   BIC                          15877.092\n",
      "Sample:                    01-10-1994   HQIC                         15822.023\n",
      "                         - 04-05-2013                                         \n",
      "Covariance Type:                  opg                                         \n",
      "==============================================================================\n",
      "                 coef    std err          z      P>|z|      [0.025      0.975]\n",
      "------------------------------------------------------------------------------\n",
      "const          0.0188      0.015      1.273      0.203      -0.010       0.048\n",
      "ar.L1         -0.3753      0.606     -0.619      0.536      -1.564       0.813\n",
      "ar.L2         -0.4966      0.110     -4.508      0.000      -0.712      -0.281\n",
      "ar.L3         -0.3443      0.366     -0.942      0.346      -1.061       0.372\n",
      "ar.L4          0.2095      0.135      1.555      0.120      -0.055       0.474\n",
      "ar.L5          0.1215      0.160      0.761      0.446      -0.191       0.434\n",
      "ar.L6         -0.0398      0.065     -0.616      0.538      -0.166       0.087\n",
      "ma.L1          0.3524      0.607      0.581      0.561      -0.836       1.541\n",
      "ma.L2          0.4406      0.118      3.726      0.000       0.209       0.672\n",
      "ma.L3          0.2313      0.339      0.682      0.495      -0.434       0.896\n",
      "ma.L4         -0.2284      0.091     -2.506      0.012      -0.407      -0.050\n",
      "ma.L5         -0.2103      0.147     -1.432      0.152      -0.498       0.078\n",
      "sigma2         1.3520      0.015     89.557      0.000       1.322       1.382\n",
      "===================================================================================\n",
      "Ljung-Box (L1) (Q):                   0.01   Jarque-Bera (JB):              6457.21\n",
      "Prob(Q):                              0.91   Prob(JB):                         0.00\n",
      "Heteroskedasticity (H):               2.00   Skew:                            -0.20\n",
      "Prob(H) (two-sided):                  0.00   Kurtosis:                         8.54\n",
      "===================================================================================\n",
      "\n",
      "Warnings:\n",
      "[1] Covariance matrix calculated using the outer product of gradients (complex-step).\n",
      "********************\n"
     ]
    }
   ],
   "source": [
    "for q in range(1,6):\n",
    "    model = ARIMA(returns, order=(6,0,q))\n",
    "    results = model.fit()\n",
    "    arma_models[f\"6_{q}\"] = model\n",
    "    print(f\"Model ARMA(6, {q})\")\n",
    "    print(results.summary())\n",
    "    print(\"*\"*20)"
   ]
  },
  {
   "cell_type": "markdown",
   "metadata": {},
   "source": [
    "## Models of 6 MA lags"
   ]
  },
  {
   "cell_type": "code",
   "execution_count": 58,
   "metadata": {},
   "outputs": [
    {
     "name": "stdout",
     "output_type": "stream",
     "text": [
      "Model ARMA(1, 6)\n",
      "                               SARIMAX Results                                \n",
      "==============================================================================\n",
      "Dep. Variable:                returns   No. Observations:                 5020\n",
      "Model:                 ARIMA(1, 0, 6)   Log Likelihood               -7889.163\n",
      "Date:                Sun, 29 Nov 2020   AIC                          15796.326\n",
      "Time:                        20:41:04   BIC                          15855.016\n",
      "Sample:                    01-10-1994   HQIC                         15816.892\n",
      "                         - 04-05-2013                                         \n",
      "Covariance Type:                  opg                                         \n",
      "==============================================================================\n",
      "                 coef    std err          z      P>|z|      [0.025      0.975]\n",
      "------------------------------------------------------------------------------\n",
      "const          0.0189      0.014      1.311      0.190      -0.009       0.047\n",
      "ar.L1         -0.0697      0.225     -0.310      0.756      -0.510       0.371\n",
      "ma.L1          0.0457      0.224      0.204      0.838      -0.394       0.485\n",
      "ma.L2         -0.0503      0.010     -5.197      0.000      -0.069      -0.031\n",
      "ma.L3         -0.0859      0.015     -5.891      0.000      -0.114      -0.057\n",
      "ma.L4          0.0406      0.020      1.998      0.046       0.001       0.080\n",
      "ma.L5         -0.0452      0.013     -3.509      0.000      -0.070      -0.020\n",
      "ma.L6         -0.0424      0.014     -2.926      0.003      -0.071      -0.014\n",
      "sigma2         1.3569      0.015     91.490      0.000       1.328       1.386\n",
      "===================================================================================\n",
      "Ljung-Box (L1) (Q):                   0.00   Jarque-Bera (JB):              6525.89\n",
      "Prob(Q):                              0.99   Prob(JB):                         0.00\n",
      "Heteroskedasticity (H):               2.00   Skew:                            -0.20\n",
      "Prob(H) (two-sided):                  0.00   Kurtosis:                         8.57\n",
      "===================================================================================\n",
      "\n",
      "Warnings:\n",
      "[1] Covariance matrix calculated using the outer product of gradients (complex-step).\n",
      "********************\n",
      "Model ARMA(2, 6)\n",
      "                               SARIMAX Results                                \n",
      "==============================================================================\n",
      "Dep. Variable:                returns   No. Observations:                 5020\n",
      "Model:                 ARIMA(2, 0, 6)   Log Likelihood               -7884.365\n",
      "Date:                Sun, 29 Nov 2020   AIC                          15788.730\n",
      "Time:                        20:41:09   BIC                          15853.942\n",
      "Sample:                    01-10-1994   HQIC                         15811.581\n",
      "                         - 04-05-2013                                         \n",
      "Covariance Type:                  opg                                         \n",
      "==============================================================================\n",
      "                 coef    std err          z      P>|z|      [0.025      0.975]\n",
      "------------------------------------------------------------------------------\n",
      "const          0.0189      0.015      1.272      0.203      -0.010       0.048\n",
      "ar.L1          0.1895      0.042      4.557      0.000       0.108       0.271\n",
      "ar.L2         -0.8292      0.037    -22.417      0.000      -0.902      -0.757\n",
      "ma.L1         -0.2134      0.042     -5.133      0.000      -0.295      -0.132\n",
      "ma.L2          0.7828      0.039     20.004      0.000       0.706       0.860\n",
      "ma.L3         -0.0951      0.012     -8.078      0.000      -0.118      -0.072\n",
      "ma.L4          0.0198      0.011      1.817      0.069      -0.002       0.041\n",
      "ma.L5         -0.1145      0.009    -12.289      0.000      -0.133      -0.096\n",
      "ma.L6          0.0127      0.010      1.238      0.216      -0.007       0.033\n",
      "sigma2         1.3543      0.015     91.739      0.000       1.325       1.383\n",
      "===================================================================================\n",
      "Ljung-Box (L1) (Q):                   0.00   Jarque-Bera (JB):              6475.22\n",
      "Prob(Q):                              0.99   Prob(JB):                         0.00\n",
      "Heteroskedasticity (H):               1.99   Skew:                            -0.18\n",
      "Prob(H) (two-sided):                  0.00   Kurtosis:                         8.55\n",
      "===================================================================================\n",
      "\n",
      "Warnings:\n",
      "[1] Covariance matrix calculated using the outer product of gradients (complex-step).\n",
      "********************\n",
      "Model ARMA(3, 6)\n",
      "                               SARIMAX Results                                \n",
      "==============================================================================\n",
      "Dep. Variable:                returns   No. Observations:                 5020\n",
      "Model:                 ARIMA(3, 0, 6)   Log Likelihood               -7884.472\n",
      "Date:                Sun, 29 Nov 2020   AIC                          15790.944\n",
      "Time:                        20:41:14   BIC                          15862.677\n",
      "Sample:                    01-10-1994   HQIC                         15816.080\n",
      "                         - 04-05-2013                                         \n",
      "Covariance Type:                  opg                                         \n",
      "==============================================================================\n",
      "                 coef    std err          z      P>|z|      [0.025      0.975]\n",
      "------------------------------------------------------------------------------\n",
      "const          0.0189      0.015      1.285      0.199      -0.010       0.048\n",
      "ar.L1         -0.7534      0.144     -5.247      0.000      -1.035      -0.472\n",
      "ar.L2         -0.6506      0.058    -11.302      0.000      -0.763      -0.538\n",
      "ar.L3         -0.7588      0.112     -6.760      0.000      -0.979      -0.539\n",
      "ma.L1          0.7299      0.144      5.082      0.000       0.448       1.011\n",
      "ma.L2          0.5822      0.060      9.751      0.000       0.465       0.699\n",
      "ma.L3          0.6203      0.109      5.711      0.000       0.407       0.833\n",
      "ma.L4         -0.0738      0.017     -4.224      0.000      -0.108      -0.040\n",
      "ma.L5         -0.1013      0.012     -8.679      0.000      -0.124      -0.078\n",
      "ma.L6         -0.1001      0.021     -4.830      0.000      -0.141      -0.059\n",
      "sigma2         1.3544      0.015     91.522      0.000       1.325       1.383\n",
      "===================================================================================\n",
      "Ljung-Box (L1) (Q):                   0.00   Jarque-Bera (JB):              6477.77\n",
      "Prob(Q):                              0.96   Prob(JB):                         0.00\n",
      "Heteroskedasticity (H):               1.99   Skew:                            -0.18\n",
      "Prob(H) (two-sided):                  0.00   Kurtosis:                         8.55\n",
      "===================================================================================\n",
      "\n",
      "Warnings:\n",
      "[1] Covariance matrix calculated using the outer product of gradients (complex-step).\n",
      "********************\n"
     ]
    },
    {
     "name": "stderr",
     "output_type": "stream",
     "text": [
      "D:\\anaconda3\\envs\\time-series-tutorials\\lib\\site-packages\\statsmodels\\base\\model.py:566: ConvergenceWarning: Maximum Likelihood optimization failed to converge. Check mle_retvals\n",
      "  warnings.warn(\"Maximum Likelihood optimization failed to \"\n"
     ]
    },
    {
     "name": "stdout",
     "output_type": "stream",
     "text": [
      "Model ARMA(4, 6)\n",
      "                               SARIMAX Results                                \n",
      "==============================================================================\n",
      "Dep. Variable:                returns   No. Observations:                 5020\n",
      "Model:                 ARIMA(4, 0, 6)   Log Likelihood               -7883.904\n",
      "Date:                Sun, 29 Nov 2020   AIC                          15791.809\n",
      "Time:                        20:41:23   BIC                          15870.063\n",
      "Sample:                    01-10-1994   HQIC                         15819.230\n",
      "                         - 04-05-2013                                         \n",
      "Covariance Type:                  opg                                         \n",
      "==============================================================================\n",
      "                 coef    std err          z      P>|z|      [0.025      0.975]\n",
      "------------------------------------------------------------------------------\n",
      "const          0.0189      0.015      1.255      0.209      -0.011       0.048\n",
      "ar.L1         -1.0141      6.292     -0.161      0.872     -13.346      11.318\n",
      "ar.L2         -0.9753      0.707     -1.380      0.168      -2.360       0.410\n",
      "ar.L3         -1.0449      5.475     -0.191      0.849     -11.776       9.686\n",
      "ar.L4         -0.2385      1.640     -0.145      0.884      -3.453       2.976\n",
      "ma.L1          0.9899      6.292      0.157      0.875     -11.343      13.323\n",
      "ma.L2          0.9003      0.555      1.621      0.105      -0.188       1.989\n",
      "ma.L3          0.8853      5.141      0.172      0.863      -9.191      10.962\n",
      "ma.L4          0.1318      0.937      0.141      0.888      -1.705       1.969\n",
      "ma.L5         -0.1173      0.043     -2.757      0.006      -0.201      -0.034\n",
      "ma.L6         -0.1001      0.704     -0.142      0.887      -1.479       1.279\n",
      "sigma2         1.3541      0.015     88.753      0.000       1.324       1.384\n",
      "===================================================================================\n",
      "Ljung-Box (L1) (Q):                   0.00   Jarque-Bera (JB):              6251.17\n",
      "Prob(Q):                              0.97   Prob(JB):                         0.00\n",
      "Heteroskedasticity (H):               1.99   Skew:                            -0.17\n",
      "Prob(H) (two-sided):                  0.00   Kurtosis:                         8.46\n",
      "===================================================================================\n",
      "\n",
      "Warnings:\n",
      "[1] Covariance matrix calculated using the outer product of gradients (complex-step).\n",
      "********************\n"
     ]
    },
    {
     "name": "stderr",
     "output_type": "stream",
     "text": [
      "D:\\anaconda3\\envs\\time-series-tutorials\\lib\\site-packages\\statsmodels\\base\\model.py:566: ConvergenceWarning: Maximum Likelihood optimization failed to converge. Check mle_retvals\n",
      "  warnings.warn(\"Maximum Likelihood optimization failed to \"\n"
     ]
    },
    {
     "name": "stdout",
     "output_type": "stream",
     "text": [
      "Model ARMA(5, 6)\n",
      "                               SARIMAX Results                                \n",
      "==============================================================================\n",
      "Dep. Variable:                returns   No. Observations:                 5020\n",
      "Model:                 ARIMA(5, 0, 6)   Log Likelihood               -7882.349\n",
      "Date:                Sun, 29 Nov 2020   AIC                          15790.698\n",
      "Time:                        20:41:33   BIC                          15875.473\n",
      "Sample:                    01-10-1994   HQIC                         15820.404\n",
      "                         - 04-05-2013                                         \n",
      "Covariance Type:                  opg                                         \n",
      "==============================================================================\n",
      "                 coef    std err          z      P>|z|      [0.025      0.975]\n",
      "------------------------------------------------------------------------------\n",
      "const          0.0189      0.015      1.281      0.200      -0.010       0.048\n",
      "ar.L1         -0.8547      0.218     -3.918      0.000      -1.282      -0.427\n",
      "ar.L2         -0.6128      0.107     -5.718      0.000      -0.823      -0.403\n",
      "ar.L3         -0.6646      0.191     -3.488      0.000      -1.038      -0.291\n",
      "ar.L4          0.0841      0.105      0.798      0.425      -0.123       0.291\n",
      "ar.L5          0.2426      0.073      3.308      0.001       0.099       0.386\n",
      "ma.L1          0.8306      0.218      3.808      0.000       0.403       1.258\n",
      "ma.L2          0.5444      0.104      5.252      0.000       0.341       0.748\n",
      "ma.L3          0.5243      0.178      2.950      0.003       0.176       0.873\n",
      "ma.L4         -0.1605      0.090     -1.780      0.075      -0.337       0.016\n",
      "ma.L5         -0.3379      0.068     -4.950      0.000      -0.472      -0.204\n",
      "ma.L6         -0.0882      0.027     -3.306      0.001      -0.141      -0.036\n",
      "sigma2         1.3531      0.015     89.578      0.000       1.323       1.383\n",
      "===================================================================================\n",
      "Ljung-Box (L1) (Q):                   0.00   Jarque-Bera (JB):              6409.71\n",
      "Prob(Q):                              0.99   Prob(JB):                         0.00\n",
      "Heteroskedasticity (H):               2.00   Skew:                            -0.20\n",
      "Prob(H) (two-sided):                  0.00   Kurtosis:                         8.52\n",
      "===================================================================================\n",
      "\n",
      "Warnings:\n",
      "[1] Covariance matrix calculated using the outer product of gradients (complex-step).\n",
      "********************\n"
     ]
    }
   ],
   "source": [
    "for p in range(1,6):\n",
    "    model = ARIMA(returns, order=(p,0,6))\n",
    "    results = model.fit()\n",
    "    arma_models[f\"{p}_6\"] = model\n",
    "    print(f\"Model ARMA({p}, 6)\")\n",
    "    print(results.summary())\n",
    "    print(\"*\"*20)"
   ]
  },
  {
   "cell_type": "code",
   "execution_count": 60,
   "metadata": {},
   "outputs": [
    {
     "name": "stderr",
     "output_type": "stream",
     "text": [
      "D:\\anaconda3\\envs\\time-series-tutorials\\lib\\site-packages\\statsmodels\\base\\model.py:566: ConvergenceWarning: Maximum Likelihood optimization failed to converge. Check mle_retvals\n",
      "  warnings.warn(\"Maximum Likelihood optimization failed to \"\n",
      "D:\\anaconda3\\envs\\time-series-tutorials\\lib\\site-packages\\statsmodels\\base\\model.py:566: ConvergenceWarning: Maximum Likelihood optimization failed to converge. Check mle_retvals\n",
      "  warnings.warn(\"Maximum Likelihood optimization failed to \"\n"
     ]
    }
   ],
   "source": [
    "model_arma_6_1 = arma_models[\"6_1\"]\n",
    "results_arma_6_1 = model_arma_6_1.fit()\n",
    "\n",
    "model_arma_6_3 = arma_models[\"6_3\"]\n",
    "results_arma_6_3 = model_arma_6_3.fit()\n",
    "\n",
    "model_arma_5_6 = arma_models[\"5_6\"]\n",
    "results_arma_5_6 = model_arma_5_6.fit()"
   ]
  },
  {
   "cell_type": "code",
   "execution_count": 62,
   "metadata": {},
   "outputs": [
    {
     "name": "stdout",
     "output_type": "stream",
     "text": [
      "\n",
      " ARMA(6,1) LLF: \t-7886.787682947535\t AIC: \t15791.57536589507\n",
      "\n",
      " ARMA(6,3) LLF: \t-7885.236166269082\t AIC: \t15792.472332538164\n",
      "\n",
      " ARMA(5,6) LLF: \t-7882.348752013994\t AIC: \t15790.697504027989\n"
     ]
    }
   ],
   "source": [
    "print(f\"\\n ARMA(6,1) LLF: \\t{results_arma_6_1.llf}\\t AIC: \\t{results_arma_6_1.aic}\")\n",
    "print(f\"\\n ARMA(6,3) LLF: \\t{results_arma_6_3.llf}\\t AIC: \\t{results_arma_6_3.aic}\")\n",
    "print(f\"\\n ARMA(5,6) LLF: \\t{results_arma_5_6.llf}\\t AIC: \\t{results_arma_5_6.aic}\")"
   ]
  },
  {
   "cell_type": "markdown",
   "metadata": {},
   "source": [
    "ARMA(5,6) has the highest LLF and smallest value of AIC thus ARMA(5,6) is our selected model."
   ]
  },
  {
   "cell_type": "markdown",
   "metadata": {},
   "source": [
    "Proceed to perform residual analysis."
   ]
  },
  {
   "cell_type": "markdown",
   "metadata": {},
   "source": [
    "## Residual Analysis on ARMA(5,6)"
   ]
  },
  {
   "cell_type": "code",
   "execution_count": 63,
   "metadata": {},
   "outputs": [],
   "source": [
    "residuals_arma_5_6 = results_arma_5_6.resid"
   ]
  },
  {
   "cell_type": "code",
   "execution_count": 66,
   "metadata": {},
   "outputs": [
    {
     "data": {
      "image/png": "[encoded data removed]",
      "text/plain": [
       "<Figure size 432x288 with 1 Axes>"
      ]
     },
     "metadata": {
      "needs_background": "light"
     },
     "output_type": "display_data"
    }
   ],
   "source": [
    "sgt.plot_acf(residuals_arma_5_6, zero=False, lags=40)\n",
    "plt.title(\"Residuals of ARMA(5,6)\")\n",
    "plt.show()"
   ]
  },
  {
   "cell_type": "markdown",
   "metadata": {},
   "source": [
    "## Compare ARMA for Returns vs ARMA for Prices"
   ]
  },
  {
   "cell_type": "markdown",
   "metadata": {},
   "source": [
    "Here we will compare the performance of ARMA(5,1) for Returns and ARMA(5,6) for prices"
   ]
  },
  {
   "cell_type": "code",
   "execution_count": 67,
   "metadata": {},
   "outputs": [
    {
     "data": {
      "text/html": [
       "<table class=\"simpletable\">\n",
       "<caption>SARIMAX Results</caption>\n",
       "<tr>\n",
       "  <th>Dep. Variable:</th>        <td>returns</td>     <th>  No. Observations:  </th>   <td>5020</td>   \n",
       "</tr>\n",
       "<tr>\n",
       "  <th>Model:</th>            <td>ARIMA(5, 0, 1)</td>  <th>  Log Likelihood     </th> <td>-7889.311</td>\n",
       "</tr>\n",
       "<tr>\n",
       "  <th>Date:</th>            <td>Sun, 29 Nov 2020</td> <th>  AIC                </th> <td>15794.623</td>\n",
       "</tr>\n",
       "<tr>\n",
       "  <th>Time:</th>                <td>20:54:23</td>     <th>  BIC                </th> <td>15846.792</td>\n",
       "</tr>\n",
       "<tr>\n",
       "  <th>Sample:</th>             <td>01-10-1994</td>    <th>  HQIC               </th> <td>15812.903</td>\n",
       "</tr>\n",
       "<tr>\n",
       "  <th></th>                   <td>- 04-05-2013</td>   <th>                     </th>     <td> </td>    \n",
       "</tr>\n",
       "<tr>\n",
       "  <th>Covariance Type:</th>        <td>opg</td>       <th>                     </th>     <td> </td>    \n",
       "</tr>\n",
       "</table>\n",
       "<table class=\"simpletable\">\n",
       "<tr>\n",
       "     <td></td>       <th>coef</th>     <th>std err</th>      <th>z</th>      <th>P>|z|</th>  <th>[0.025</th>    <th>0.975]</th>  \n",
       "</tr>\n",
       "<tr>\n",
       "  <th>const</th>  <td>    0.0189</td> <td>    0.015</td> <td>    1.301</td> <td> 0.193</td> <td>   -0.010</td> <td>    0.047</td>\n",
       "</tr>\n",
       "<tr>\n",
       "  <th>ar.L1</th>  <td>    0.3449</td> <td>    0.105</td> <td>    3.270</td> <td> 0.001</td> <td>    0.138</td> <td>    0.552</td>\n",
       "</tr>\n",
       "<tr>\n",
       "  <th>ar.L2</th>  <td>   -0.0458</td> <td>    0.009</td> <td>   -4.852</td> <td> 0.000</td> <td>   -0.064</td> <td>   -0.027</td>\n",
       "</tr>\n",
       "<tr>\n",
       "  <th>ar.L3</th>  <td>   -0.0651</td> <td>    0.010</td> <td>   -6.435</td> <td> 0.000</td> <td>   -0.085</td> <td>   -0.045</td>\n",
       "</tr>\n",
       "<tr>\n",
       "  <th>ar.L4</th>  <td>    0.0742</td> <td>    0.012</td> <td>    6.092</td> <td> 0.000</td> <td>    0.050</td> <td>    0.098</td>\n",
       "</tr>\n",
       "<tr>\n",
       "  <th>ar.L5</th>  <td>   -0.0813</td> <td>    0.009</td> <td>   -9.480</td> <td> 0.000</td> <td>   -0.098</td> <td>   -0.064</td>\n",
       "</tr>\n",
       "<tr>\n",
       "  <th>ma.L1</th>  <td>   -0.3682</td> <td>    0.106</td> <td>   -3.461</td> <td> 0.001</td> <td>   -0.577</td> <td>   -0.160</td>\n",
       "</tr>\n",
       "<tr>\n",
       "  <th>sigma2</th> <td>    1.3570</td> <td>    0.015</td> <td>   92.269</td> <td> 0.000</td> <td>    1.328</td> <td>    1.386</td>\n",
       "</tr>\n",
       "</table>\n",
       "<table class=\"simpletable\">\n",
       "<tr>\n",
       "  <th>Ljung-Box (L1) (Q):</th>     <td>0.01</td> <th>  Jarque-Bera (JB):  </th> <td>6468.96</td>\n",
       "</tr>\n",
       "<tr>\n",
       "  <th>Prob(Q):</th>                <td>0.94</td> <th>  Prob(JB):          </th>  <td>0.00</td>  \n",
       "</tr>\n",
       "<tr>\n",
       "  <th>Heteroskedasticity (H):</th> <td>2.00</td> <th>  Skew:              </th>  <td>-0.20</td> \n",
       "</tr>\n",
       "<tr>\n",
       "  <th>Prob(H) (two-sided):</th>    <td>0.00</td> <th>  Kurtosis:          </th>  <td>8.55</td>  \n",
       "</tr>\n",
       "</table><br/><br/>Warnings:<br/>[1] Covariance matrix calculated using the outer product of gradients (complex-step)."
      ],
      "text/plain": [
       "<class 'statsmodels.iolib.summary.Summary'>\n",
       "\"\"\"\n",
       "                               SARIMAX Results                                \n",
       "==============================================================================\n",
       "Dep. Variable:                returns   No. Observations:                 5020\n",
       "Model:                 ARIMA(5, 0, 1)   Log Likelihood               -7889.311\n",
       "Date:                Sun, 29 Nov 2020   AIC                          15794.623\n",
       "Time:                        20:54:23   BIC                          15846.792\n",
       "Sample:                    01-10-1994   HQIC                         15812.903\n",
       "                         - 04-05-2013                                         \n",
       "Covariance Type:                  opg                                         \n",
       "==============================================================================\n",
       "                 coef    std err          z      P>|z|      [0.025      0.975]\n",
       "------------------------------------------------------------------------------\n",
       "const          0.0189      0.015      1.301      0.193      -0.010       0.047\n",
       "ar.L1          0.3449      0.105      3.270      0.001       0.138       0.552\n",
       "ar.L2         -0.0458      0.009     -4.852      0.000      -0.064      -0.027\n",
       "ar.L3         -0.0651      0.010     -6.435      0.000      -0.085      -0.045\n",
       "ar.L4          0.0742      0.012      6.092      0.000       0.050       0.098\n",
       "ar.L5         -0.0813      0.009     -9.480      0.000      -0.098      -0.064\n",
       "ma.L1         -0.3682      0.106     -3.461      0.001      -0.577      -0.160\n",
       "sigma2         1.3570      0.015     92.269      0.000       1.328       1.386\n",
       "===================================================================================\n",
       "Ljung-Box (L1) (Q):                   0.01   Jarque-Bera (JB):              6468.96\n",
       "Prob(Q):                              0.94   Prob(JB):                         0.00\n",
       "Heteroskedasticity (H):               2.00   Skew:                            -0.20\n",
       "Prob(H) (two-sided):                  0.00   Kurtosis:                         8.55\n",
       "===================================================================================\n",
       "\n",
       "Warnings:\n",
       "[1] Covariance matrix calculated using the outer product of gradients (complex-step).\n",
       "\"\"\""
      ]
     },
     "execution_count": 67,
     "metadata": {},
     "output_type": "execute_result"
    }
   ],
   "source": [
    "model_arma_5_1 = ARIMA(returns, order=(5,0,1))\n",
    "result_arma_5_1 = model_arma_5_1.fit()\n",
    "result_arma_5_1.summary()"
   ]
  },
  {
   "cell_type": "code",
   "execution_count": 68,
   "metadata": {},
   "outputs": [
    {
     "name": "stderr",
     "output_type": "stream",
     "text": [
      "D:\\anaconda3\\envs\\time-series-tutorials\\lib\\site-packages\\statsmodels\\base\\model.py:566: ConvergenceWarning: Maximum Likelihood optimization failed to converge. Check mle_retvals\n",
      "  warnings.warn(\"Maximum Likelihood optimization failed to \"\n"
     ]
    },
    {
     "data": {
      "text/html": [
       "<table class=\"simpletable\">\n",
       "<caption>SARIMAX Results</caption>\n",
       "<tr>\n",
       "  <th>Dep. Variable:</th>     <td>market_value</td>   <th>  No. Observations:  </th>    <td>5021</td>   \n",
       "</tr>\n",
       "<tr>\n",
       "  <th>Model:</th>            <td>ARIMA(5, 0, 6)</td>  <th>  Log Likelihood     </th> <td>-27589.736</td>\n",
       "</tr>\n",
       "<tr>\n",
       "  <th>Date:</th>            <td>Sun, 29 Nov 2020</td> <th>  AIC                </th>  <td>55205.472</td>\n",
       "</tr>\n",
       "<tr>\n",
       "  <th>Time:</th>                <td>20:55:07</td>     <th>  BIC                </th>  <td>55290.250</td>\n",
       "</tr>\n",
       "<tr>\n",
       "  <th>Sample:</th>             <td>01-07-1994</td>    <th>  HQIC               </th>  <td>55235.179</td>\n",
       "</tr>\n",
       "<tr>\n",
       "  <th></th>                   <td>- 04-05-2013</td>   <th>                     </th>      <td> </td>    \n",
       "</tr>\n",
       "<tr>\n",
       "  <th>Covariance Type:</th>        <td>opg</td>       <th>                     </th>      <td> </td>    \n",
       "</tr>\n",
       "</table>\n",
       "<table class=\"simpletable\">\n",
       "<tr>\n",
       "     <td></td>       <th>coef</th>     <th>std err</th>      <th>z</th>      <th>P>|z|</th>  <th>[0.025</th>    <th>0.975]</th>  \n",
       "</tr>\n",
       "<tr>\n",
       "  <th>const</th>  <td> 5089.6407</td> <td> 1649.380</td> <td>    3.086</td> <td> 0.002</td> <td> 1856.916</td> <td> 8322.365</td>\n",
       "</tr>\n",
       "<tr>\n",
       "  <th>ar.L1</th>  <td>    0.6742</td> <td>    0.627</td> <td>    1.076</td> <td> 0.282</td> <td>   -0.554</td> <td>    1.902</td>\n",
       "</tr>\n",
       "<tr>\n",
       "  <th>ar.L2</th>  <td>   -0.3188</td> <td>    0.705</td> <td>   -0.452</td> <td> 0.651</td> <td>   -1.700</td> <td>    1.063</td>\n",
       "</tr>\n",
       "<tr>\n",
       "  <th>ar.L3</th>  <td>    0.2152</td> <td>    0.611</td> <td>    0.352</td> <td> 0.725</td> <td>   -0.983</td> <td>    1.413</td>\n",
       "</tr>\n",
       "<tr>\n",
       "  <th>ar.L4</th>  <td>    0.5398</td> <td>    0.499</td> <td>    1.083</td> <td> 0.279</td> <td>   -0.437</td> <td>    1.517</td>\n",
       "</tr>\n",
       "<tr>\n",
       "  <th>ar.L5</th>  <td>   -0.1111</td> <td>    0.105</td> <td>   -1.055</td> <td> 0.291</td> <td>   -0.318</td> <td>    0.095</td>\n",
       "</tr>\n",
       "<tr>\n",
       "  <th>ma.L1</th>  <td>    0.3019</td> <td>    0.626</td> <td>    0.482</td> <td> 0.629</td> <td>   -0.925</td> <td>    1.528</td>\n",
       "</tr>\n",
       "<tr>\n",
       "  <th>ma.L2</th>  <td>    0.5926</td> <td>    0.142</td> <td>    4.182</td> <td> 0.000</td> <td>    0.315</td> <td>    0.870</td>\n",
       "</tr>\n",
       "<tr>\n",
       "  <th>ma.L3</th>  <td>    0.3186</td> <td>    0.506</td> <td>    0.630</td> <td> 0.529</td> <td>   -0.673</td> <td>    1.310</td>\n",
       "</tr>\n",
       "<tr>\n",
       "  <th>ma.L4</th>  <td>   -0.1502</td> <td>    0.097</td> <td>   -1.556</td> <td> 0.120</td> <td>   -0.339</td> <td>    0.039</td>\n",
       "</tr>\n",
       "<tr>\n",
       "  <th>ma.L5</th>  <td>   -0.0883</td> <td>    0.013</td> <td>   -6.968</td> <td> 0.000</td> <td>   -0.113</td> <td>   -0.063</td>\n",
       "</tr>\n",
       "<tr>\n",
       "  <th>ma.L6</th>  <td>   -0.0468</td> <td>    0.063</td> <td>   -0.747</td> <td> 0.455</td> <td>   -0.170</td> <td>    0.076</td>\n",
       "</tr>\n",
       "<tr>\n",
       "  <th>sigma2</th> <td> 3464.6477</td> <td>   42.264</td> <td>   81.975</td> <td> 0.000</td> <td> 3381.811</td> <td> 3547.485</td>\n",
       "</tr>\n",
       "</table>\n",
       "<table class=\"simpletable\">\n",
       "<tr>\n",
       "  <th>Ljung-Box (L1) (Q):</th>     <td>0.03</td> <th>  Jarque-Bera (JB):  </th> <td>3022.20</td>\n",
       "</tr>\n",
       "<tr>\n",
       "  <th>Prob(Q):</th>                <td>0.85</td> <th>  Prob(JB):          </th>  <td>0.00</td>  \n",
       "</tr>\n",
       "<tr>\n",
       "  <th>Heteroskedasticity (H):</th> <td>1.89</td> <th>  Skew:              </th>  <td>-0.31</td> \n",
       "</tr>\n",
       "<tr>\n",
       "  <th>Prob(H) (two-sided):</th>    <td>0.00</td> <th>  Kurtosis:          </th>  <td>6.75</td>  \n",
       "</tr>\n",
       "</table><br/><br/>Warnings:<br/>[1] Covariance matrix calculated using the outer product of gradients (complex-step)."
      ],
      "text/plain": [
       "<class 'statsmodels.iolib.summary.Summary'>\n",
       "\"\"\"\n",
       "                               SARIMAX Results                                \n",
       "==============================================================================\n",
       "Dep. Variable:           market_value   No. Observations:                 5021\n",
       "Model:                 ARIMA(5, 0, 6)   Log Likelihood              -27589.736\n",
       "Date:                Sun, 29 Nov 2020   AIC                          55205.472\n",
       "Time:                        20:55:07   BIC                          55290.250\n",
       "Sample:                    01-07-1994   HQIC                         55235.179\n",
       "                         - 04-05-2013                                         \n",
       "Covariance Type:                  opg                                         \n",
       "==============================================================================\n",
       "                 coef    std err          z      P>|z|      [0.025      0.975]\n",
       "------------------------------------------------------------------------------\n",
       "const       5089.6407   1649.380      3.086      0.002    1856.916    8322.365\n",
       "ar.L1          0.6742      0.627      1.076      0.282      -0.554       1.902\n",
       "ar.L2         -0.3188      0.705     -0.452      0.651      -1.700       1.063\n",
       "ar.L3          0.2152      0.611      0.352      0.725      -0.983       1.413\n",
       "ar.L4          0.5398      0.499      1.083      0.279      -0.437       1.517\n",
       "ar.L5         -0.1111      0.105     -1.055      0.291      -0.318       0.095\n",
       "ma.L1          0.3019      0.626      0.482      0.629      -0.925       1.528\n",
       "ma.L2          0.5926      0.142      4.182      0.000       0.315       0.870\n",
       "ma.L3          0.3186      0.506      0.630      0.529      -0.673       1.310\n",
       "ma.L4         -0.1502      0.097     -1.556      0.120      -0.339       0.039\n",
       "ma.L5         -0.0883      0.013     -6.968      0.000      -0.113      -0.063\n",
       "ma.L6         -0.0468      0.063     -0.747      0.455      -0.170       0.076\n",
       "sigma2      3464.6477     42.264     81.975      0.000    3381.811    3547.485\n",
       "===================================================================================\n",
       "Ljung-Box (L1) (Q):                   0.03   Jarque-Bera (JB):              3022.20\n",
       "Prob(Q):                              0.85   Prob(JB):                         0.00\n",
       "Heteroskedasticity (H):               1.89   Skew:                            -0.31\n",
       "Prob(H) (two-sided):                  0.00   Kurtosis:                         6.75\n",
       "===================================================================================\n",
       "\n",
       "Warnings:\n",
       "[1] Covariance matrix calculated using the outer product of gradients (complex-step).\n",
       "\"\"\""
      ]
     },
     "execution_count": 68,
     "metadata": {},
     "output_type": "execute_result"
    }
   ],
   "source": [
    "model_arma_5_6 = ARIMA(df.market_value, order=(5,0,6))\n",
    "result_arma_5_6 = model_arma_5_6.fit()\n",
    "result_arma_5_6.summary()"
   ]
  },
  {
   "cell_type": "code",
   "execution_count": 69,
   "metadata": {},
   "outputs": [
    {
     "name": "stdout",
     "output_type": "stream",
     "text": [
      "\n",
      " ARMA(5,1) of Return LLF: \t-7889.3113054536\t AIC: \t15794.6226109072\n",
      "\n",
      " ARMA(5,6) of Prices LLF: \t-27589.735807190526\t AIC: \t55205.47161438105\n"
     ]
    }
   ],
   "source": [
    "print(f\"\\n ARMA(5,1) of Return LLF: \\t{result_arma_5_1.llf}\\t AIC: \\t{result_arma_5_1.aic}\")\n",
    "print(f\"\\n ARMA(5,6) of Prices LLF: \\t{result_arma_5_6.llf}\\t AIC: \\t{result_arma_5_6.aic}\")"
   ]
  },
  {
   "cell_type": "markdown",
   "metadata": {},
   "source": [
    "Here, we observe that ARMA on stationary  data shows higher LLF and lower AIC value. Thus we can conclude that ARMA works on non-stationary data as well but it doesn't work as good as if it is on stationary data."
   ]
  }
 ],
 "metadata": {
  "kernelspec": {
   "display_name": "Python 3",
   "language": "python",
   "name": "python3"
  },
  "language_info": {
   "codemirror_mode": {
    "name": "ipython",
    "version": 3
   },
   "file_extension": ".py",
   "mimetype": "text/x-python",
   "name": "python",
   "nbconvert_exporter": "python",
   "pygments_lexer": "ipython3",
   "version": "3.9.0"
  }
 },
 "nbformat": 4,
 "nbformat_minor": 4
}
