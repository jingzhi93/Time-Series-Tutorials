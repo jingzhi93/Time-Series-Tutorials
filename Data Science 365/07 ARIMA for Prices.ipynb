{
 "cells": [
  {
   "cell_type": "code",
   "execution_count": 51,
   "metadata": {},
   "outputs": [],
   "source": [
    "import pandas as pd\n",
    "import numpy as np\n",
    "import matplotlib.pyplot as plt\n",
    "import statsmodels.graphics.tsaplots as sgt\n",
    "import statsmodels.tsa.stattools as sts\n",
    "from statsmodels.tsa.seasonal import seasonal_decompose\n",
    "from statsmodels.tsa.arima.model import ARIMA\n",
    "from scipy.stats.distributions import chi2\n",
    "from scipy.stats import chisquare\n",
    "from statsmodels.stats.proportion import proportions_chisquare\n",
    "import seaborn as sns"
   ]
  },
  {
   "cell_type": "code",
   "execution_count": 52,
   "metadata": {},
   "outputs": [],
   "source": [
    "raw = pd.read_csv(\"Index2018.csv\")\n",
    "df_comp = raw.copy()\n",
    "df_comp.date = pd.to_datetime(raw.date, dayfirst=True)\n",
    "df_comp.set_index(\"date\", inplace=True)\n",
    "df_comp = df_comp.asfreq('b')\n",
    "df_comp = df_comp.fillna(method=\"ffill\")"
   ]
  },
  {
   "cell_type": "code",
   "execution_count": 53,
   "metadata": {},
   "outputs": [],
   "source": [
    "df_comp['market_value'] = df_comp.ftse"
   ]
  },
  {
   "cell_type": "code",
   "execution_count": 54,
   "metadata": {},
   "outputs": [],
   "source": [
    "del df_comp['dax']\n",
    "del df_comp['ftse']\n",
    "del df_comp['nikkei']\n",
    "\n",
    "size = int(len(df_comp)*0.8)\n",
    "df, df_test = df_comp.iloc[:size], df_comp.iloc[size:]"
   ]
  },
  {
   "cell_type": "markdown",
   "metadata": {},
   "source": [
    "## Creating returns"
   ]
  },
  {
   "cell_type": "code",
   "execution_count": 55,
   "metadata": {},
   "outputs": [
    {
     "name": "stderr",
     "output_type": "stream",
     "text": [
      "<ipython-input-55-6f3746182e20>:1: SettingWithCopyWarning: \n",
      "A value is trying to be set on a copy of a slice from a DataFrame.\n",
      "Try using .loc[row_indexer,col_indexer] = value instead\n",
      "\n",
      "See the caveats in the documentation: https://pandas.pydata.org/pandas-docs/stable/user_guide/indexing.html#returning-a-view-versus-a-copy\n",
      "  df['returns'] = df.market_value.pct_change(1)*100\n"
     ]
    }
   ],
   "source": [
    "df['returns'] = df.market_value.pct_change(1)*100"
   ]
  },
  {
   "cell_type": "markdown",
   "metadata": {},
   "source": [
    "## ARIMA(1,1,1)"
   ]
  },
  {
   "cell_type": "code",
   "execution_count": 56,
   "metadata": {},
   "outputs": [
    {
     "name": "stderr",
     "output_type": "stream",
     "text": [
      "D:\\anaconda3\\envs\\time-series-tutorials\\lib\\site-packages\\statsmodels\\tsa\\statespace\\sarimax.py:966: UserWarning: Non-stationary starting autoregressive parameters found. Using zeros as starting parameters.\n",
      "  warn('Non-stationary starting autoregressive parameters'\n",
      "D:\\anaconda3\\envs\\time-series-tutorials\\lib\\site-packages\\statsmodels\\tsa\\statespace\\sarimax.py:978: UserWarning: Non-invertible starting MA parameters found. Using zeros as starting parameters.\n",
      "  warn('Non-invertible starting MA parameters found.'\n"
     ]
    },
    {
     "data": {
      "text/html": [
       "<table class=\"simpletable\">\n",
       "<caption>SARIMAX Results</caption>\n",
       "<tr>\n",
       "  <th>Dep. Variable:</th>     <td>market_value</td>   <th>  No. Observations:  </th>    <td>5021</td>   \n",
       "</tr>\n",
       "<tr>\n",
       "  <th>Model:</th>            <td>ARIMA(1, 1, 1)</td>  <th>  Log Likelihood     </th> <td>-27604.005</td>\n",
       "</tr>\n",
       "<tr>\n",
       "  <th>Date:</th>            <td>Wed, 02 Dec 2020</td> <th>  AIC                </th>  <td>55214.010</td>\n",
       "</tr>\n",
       "<tr>\n",
       "  <th>Time:</th>                <td>20:19:55</td>     <th>  BIC                </th>  <td>55233.574</td>\n",
       "</tr>\n",
       "<tr>\n",
       "  <th>Sample:</th>             <td>01-07-1994</td>    <th>  HQIC               </th>  <td>55220.865</td>\n",
       "</tr>\n",
       "<tr>\n",
       "  <th></th>                   <td>- 04-05-2013</td>   <th>                     </th>      <td> </td>    \n",
       "</tr>\n",
       "<tr>\n",
       "  <th>Covariance Type:</th>        <td>opg</td>       <th>                     </th>      <td> </td>    \n",
       "</tr>\n",
       "</table>\n",
       "<table class=\"simpletable\">\n",
       "<tr>\n",
       "     <td></td>       <th>coef</th>     <th>std err</th>      <th>z</th>      <th>P>|z|</th>  <th>[0.025</th>    <th>0.975]</th>  \n",
       "</tr>\n",
       "<tr>\n",
       "  <th>ar.L1</th>  <td>    0.7460</td> <td>    0.059</td> <td>   12.659</td> <td> 0.000</td> <td>    0.631</td> <td>    0.862</td>\n",
       "</tr>\n",
       "<tr>\n",
       "  <th>ma.L1</th>  <td>   -0.7920</td> <td>    0.053</td> <td>  -14.930</td> <td> 0.000</td> <td>   -0.896</td> <td>   -0.688</td>\n",
       "</tr>\n",
       "<tr>\n",
       "  <th>sigma2</th> <td> 3498.4453</td> <td>   40.925</td> <td>   85.484</td> <td> 0.000</td> <td> 3418.233</td> <td> 3578.657</td>\n",
       "</tr>\n",
       "</table>\n",
       "<table class=\"simpletable\">\n",
       "<tr>\n",
       "  <th>Ljung-Box (L1) (Q):</th>     <td>2.62</td> <th>  Jarque-Bera (JB):  </th> <td>3326.29</td>\n",
       "</tr>\n",
       "<tr>\n",
       "  <th>Prob(Q):</th>                <td>0.11</td> <th>  Prob(JB):          </th>  <td>0.00</td>  \n",
       "</tr>\n",
       "<tr>\n",
       "  <th>Heteroskedasticity (H):</th> <td>1.90</td> <th>  Skew:              </th>  <td>-0.32</td> \n",
       "</tr>\n",
       "<tr>\n",
       "  <th>Prob(H) (two-sided):</th>    <td>0.00</td> <th>  Kurtosis:          </th>  <td>6.94</td>  \n",
       "</tr>\n",
       "</table><br/><br/>Warnings:<br/>[1] Covariance matrix calculated using the outer product of gradients (complex-step)."
      ],
      "text/plain": [
       "<class 'statsmodels.iolib.summary.Summary'>\n",
       "\"\"\"\n",
       "                               SARIMAX Results                                \n",
       "==============================================================================\n",
       "Dep. Variable:           market_value   No. Observations:                 5021\n",
       "Model:                 ARIMA(1, 1, 1)   Log Likelihood              -27604.005\n",
       "Date:                Wed, 02 Dec 2020   AIC                          55214.010\n",
       "Time:                        20:19:55   BIC                          55233.574\n",
       "Sample:                    01-07-1994   HQIC                         55220.865\n",
       "                         - 04-05-2013                                         \n",
       "Covariance Type:                  opg                                         \n",
       "==============================================================================\n",
       "                 coef    std err          z      P>|z|      [0.025      0.975]\n",
       "------------------------------------------------------------------------------\n",
       "ar.L1          0.7460      0.059     12.659      0.000       0.631       0.862\n",
       "ma.L1         -0.7920      0.053    -14.930      0.000      -0.896      -0.688\n",
       "sigma2      3498.4453     40.925     85.484      0.000    3418.233    3578.657\n",
       "===================================================================================\n",
       "Ljung-Box (L1) (Q):                   2.62   Jarque-Bera (JB):              3326.29\n",
       "Prob(Q):                              0.11   Prob(JB):                         0.00\n",
       "Heteroskedasticity (H):               1.90   Skew:                            -0.32\n",
       "Prob(H) (two-sided):                  0.00   Kurtosis:                         6.94\n",
       "===================================================================================\n",
       "\n",
       "Warnings:\n",
       "[1] Covariance matrix calculated using the outer product of gradients (complex-step).\n",
       "\"\"\""
      ]
     },
     "execution_count": 56,
     "metadata": {},
     "output_type": "execute_result"
    }
   ],
   "source": [
    "model_prices_ar_1_i_1_ma_1 = ARIMA(df.market_value, order=(1,1,1))\n",
    "result_prices_ar_1_i_1_ma_1 = model_prices_ar_1_i_1_ma_1.fit()\n",
    "result_prices_ar_1_i_1_ma_1.summary()"
   ]
  },
  {
   "cell_type": "markdown",
   "metadata": {},
   "source": [
    "## Residuals of the ARIMA(1,1,1)"
   ]
  },
  {
   "cell_type": "code",
   "execution_count": 57,
   "metadata": {},
   "outputs": [],
   "source": [
    "residuals_ar_1_i_1_ma_1 = result_prices_ar_1_i_1_ma_1.resid"
   ]
  },
  {
   "cell_type": "code",
   "execution_count": 58,
   "metadata": {},
   "outputs": [
    {
     "data": {
      "image/png": "[encoded data removed]",
      "text/plain": [
       "<Figure size 432x288 with 1 Axes>"
      ]
     },
     "metadata": {
      "needs_background": "light"
     },
     "output_type": "display_data"
    }
   ],
   "source": [
    "sgt.plot_acf(residuals_ar_1_i_1_ma_1, zero=False, lags=40)\n",
    "plt.show()"
   ]
  },
  {
   "cell_type": "markdown",
   "metadata": {},
   "source": [
    "It seems that we have lag 3 and lag 4 which is highly significant."
   ]
  },
  {
   "cell_type": "markdown",
   "metadata": {},
   "source": [
    "## Higher-lag ARIMA Models"
   ]
  },
  {
   "cell_type": "code",
   "execution_count": 59,
   "metadata": {},
   "outputs": [
    {
     "name": "stdout",
     "output_type": "stream",
     "text": [
      "Model ARIMA(1, 1, 1)\n"
     ]
    },
    {
     "name": "stderr",
     "output_type": "stream",
     "text": [
      "D:\\anaconda3\\envs\\time-series-tutorials\\lib\\site-packages\\statsmodels\\tsa\\statespace\\sarimax.py:966: UserWarning: Non-stationary starting autoregressive parameters found. Using zeros as starting parameters.\n",
      "  warn('Non-stationary starting autoregressive parameters'\n",
      "D:\\anaconda3\\envs\\time-series-tutorials\\lib\\site-packages\\statsmodels\\tsa\\statespace\\sarimax.py:978: UserWarning: Non-invertible starting MA parameters found. Using zeros as starting parameters.\n",
      "  warn('Non-invertible starting MA parameters found.'\n"
     ]
    },
    {
     "name": "stdout",
     "output_type": "stream",
     "text": [
      "                               SARIMAX Results                                \n",
      "==============================================================================\n",
      "Dep. Variable:           market_value   No. Observations:                 5021\n",
      "Model:                 ARIMA(1, 1, 1)   Log Likelihood              -27604.005\n",
      "Date:                Wed, 02 Dec 2020   AIC                          55214.010\n",
      "Time:                        20:19:57   BIC                          55233.574\n",
      "Sample:                    01-07-1994   HQIC                         55220.865\n",
      "                         - 04-05-2013                                         \n",
      "Covariance Type:                  opg                                         \n",
      "==============================================================================\n",
      "                 coef    std err          z      P>|z|      [0.025      0.975]\n",
      "------------------------------------------------------------------------------\n",
      "ar.L1          0.7460      0.059     12.659      0.000       0.631       0.862\n",
      "ma.L1         -0.7920      0.053    -14.930      0.000      -0.896      -0.688\n",
      "sigma2      3498.4453     40.925     85.484      0.000    3418.233    3578.657\n",
      "===================================================================================\n",
      "Ljung-Box (L1) (Q):                   2.62   Jarque-Bera (JB):              3326.29\n",
      "Prob(Q):                              0.11   Prob(JB):                         0.00\n",
      "Heteroskedasticity (H):               1.90   Skew:                            -0.32\n",
      "Prob(H) (two-sided):                  0.00   Kurtosis:                         6.94\n",
      "===================================================================================\n",
      "\n",
      "Warnings:\n",
      "[1] Covariance matrix calculated using the outer product of gradients (complex-step).\n",
      "////////////////////////////////////////////////////////////////////////////////////////////////////\n",
      "Model ARIMA(1, 1, 2)\n",
      "                               SARIMAX Results                                \n",
      "==============================================================================\n",
      "Dep. Variable:           market_value   No. Observations:                 5021\n",
      "Model:                 ARIMA(1, 1, 2)   Log Likelihood              -27600.408\n",
      "Date:                Wed, 02 Dec 2020   AIC                          55208.815\n",
      "Time:                        20:19:58   BIC                          55234.900\n",
      "Sample:                    01-07-1994   HQIC                         55217.956\n",
      "                         - 04-05-2013                                         \n",
      "Covariance Type:                  opg                                         \n",
      "==============================================================================\n",
      "                 coef    std err          z      P>|z|      [0.025      0.975]\n",
      "------------------------------------------------------------------------------\n",
      "ar.L1          0.5872      0.079      7.436      0.000       0.432       0.742\n",
      "ma.L1         -0.6115      0.078     -7.826      0.000      -0.765      -0.458\n",
      "ma.L2         -0.0457      0.012     -3.944      0.000      -0.068      -0.023\n",
      "sigma2      3492.2448     40.727     85.748      0.000    3412.422    3572.068\n",
      "===================================================================================\n",
      "Ljung-Box (L1) (Q):                   0.00   Jarque-Bera (JB):              3317.85\n",
      "Prob(Q):                              0.96   Prob(JB):                         0.00\n",
      "Heteroskedasticity (H):               1.91   Skew:                            -0.32\n",
      "Prob(H) (two-sided):                  0.00   Kurtosis:                         6.93\n",
      "===================================================================================\n",
      "\n",
      "Warnings:\n",
      "[1] Covariance matrix calculated using the outer product of gradients (complex-step).\n",
      "////////////////////////////////////////////////////////////////////////////////////////////////////\n",
      "Model ARIMA(1, 1, 3)\n",
      "                               SARIMAX Results                                \n",
      "==============================================================================\n",
      "Dep. Variable:           market_value   No. Observations:                 5021\n",
      "Model:                 ARIMA(1, 1, 3)   Log Likelihood              -27590.723\n",
      "Date:                Wed, 02 Dec 2020   AIC                          55191.447\n",
      "Time:                        20:19:58   BIC                          55224.053\n",
      "Sample:                    01-07-1994   HQIC                         55202.873\n",
      "                         - 04-05-2013                                         \n",
      "Covariance Type:                  opg                                         \n",
      "==============================================================================\n",
      "                 coef    std err          z      P>|z|      [0.025      0.975]\n",
      "------------------------------------------------------------------------------\n",
      "ar.L1         -0.3589      0.087     -4.105      0.000      -0.530      -0.188\n",
      "ma.L1          0.3391      0.087      3.898      0.000       0.169       0.510\n",
      "ma.L2         -0.0589      0.010     -5.995      0.000      -0.078      -0.040\n",
      "ma.L3         -0.1001      0.009    -10.847      0.000      -0.118      -0.082\n",
      "sigma2      3487.1719     41.898     83.229      0.000    3405.052    3569.291\n",
      "===================================================================================\n",
      "Ljung-Box (L1) (Q):                   0.00   Jarque-Bera (JB):              2996.56\n",
      "Prob(Q):                              0.98   Prob(JB):                         0.00\n",
      "Heteroskedasticity (H):               1.89   Skew:                            -0.30\n",
      "Prob(H) (two-sided):                  0.00   Kurtosis:                         6.74\n",
      "===================================================================================\n",
      "\n",
      "Warnings:\n",
      "[1] Covariance matrix calculated using the outer product of gradients (complex-step).\n",
      "////////////////////////////////////////////////////////////////////////////////////////////////////\n",
      "Model ARIMA(1, 1, 4)\n",
      "                               SARIMAX Results                                \n",
      "==============================================================================\n",
      "Dep. Variable:           market_value   No. Observations:                 5021\n",
      "Model:                 ARIMA(1, 1, 4)   Log Likelihood              -27590.655\n",
      "Date:                Wed, 02 Dec 2020   AIC                          55193.310\n",
      "Time:                        20:20:00   BIC                          55232.437\n",
      "Sample:                    01-07-1994   HQIC                         55207.021\n",
      "                         - 04-05-2013                                         \n",
      "Covariance Type:                  opg                                         \n",
      "==============================================================================\n",
      "                 coef    std err          z      P>|z|      [0.025      0.975]\n",
      "------------------------------------------------------------------------------\n",
      "ar.L1         -0.2832      0.250     -1.135      0.256      -0.772       0.206\n",
      "ma.L1          0.2634      0.251      1.049      0.294      -0.229       0.756\n",
      "ma.L2         -0.0574      0.010     -5.640      0.000      -0.077      -0.037\n",
      "ma.L3         -0.0953      0.015     -6.328      0.000      -0.125      -0.066\n",
      "ma.L4          0.0096      0.025      0.388      0.698      -0.039       0.058\n",
      "sigma2      3485.2759     42.056     82.872      0.000    3402.847    3567.704\n",
      "===================================================================================\n",
      "Ljung-Box (L1) (Q):                   0.00   Jarque-Bera (JB):              2988.37\n",
      "Prob(Q):                              0.99   Prob(JB):                         0.00\n",
      "Heteroskedasticity (H):               1.89   Skew:                            -0.30\n",
      "Prob(H) (two-sided):                  0.00   Kurtosis:                         6.73\n",
      "===================================================================================\n",
      "\n",
      "Warnings:\n",
      "[1] Covariance matrix calculated using the outer product of gradients (complex-step).\n",
      "////////////////////////////////////////////////////////////////////////////////////////////////////\n",
      "Model ARIMA(2, 1, 1)\n"
     ]
    },
    {
     "name": "stderr",
     "output_type": "stream",
     "text": [
      "D:\\anaconda3\\envs\\time-series-tutorials\\lib\\site-packages\\statsmodels\\tsa\\statespace\\sarimax.py:966: UserWarning: Non-stationary starting autoregressive parameters found. Using zeros as starting parameters.\n",
      "  warn('Non-stationary starting autoregressive parameters'\n",
      "D:\\anaconda3\\envs\\time-series-tutorials\\lib\\site-packages\\statsmodels\\tsa\\statespace\\sarimax.py:978: UserWarning: Non-invertible starting MA parameters found. Using zeros as starting parameters.\n",
      "  warn('Non-invertible starting MA parameters found.'\n"
     ]
    },
    {
     "name": "stdout",
     "output_type": "stream",
     "text": [
      "                               SARIMAX Results                                \n",
      "==============================================================================\n",
      "Dep. Variable:           market_value   No. Observations:                 5021\n",
      "Model:                 ARIMA(2, 1, 1)   Log Likelihood              -27600.131\n",
      "Date:                Wed, 02 Dec 2020   AIC                          55208.261\n",
      "Time:                        20:20:01   BIC                          55234.346\n",
      "Sample:                    01-07-1994   HQIC                         55217.402\n",
      "                         - 04-05-2013                                         \n",
      "Covariance Type:                  opg                                         \n",
      "==============================================================================\n",
      "                 coef    std err          z      P>|z|      [0.025      0.975]\n",
      "------------------------------------------------------------------------------\n",
      "ar.L1          0.6284      0.071      8.902      0.000       0.490       0.767\n",
      "ar.L2         -0.0471      0.011     -4.223      0.000      -0.069      -0.025\n",
      "ma.L1         -0.6513      0.069     -9.416      0.000      -0.787      -0.516\n",
      "sigma2      3491.4696     40.737     85.708      0.000    3411.627    3571.312\n",
      "===================================================================================\n",
      "Ljung-Box (L1) (Q):                   0.00   Jarque-Bera (JB):              3308.71\n",
      "Prob(Q):                              0.95   Prob(JB):                         0.00\n",
      "Heteroskedasticity (H):               1.91   Skew:                            -0.32\n",
      "Prob(H) (two-sided):                  0.00   Kurtosis:                         6.93\n",
      "===================================================================================\n",
      "\n",
      "Warnings:\n",
      "[1] Covariance matrix calculated using the outer product of gradients (complex-step).\n",
      "////////////////////////////////////////////////////////////////////////////////////////////////////\n",
      "Model ARIMA(2, 1, 2)\n",
      "                               SARIMAX Results                                \n",
      "==============================================================================\n",
      "Dep. Variable:           market_value   No. Observations:                 5021\n",
      "Model:                 ARIMA(2, 1, 2)   Log Likelihood              -27599.785\n",
      "Date:                Wed, 02 Dec 2020   AIC                          55209.571\n",
      "Time:                        20:20:02   BIC                          55242.177\n",
      "Sample:                    01-07-1994   HQIC                         55220.996\n",
      "                         - 04-05-2013                                         \n",
      "Covariance Type:                  opg                                         \n",
      "==============================================================================\n",
      "                 coef    std err          z      P>|z|      [0.025      0.975]\n",
      "------------------------------------------------------------------------------\n",
      "ar.L1          0.7888      0.223      3.540      0.000       0.352       1.225\n",
      "ar.L2         -0.1856      0.182     -1.018      0.309      -0.543       0.172\n",
      "ma.L1         -0.8113      0.224     -3.620      0.000      -1.251      -0.372\n",
      "ma.L2          0.1441      0.192      0.750      0.453      -0.232       0.521\n",
      "sigma2      3496.9925     41.195     84.888      0.000    3416.251    3577.734\n",
      "===================================================================================\n",
      "Ljung-Box (L1) (Q):                   0.00   Jarque-Bera (JB):              3287.36\n",
      "Prob(Q):                              0.95   Prob(JB):                         0.00\n",
      "Heteroskedasticity (H):               1.91   Skew:                            -0.32\n",
      "Prob(H) (two-sided):                  0.00   Kurtosis:                         6.91\n",
      "===================================================================================\n",
      "\n",
      "Warnings:\n",
      "[1] Covariance matrix calculated using the outer product of gradients (complex-step).\n",
      "////////////////////////////////////////////////////////////////////////////////////////////////////\n",
      "Model ARIMA(2, 1, 3)\n",
      "                               SARIMAX Results                                \n",
      "==============================================================================\n",
      "Dep. Variable:           market_value   No. Observations:                 5021\n",
      "Model:                 ARIMA(2, 1, 3)   Log Likelihood              -27590.023\n",
      "Date:                Wed, 02 Dec 2020   AIC                          55192.046\n",
      "Time:                        20:20:03   BIC                          55231.173\n",
      "Sample:                    01-07-1994   HQIC                         55205.756\n",
      "                         - 04-05-2013                                         \n",
      "Covariance Type:                  opg                                         \n",
      "==============================================================================\n",
      "                 coef    std err          z      P>|z|      [0.025      0.975]\n",
      "------------------------------------------------------------------------------\n",
      "ar.L1         -0.4742      0.079     -5.990      0.000      -0.629      -0.319\n",
      "ar.L2         -0.3290      0.088     -3.754      0.000      -0.501      -0.157\n",
      "ma.L1          0.4544      0.079      5.784      0.000       0.300       0.608\n",
      "ma.L2          0.2697      0.087      3.088      0.002       0.099       0.441\n",
      "ma.L3         -0.1013      0.010    -10.394      0.000      -0.120      -0.082\n",
      "sigma2      3482.2645     41.996     82.919      0.000    3399.954    3564.575\n",
      "===================================================================================\n",
      "Ljung-Box (L1) (Q):                   0.00   Jarque-Bera (JB):              2977.19\n",
      "Prob(Q):                              0.97   Prob(JB):                         0.00\n",
      "Heteroskedasticity (H):               1.89   Skew:                            -0.27\n",
      "Prob(H) (two-sided):                  0.00   Kurtosis:                         6.73\n",
      "===================================================================================\n",
      "\n",
      "Warnings:\n",
      "[1] Covariance matrix calculated using the outer product of gradients (complex-step).\n",
      "////////////////////////////////////////////////////////////////////////////////////////////////////\n",
      "Model ARIMA(2, 1, 4)\n",
      "                               SARIMAX Results                                \n",
      "==============================================================================\n",
      "Dep. Variable:           market_value   No. Observations:                 5021\n",
      "Model:                 ARIMA(2, 1, 4)   Log Likelihood              -27590.219\n",
      "Date:                Wed, 02 Dec 2020   AIC                          55194.439\n",
      "Time:                        20:20:06   BIC                          55240.087\n",
      "Sample:                    01-07-1994   HQIC                         55210.435\n",
      "                         - 04-05-2013                                         \n",
      "Covariance Type:                  opg                                         \n",
      "==============================================================================\n",
      "                 coef    std err          z      P>|z|      [0.025      0.975]\n",
      "------------------------------------------------------------------------------\n",
      "ar.L1          0.3425      0.383      0.895      0.371      -0.408       1.093\n",
      "ar.L2          0.3135      0.118      2.667      0.008       0.083       0.544\n",
      "ma.L1         -0.3621      0.383     -0.945      0.344      -1.113       0.389\n",
      "ma.L2         -0.3576      0.114     -3.128      0.002      -0.582      -0.134\n",
      "ma.L3         -0.0588      0.024     -2.477      0.013      -0.105      -0.012\n",
      "ma.L4          0.0661      0.039      1.675      0.094      -0.011       0.144\n",
      "sigma2      3478.0670     42.051     82.710      0.000    3395.648    3560.486\n",
      "===================================================================================\n",
      "Ljung-Box (L1) (Q):                   0.00   Jarque-Bera (JB):              3045.00\n",
      "Prob(Q):                              0.95   Prob(JB):                         0.00\n",
      "Heteroskedasticity (H):               1.90   Skew:                            -0.32\n",
      "Prob(H) (two-sided):                  0.00   Kurtosis:                         6.76\n",
      "===================================================================================\n",
      "\n",
      "Warnings:\n",
      "[1] Covariance matrix calculated using the outer product of gradients (complex-step).\n",
      "////////////////////////////////////////////////////////////////////////////////////////////////////\n",
      "Model ARIMA(3, 1, 1)\n",
      "                               SARIMAX Results                                \n",
      "==============================================================================\n",
      "Dep. Variable:           market_value   No. Observations:                 5021\n",
      "Model:                 ARIMA(3, 1, 1)   Log Likelihood              -27592.336\n",
      "Date:                Wed, 02 Dec 2020   AIC                          55194.672\n",
      "Time:                        20:20:06   BIC                          55227.278\n",
      "Sample:                    01-07-1994   HQIC                         55206.098\n",
      "                         - 04-05-2013                                         \n",
      "Covariance Type:                  opg                                         \n",
      "==============================================================================\n",
      "                 coef    std err          z      P>|z|      [0.025      0.975]\n",
      "------------------------------------------------------------------------------\n",
      "ar.L1         -0.4061      0.091     -4.445      0.000      -0.585      -0.227\n",
      "ar.L2         -0.0584      0.010     -5.757      0.000      -0.078      -0.039\n",
      "ar.L3         -0.0940      0.009    -10.098      0.000      -0.112      -0.076\n",
      "ma.L1          0.3861      0.092      4.199      0.000       0.206       0.566\n",
      "sigma2      3486.9393     41.890     83.240      0.000    3404.836    3569.042\n",
      "===================================================================================\n",
      "Ljung-Box (L1) (Q):                   0.00   Jarque-Bera (JB):              3003.19\n",
      "Prob(Q):                              0.99   Prob(JB):                         0.00\n",
      "Heteroskedasticity (H):               1.89   Skew:                            -0.29\n",
      "Prob(H) (two-sided):                  0.00   Kurtosis:                         6.75\n",
      "===================================================================================\n",
      "\n",
      "Warnings:\n",
      "[1] Covariance matrix calculated using the outer product of gradients (complex-step).\n",
      "////////////////////////////////////////////////////////////////////////////////////////////////////\n",
      "Model ARIMA(3, 1, 2)\n",
      "                               SARIMAX Results                                \n",
      "==============================================================================\n",
      "Dep. Variable:           market_value   No. Observations:                 5021\n",
      "Model:                 ARIMA(3, 1, 2)   Log Likelihood              -27590.920\n",
      "Date:                Wed, 02 Dec 2020   AIC                          55193.841\n",
      "Time:                        20:20:08   BIC                          55232.968\n",
      "Sample:                    01-07-1994   HQIC                         55207.551\n",
      "                         - 04-05-2013                                         \n",
      "Covariance Type:                  opg                                         \n",
      "==============================================================================\n",
      "                 coef    std err          z      P>|z|      [0.025      0.975]\n",
      "------------------------------------------------------------------------------\n",
      "ar.L1         -0.5767      0.077     -7.485      0.000      -0.728      -0.426\n",
      "ar.L2         -0.4396      0.086     -5.134      0.000      -0.607      -0.272\n",
      "ar.L3         -0.0966      0.010     -9.875      0.000      -0.116      -0.077\n",
      "ma.L1          0.5587      0.077      7.213      0.000       0.407       0.710\n",
      "ma.L2          0.3844      0.086      4.463      0.000       0.216       0.553\n",
      "sigma2      3482.6368     41.996     82.927      0.000    3400.326    3564.948\n",
      "===================================================================================\n",
      "Ljung-Box (L1) (Q):                   0.00   Jarque-Bera (JB):              2988.77\n",
      "Prob(Q):                              0.96   Prob(JB):                         0.00\n",
      "Heteroskedasticity (H):               1.88   Skew:                            -0.26\n",
      "Prob(H) (two-sided):                  0.00   Kurtosis:                         6.74\n",
      "===================================================================================\n",
      "\n",
      "Warnings:\n",
      "[1] Covariance matrix calculated using the outer product of gradients (complex-step).\n",
      "////////////////////////////////////////////////////////////////////////////////////////////////////\n",
      "Model ARIMA(3, 1, 3)\n",
      "                               SARIMAX Results                                \n",
      "==============================================================================\n",
      "Dep. Variable:           market_value   No. Observations:                 5021\n",
      "Model:                 ARIMA(3, 1, 3)   Log Likelihood              -27587.183\n",
      "Date:                Wed, 02 Dec 2020   AIC                          55188.366\n",
      "Time:                        20:20:10   BIC                          55234.014\n",
      "Sample:                    01-07-1994   HQIC                         55204.362\n",
      "                         - 04-05-2013                                         \n",
      "Covariance Type:                  opg                                         \n",
      "==============================================================================\n",
      "                 coef    std err          z      P>|z|      [0.025      0.975]\n",
      "------------------------------------------------------------------------------\n",
      "ar.L1         -0.1972      0.082     -2.392      0.017      -0.359      -0.036\n",
      "ar.L2         -0.2328      0.073     -3.171      0.002      -0.377      -0.089\n",
      "ar.L3          0.3887      0.080      4.886      0.000       0.233       0.545\n",
      "ma.L1          0.1793      0.078      2.303      0.021       0.027       0.332\n",
      "ma.L2          0.1732      0.071      2.453      0.014       0.035       0.312\n",
      "ma.L3         -0.4793      0.075     -6.400      0.000      -0.626      -0.333\n",
      "sigma2      3480.0415     42.123     82.617      0.000    3397.483    3562.600\n",
      "===================================================================================\n",
      "Ljung-Box (L1) (Q):                   0.04   Jarque-Bera (JB):              3101.48\n",
      "Prob(Q):                              0.84   Prob(JB):                         0.00\n",
      "Heteroskedasticity (H):               1.89   Skew:                            -0.31\n",
      "Prob(H) (two-sided):                  0.00   Kurtosis:                         6.80\n",
      "===================================================================================\n",
      "\n",
      "Warnings:\n",
      "[1] Covariance matrix calculated using the outer product of gradients (complex-step).\n",
      "////////////////////////////////////////////////////////////////////////////////////////////////////\n",
      "Model ARIMA(3, 1, 4)\n",
      "                               SARIMAX Results                                \n",
      "==============================================================================\n",
      "Dep. Variable:           market_value   No. Observations:                 5021\n",
      "Model:                 ARIMA(3, 1, 4)   Log Likelihood              -27586.803\n",
      "Date:                Wed, 02 Dec 2020   AIC                          55189.606\n",
      "Time:                        20:20:13   BIC                          55241.775\n",
      "Sample:                    01-07-1994   HQIC                         55207.887\n",
      "                         - 04-05-2013                                         \n",
      "Covariance Type:                  opg                                         \n",
      "==============================================================================\n",
      "                 coef    std err          z      P>|z|      [0.025      0.975]\n",
      "------------------------------------------------------------------------------\n",
      "ar.L1          0.0020      0.207      0.009      0.992      -0.404       0.408\n",
      "ar.L2         -0.1150      0.108     -1.065      0.287      -0.327       0.097\n",
      "ar.L3          0.3990      0.085      4.693      0.000       0.232       0.566\n",
      "ma.L1         -0.0220      0.208     -0.106      0.915      -0.429       0.385\n",
      "ma.L2          0.0615      0.103      0.595      0.552      -0.141       0.264\n",
      "ma.L3         -0.4770      0.077     -6.158      0.000      -0.629      -0.325\n",
      "ma.L4          0.0312      0.026      1.215      0.225      -0.019       0.082\n",
      "sigma2      3471.5259     42.073     82.512      0.000    3389.064    3553.987\n",
      "===================================================================================\n",
      "Ljung-Box (L1) (Q):                   0.00   Jarque-Bera (JB):              3086.17\n",
      "Prob(Q):                              0.98   Prob(JB):                         0.00\n",
      "Heteroskedasticity (H):               1.89   Skew:                            -0.32\n",
      "Prob(H) (two-sided):                  0.00   Kurtosis:                         6.79\n",
      "===================================================================================\n",
      "\n",
      "Warnings:\n",
      "[1] Covariance matrix calculated using the outer product of gradients (complex-step).\n",
      "////////////////////////////////////////////////////////////////////////////////////////////////////\n",
      "Model ARIMA(4, 1, 1)\n",
      "                               SARIMAX Results                                \n",
      "==============================================================================\n",
      "Dep. Variable:           market_value   No. Observations:                 5021\n",
      "Model:                 ARIMA(4, 1, 1)   Log Likelihood              -27592.223\n",
      "Date:                Wed, 02 Dec 2020   AIC                          55196.446\n",
      "Time:                        20:20:14   BIC                          55235.573\n",
      "Sample:                    01-07-1994   HQIC                         55210.157\n",
      "                         - 04-05-2013                                         \n",
      "Covariance Type:                  opg                                         \n",
      "==============================================================================\n",
      "                 coef    std err          z      P>|z|      [0.025      0.975]\n",
      "------------------------------------------------------------------------------\n",
      "ar.L1         -0.3257      0.233     -1.396      0.163      -0.783       0.132\n",
      "ar.L2         -0.0563      0.011     -5.150      0.000      -0.078      -0.035\n",
      "ar.L3         -0.0883      0.015     -5.939      0.000      -0.117      -0.059\n",
      "ar.L4          0.0112      0.022      0.508      0.611      -0.032       0.054\n",
      "ma.L1          0.3060      0.235      1.303      0.193      -0.154       0.766\n",
      "sigma2      3484.0883     41.942     83.068      0.000    3401.883    3566.294\n",
      "===================================================================================\n",
      "Ljung-Box (L1) (Q):                   0.00   Jarque-Bera (JB):              2995.40\n",
      "Prob(Q):                              1.00   Prob(JB):                         0.00\n",
      "Heteroskedasticity (H):               1.89   Skew:                            -0.28\n",
      "Prob(H) (two-sided):                  0.00   Kurtosis:                         6.74\n",
      "===================================================================================\n",
      "\n",
      "Warnings:\n",
      "[1] Covariance matrix calculated using the outer product of gradients (complex-step).\n",
      "////////////////////////////////////////////////////////////////////////////////////////////////////\n",
      "Model ARIMA(4, 1, 2)\n"
     ]
    },
    {
     "name": "stderr",
     "output_type": "stream",
     "text": [
      "D:\\anaconda3\\envs\\time-series-tutorials\\lib\\site-packages\\statsmodels\\tsa\\statespace\\sarimax.py:966: UserWarning: Non-stationary starting autoregressive parameters found. Using zeros as starting parameters.\n",
      "  warn('Non-stationary starting autoregressive parameters'\n",
      "D:\\anaconda3\\envs\\time-series-tutorials\\lib\\site-packages\\statsmodels\\tsa\\statespace\\sarimax.py:978: UserWarning: Non-invertible starting MA parameters found. Using zeros as starting parameters.\n",
      "  warn('Non-invertible starting MA parameters found.'\n"
     ]
    },
    {
     "name": "stdout",
     "output_type": "stream",
     "text": [
      "                               SARIMAX Results                                \n",
      "==============================================================================\n",
      "Dep. Variable:           market_value   No. Observations:                 5021\n",
      "Model:                 ARIMA(4, 1, 2)   Log Likelihood              -27591.071\n",
      "Date:                Wed, 02 Dec 2020   AIC                          55196.143\n",
      "Time:                        20:20:15   BIC                          55241.791\n",
      "Sample:                    01-07-1994   HQIC                         55212.139\n",
      "                         - 04-05-2013                                         \n",
      "Covariance Type:                  opg                                         \n",
      "==============================================================================\n",
      "                 coef    std err          z      P>|z|      [0.025      0.975]\n",
      "------------------------------------------------------------------------------\n",
      "ar.L1          0.3313      0.238      1.392      0.164      -0.135       0.798\n",
      "ar.L2          0.3163      0.095      3.340      0.001       0.131       0.502\n",
      "ar.L3         -0.0534      0.016     -3.372      0.001      -0.084      -0.022\n",
      "ar.L4          0.0617      0.024      2.612      0.009       0.015       0.108\n",
      "ma.L1         -0.3526      0.238     -1.480      0.139      -0.820       0.114\n",
      "ma.L2         -0.3612      0.096     -3.757      0.000      -0.550      -0.173\n",
      "sigma2      3483.5630     42.078     82.788      0.000    3401.091    3566.035\n",
      "===================================================================================\n",
      "Ljung-Box (L1) (Q):                   0.00   Jarque-Bera (JB):              3069.65\n",
      "Prob(Q):                              0.96   Prob(JB):                         0.00\n",
      "Heteroskedasticity (H):               1.90   Skew:                            -0.32\n",
      "Prob(H) (two-sided):                  0.00   Kurtosis:                         6.78\n",
      "===================================================================================\n",
      "\n",
      "Warnings:\n",
      "[1] Covariance matrix calculated using the outer product of gradients (complex-step).\n",
      "////////////////////////////////////////////////////////////////////////////////////////////////////\n",
      "Model ARIMA(4, 1, 3)\n",
      "                               SARIMAX Results                                \n",
      "==============================================================================\n",
      "Dep. Variable:           market_value   No. Observations:                 5021\n",
      "Model:                 ARIMA(4, 1, 3)   Log Likelihood              -27586.719\n",
      "Date:                Wed, 02 Dec 2020   AIC                          55189.437\n",
      "Time:                        20:20:18   BIC                          55241.607\n",
      "Sample:                    01-07-1994   HQIC                         55207.718\n",
      "                         - 04-05-2013                                         \n",
      "Covariance Type:                  opg                                         \n",
      "==============================================================================\n",
      "                 coef    std err          z      P>|z|      [0.025      0.975]\n",
      "------------------------------------------------------------------------------\n",
      "ar.L1         -0.0379      0.167     -0.227      0.821      -0.365       0.289\n",
      "ar.L2         -0.1130      0.102     -1.103      0.270      -0.314       0.088\n",
      "ar.L3          0.3757      0.084      4.491      0.000       0.212       0.540\n",
      "ar.L4          0.0298      0.021      1.406      0.160      -0.012       0.071\n",
      "ma.L1          0.0174      0.167      0.104      0.917      -0.309       0.344\n",
      "ma.L2          0.0589      0.099      0.597      0.550      -0.134       0.252\n",
      "ma.L3         -0.4562      0.078     -5.868      0.000      -0.609      -0.304\n",
      "sigma2      3473.8570     42.146     82.424      0.000    3391.252    3556.462\n",
      "===================================================================================\n",
      "Ljung-Box (L1) (Q):                   0.00   Jarque-Bera (JB):              3081.01\n",
      "Prob(Q):                              1.00   Prob(JB):                         0.00\n",
      "Heteroskedasticity (H):               1.89   Skew:                            -0.32\n",
      "Prob(H) (two-sided):                  0.00   Kurtosis:                         6.79\n",
      "===================================================================================\n",
      "\n",
      "Warnings:\n",
      "[1] Covariance matrix calculated using the outer product of gradients (complex-step).\n",
      "////////////////////////////////////////////////////////////////////////////////////////////////////\n",
      "Model ARIMA(4, 1, 4)\n",
      "                               SARIMAX Results                                \n",
      "==============================================================================\n",
      "Dep. Variable:           market_value   No. Observations:                 5021\n",
      "Model:                 ARIMA(4, 1, 4)   Log Likelihood              -27586.187\n",
      "Date:                Wed, 02 Dec 2020   AIC                          55190.375\n",
      "Time:                        20:20:22   BIC                          55249.065\n",
      "Sample:                    01-07-1994   HQIC                         55210.941\n",
      "                         - 04-05-2013                                         \n",
      "Covariance Type:                  opg                                         \n",
      "==============================================================================\n",
      "                 coef    std err          z      P>|z|      [0.025      0.975]\n",
      "------------------------------------------------------------------------------\n",
      "ar.L1         -0.6765      0.423     -1.600      0.110      -1.505       0.152\n",
      "ar.L2         -0.2449      0.159     -1.539      0.124      -0.557       0.067\n",
      "ar.L3          0.2704      0.124      2.178      0.029       0.027       0.514\n",
      "ar.L4          0.2707      0.132      2.049      0.040       0.012       0.530\n",
      "ma.L1          0.6558      0.424      1.548      0.122      -0.175       1.486\n",
      "ma.L2          0.1806      0.149      1.211      0.226      -0.112       0.473\n",
      "ma.L3         -0.3878      0.104     -3.734      0.000      -0.591      -0.184\n",
      "ma.L4         -0.2988      0.170     -1.757      0.079      -0.632       0.035\n",
      "sigma2      3459.6659     41.880     82.609      0.000    3377.582    3541.749\n",
      "===================================================================================\n",
      "Ljung-Box (L1) (Q):                   0.00   Jarque-Bera (JB):              3078.02\n",
      "Prob(Q):                              0.98   Prob(JB):                         0.00\n",
      "Heteroskedasticity (H):               1.89   Skew:                            -0.32\n",
      "Prob(H) (two-sided):                  0.00   Kurtosis:                         6.78\n",
      "===================================================================================\n",
      "\n",
      "Warnings:\n",
      "[1] Covariance matrix calculated using the outer product of gradients (complex-step).\n",
      "////////////////////////////////////////////////////////////////////////////////////////////////////\n"
     ]
    }
   ],
   "source": [
    "arima_models = dict()\n",
    "arima_results = dict()\n",
    "for p in range(1,5):\n",
    "    for q in range(1,5):\n",
    "        print(f\"Model ARIMA({p}, 1, {q})\")\n",
    "        model = ARIMA(df.market_value, order=(p,1,q))\n",
    "        arima_models[f\"{p}_1_{q}\"] = model\n",
    "        result = model.fit()\n",
    "        arima_results[f\"{p}_1_{q}\"] = result\n",
    "        print(result.summary())\n",
    "        print(\"/\"*100)"
   ]
  },
  {
   "cell_type": "markdown",
   "metadata": {},
   "source": [
    "From the list, models that has 5% significant coefficients are ARIMA(1,1,2), ARIMA(1,1,3), ARIMA(2,1,1), ARIMA(3,1,1), ARIMA(3,1,2)"
   ]
  },
  {
   "cell_type": "code",
   "execution_count": 60,
   "metadata": {},
   "outputs": [
    {
     "name": "stdout",
     "output_type": "stream",
     "text": [
      "\n",
      " ARIMA(1,1,1) \t LLF: -27604.005025656326 \t AIC: 55214.01005131265\n",
      "\n",
      " ARIMA(1,1,2) \t LLF: -27600.407632540115 \t AIC: 55208.81526508023\n",
      "\n",
      " ARIMA(1,1,3) \t LLF: -27590.72348194531 \t AIC: 55191.44696389062\n",
      "\n",
      " ARIMA(2,1,1) \t LLF: -27600.130551053826 \t AIC: 55208.26110210765\n",
      "\n",
      " ARIMA(3,1,1) \t LLF: -27592.336116474544 \t AIC: 55194.67223294909\n",
      "\n",
      " ARIMA(3,1,2) \t LLF: -27590.920318060118 \t AIC: 55193.840636120236\n"
     ]
    }
   ],
   "source": [
    "print(\"\\n ARIMA(1,1,1) \\t LLF:\", arima_results[\"1_1_1\"].llf, \"\\t AIC:\", arima_results[\"1_1_1\"].aic)\n",
    "print(\"\\n ARIMA(1,1,2) \\t LLF:\", arima_results[\"1_1_2\"].llf, \"\\t AIC:\", arima_results[\"1_1_2\"].aic)\n",
    "print(\"\\n ARIMA(1,1,3) \\t LLF:\", arima_results[\"1_1_3\"].llf, \"\\t AIC:\", arima_results[\"1_1_3\"].aic)\n",
    "print(\"\\n ARIMA(2,1,1) \\t LLF:\", arima_results[\"2_1_1\"].llf, \"\\t AIC:\", arima_results[\"2_1_1\"].aic)\n",
    "print(\"\\n ARIMA(3,1,1) \\t LLF:\", arima_results[\"3_1_1\"].llf, \"\\t AIC:\", arima_results[\"3_1_1\"].aic)\n",
    "print(\"\\n ARIMA(3,1,2) \\t LLF:\", arima_results[\"3_1_2\"].llf, \"\\t AIC:\", arima_results[\"3_1_2\"].aic)"
   ]
  },
  {
   "cell_type": "markdown",
   "metadata": {},
   "source": [
    "ARIMA(1,1,3) shows the highest LLF and the lowest AIC. Since ARIMA(1,1,1) and ARIMMA(1,1,2) are the nested model of ARIMA(1,1,3), we need to run the LLR test to make sure that ARIMA(1,1,3) is significantly different from ARIMA(1,1,1) and ARIMA(1,1,2)."
   ]
  },
  {
   "cell_type": "code",
   "execution_count": 61,
   "metadata": {},
   "outputs": [],
   "source": [
    "def LLR_test(mod1, mod2, df=1):\n",
    "    llf_mod1 = mod1.fit().llf\n",
    "    llf_mod2 = mod2.fit().llf\n",
    "    diff = (2*(llf_mod2- llf_mod1))\n",
    "    p = chi2.sf(diff, df=df).round(3)\n",
    "    return p"
   ]
  },
  {
   "cell_type": "code",
   "execution_count": 62,
   "metadata": {},
   "outputs": [
    {
     "data": {
      "text/plain": [
       "0.0"
      ]
     },
     "execution_count": 62,
     "metadata": {},
     "output_type": "execute_result"
    }
   ],
   "source": [
    "LLR_test(arima_models[\"1_1_2\"], arima_models[\"1_1_3\"])"
   ]
  },
  {
   "cell_type": "code",
   "execution_count": 63,
   "metadata": {},
   "outputs": [
    {
     "name": "stderr",
     "output_type": "stream",
     "text": [
      "D:\\anaconda3\\envs\\time-series-tutorials\\lib\\site-packages\\statsmodels\\tsa\\statespace\\sarimax.py:966: UserWarning: Non-stationary starting autoregressive parameters found. Using zeros as starting parameters.\n",
      "  warn('Non-stationary starting autoregressive parameters'\n",
      "D:\\anaconda3\\envs\\time-series-tutorials\\lib\\site-packages\\statsmodels\\tsa\\statespace\\sarimax.py:978: UserWarning: Non-invertible starting MA parameters found. Using zeros as starting parameters.\n",
      "  warn('Non-invertible starting MA parameters found.'\n"
     ]
    },
    {
     "data": {
      "text/plain": [
       "0.0"
      ]
     },
     "execution_count": 63,
     "metadata": {},
     "output_type": "execute_result"
    }
   ],
   "source": [
    "LLR_test(arima_models[\"1_1_1\"], arima_models[\"1_1_3\"], df=2)"
   ]
  },
  {
   "cell_type": "markdown",
   "metadata": {},
   "source": [
    "From here, we can observe that ARIMA(1,1,3) is significantly better than ARIMA(1,1,1) and ARIMA(1,1,2)."
   ]
  },
  {
   "cell_type": "markdown",
   "metadata": {},
   "source": [
    "Now, we need to perform ACF test on the residuals of ARIMA(1,1,3) to see if they resemble white noise."
   ]
  },
  {
   "cell_type": "code",
   "execution_count": 64,
   "metadata": {},
   "outputs": [
    {
     "data": {
      "image/png": "[encoded data removed]",
      "text/plain": [
       "<Figure size 432x288 with 1 Axes>"
      ]
     },
     "metadata": {
      "needs_background": "light"
     },
     "output_type": "display_data"
    }
   ],
   "source": [
    "sgt.plot_acf(arima_results[\"1_1_3\"].resid, zero=False, lags=40)\n",
    "plt.title(\"ACF for ARIMA(1,1,3)\")\n",
    "plt.show()"
   ]
  },
  {
   "cell_type": "markdown",
   "metadata": {},
   "source": [
    "Note: from tutorial, model ARIMA(5,1,1) shows a better result."
   ]
  },
  {
   "cell_type": "code",
   "execution_count": 65,
   "metadata": {},
   "outputs": [
    {
     "data": {
      "text/html": [
       "<table class=\"simpletable\">\n",
       "<caption>SARIMAX Results</caption>\n",
       "<tr>\n",
       "  <th>Dep. Variable:</th>     <td>market_value</td>   <th>  No. Observations:  </th>    <td>5021</td>   \n",
       "</tr>\n",
       "<tr>\n",
       "  <th>Model:</th>            <td>ARIMA(5, 1, 1)</td>  <th>  Log Likelihood     </th> <td>-27586.845</td>\n",
       "</tr>\n",
       "<tr>\n",
       "  <th>Date:</th>            <td>Wed, 02 Dec 2020</td> <th>  AIC                </th>  <td>55187.689</td>\n",
       "</tr>\n",
       "<tr>\n",
       "  <th>Time:</th>                <td>20:20:26</td>     <th>  BIC                </th>  <td>55233.338</td>\n",
       "</tr>\n",
       "<tr>\n",
       "  <th>Sample:</th>             <td>01-07-1994</td>    <th>  HQIC               </th>  <td>55203.685</td>\n",
       "</tr>\n",
       "<tr>\n",
       "  <th></th>                   <td>- 04-05-2013</td>   <th>                     </th>      <td> </td>    \n",
       "</tr>\n",
       "<tr>\n",
       "  <th>Covariance Type:</th>        <td>opg</td>       <th>                     </th>      <td> </td>    \n",
       "</tr>\n",
       "</table>\n",
       "<table class=\"simpletable\">\n",
       "<tr>\n",
       "     <td></td>       <th>coef</th>     <th>std err</th>      <th>z</th>      <th>P>|z|</th>  <th>[0.025</th>    <th>0.975]</th>  \n",
       "</tr>\n",
       "<tr>\n",
       "  <th>ar.L1</th>  <td>    0.4006</td> <td>    0.153</td> <td>    2.618</td> <td> 0.009</td> <td>    0.101</td> <td>    0.701</td>\n",
       "</tr>\n",
       "<tr>\n",
       "  <th>ar.L2</th>  <td>   -0.0444</td> <td>    0.011</td> <td>   -4.071</td> <td> 0.000</td> <td>   -0.066</td> <td>   -0.023</td>\n",
       "</tr>\n",
       "<tr>\n",
       "  <th>ar.L3</th>  <td>   -0.0542</td> <td>    0.013</td> <td>   -4.226</td> <td> 0.000</td> <td>   -0.079</td> <td>   -0.029</td>\n",
       "</tr>\n",
       "<tr>\n",
       "  <th>ar.L4</th>  <td>    0.0587</td> <td>    0.015</td> <td>    3.914</td> <td> 0.000</td> <td>    0.029</td> <td>    0.088</td>\n",
       "</tr>\n",
       "<tr>\n",
       "  <th>ar.L5</th>  <td>   -0.0580</td> <td>    0.009</td> <td>   -6.337</td> <td> 0.000</td> <td>   -0.076</td> <td>   -0.040</td>\n",
       "</tr>\n",
       "<tr>\n",
       "  <th>ma.L1</th>  <td>   -0.4208</td> <td>    0.153</td> <td>   -2.743</td> <td> 0.006</td> <td>   -0.721</td> <td>   -0.120</td>\n",
       "</tr>\n",
       "<tr>\n",
       "  <th>sigma2</th> <td> 3479.0026</td> <td>   41.909</td> <td>   83.013</td> <td> 0.000</td> <td> 3396.862</td> <td> 3561.143</td>\n",
       "</tr>\n",
       "</table>\n",
       "<table class=\"simpletable\">\n",
       "<tr>\n",
       "  <th>Ljung-Box (L1) (Q):</th>     <td>0.00</td> <th>  Jarque-Bera (JB):  </th> <td>3060.40</td>\n",
       "</tr>\n",
       "<tr>\n",
       "  <th>Prob(Q):</th>                <td>0.95</td> <th>  Prob(JB):          </th>  <td>0.00</td>  \n",
       "</tr>\n",
       "<tr>\n",
       "  <th>Heteroskedasticity (H):</th> <td>1.90</td> <th>  Skew:              </th>  <td>-0.32</td> \n",
       "</tr>\n",
       "<tr>\n",
       "  <th>Prob(H) (two-sided):</th>    <td>0.00</td> <th>  Kurtosis:          </th>  <td>6.77</td>  \n",
       "</tr>\n",
       "</table><br/><br/>Warnings:<br/>[1] Covariance matrix calculated using the outer product of gradients (complex-step)."
      ],
      "text/plain": [
       "<class 'statsmodels.iolib.summary.Summary'>\n",
       "\"\"\"\n",
       "                               SARIMAX Results                                \n",
       "==============================================================================\n",
       "Dep. Variable:           market_value   No. Observations:                 5021\n",
       "Model:                 ARIMA(5, 1, 1)   Log Likelihood              -27586.845\n",
       "Date:                Wed, 02 Dec 2020   AIC                          55187.689\n",
       "Time:                        20:20:26   BIC                          55233.338\n",
       "Sample:                    01-07-1994   HQIC                         55203.685\n",
       "                         - 04-05-2013                                         \n",
       "Covariance Type:                  opg                                         \n",
       "==============================================================================\n",
       "                 coef    std err          z      P>|z|      [0.025      0.975]\n",
       "------------------------------------------------------------------------------\n",
       "ar.L1          0.4006      0.153      2.618      0.009       0.101       0.701\n",
       "ar.L2         -0.0444      0.011     -4.071      0.000      -0.066      -0.023\n",
       "ar.L3         -0.0542      0.013     -4.226      0.000      -0.079      -0.029\n",
       "ar.L4          0.0587      0.015      3.914      0.000       0.029       0.088\n",
       "ar.L5         -0.0580      0.009     -6.337      0.000      -0.076      -0.040\n",
       "ma.L1         -0.4208      0.153     -2.743      0.006      -0.721      -0.120\n",
       "sigma2      3479.0026     41.909     83.013      0.000    3396.862    3561.143\n",
       "===================================================================================\n",
       "Ljung-Box (L1) (Q):                   0.00   Jarque-Bera (JB):              3060.40\n",
       "Prob(Q):                              0.95   Prob(JB):                         0.00\n",
       "Heteroskedasticity (H):               1.90   Skew:                            -0.32\n",
       "Prob(H) (two-sided):                  0.00   Kurtosis:                         6.77\n",
       "===================================================================================\n",
       "\n",
       "Warnings:\n",
       "[1] Covariance matrix calculated using the outer product of gradients (complex-step).\n",
       "\"\"\""
      ]
     },
     "execution_count": 65,
     "metadata": {},
     "output_type": "execute_result"
    }
   ],
   "source": [
    "model_prices_ar_5_i_1_ma_1 = ARIMA(df.market_value, order=(5,1,1))\n",
    "result_prices_ar_5_i_1_ma_1 = model_prices_ar_5_i_1_ma_1.fit()\n",
    "result_prices_ar_5_i_1_ma_1.summary()"
   ]
  },
  {
   "cell_type": "code",
   "execution_count": 66,
   "metadata": {},
   "outputs": [
    {
     "name": "stdout",
     "output_type": "stream",
     "text": [
      "\n",
      " ARIMA(1,1,3) \t LLF: -27590.72348194531 \t AIC: 55191.44696389062\n",
      "\n",
      " ARIMA(5,1,1) \t LLF: -27586.844609581116 \t AIC: 55187.68921916223\n"
     ]
    }
   ],
   "source": [
    "print(\"\\n ARIMA(1,1,3) \\t LLF:\", arima_results[\"1_1_3\"].llf, \"\\t AIC:\", arima_results[\"1_1_3\"].aic)\n",
    "print(\"\\n ARIMA(5,1,1) \\t LLF:\", result_prices_ar_5_i_1_ma_1.llf, \"\\t AIC:\",result_prices_ar_5_i_1_ma_1.aic)"
   ]
  },
  {
   "cell_type": "code",
   "execution_count": 67,
   "metadata": {},
   "outputs": [
    {
     "data": {
      "image/png": "[encoded data removed]",
      "text/plain": [
       "<Figure size 432x288 with 1 Axes>"
      ]
     },
     "metadata": {
      "needs_background": "light"
     },
     "output_type": "display_data"
    }
   ],
   "source": [
    "sgt.plot_acf(result_prices_ar_5_i_1_ma_1.resid, zero=False, lags=40)\n",
    "plt.title(\"ACF for ARIMA(5,1,1)\")\n",
    "plt.show()"
   ]
  },
  {
   "cell_type": "markdown",
   "metadata": {},
   "source": [
    "## Find the I value"
   ]
  },
  {
   "cell_type": "code",
   "execution_count": 68,
   "metadata": {},
   "outputs": [
    {
     "name": "stderr",
     "output_type": "stream",
     "text": [
      "<ipython-input-68-e11d90d50788>:1: SettingWithCopyWarning: \n",
      "A value is trying to be set on a copy of a slice from a DataFrame.\n",
      "Try using .loc[row_indexer,col_indexer] = value instead\n",
      "\n",
      "See the caveats in the documentation: https://pandas.pydata.org/pandas-docs/stable/user_guide/indexing.html#returning-a-view-versus-a-copy\n",
      "  df['delta_price']  = df.market_value.diff(1)\n"
     ]
    }
   ],
   "source": [
    "df['delta_price']  = df.market_value.diff(1)"
   ]
  },
  {
   "cell_type": "code",
   "execution_count": 69,
   "metadata": {},
   "outputs": [
    {
     "name": "stderr",
     "output_type": "stream",
     "text": [
      "D:\\anaconda3\\envs\\time-series-tutorials\\lib\\site-packages\\statsmodels\\tsa\\statespace\\sarimax.py:966: UserWarning: Non-stationary starting autoregressive parameters found. Using zeros as starting parameters.\n",
      "  warn('Non-stationary starting autoregressive parameters'\n",
      "D:\\anaconda3\\envs\\time-series-tutorials\\lib\\site-packages\\statsmodels\\tsa\\statespace\\sarimax.py:978: UserWarning: Non-invertible starting MA parameters found. Using zeros as starting parameters.\n",
      "  warn('Non-invertible starting MA parameters found.'\n"
     ]
    },
    {
     "data": {
      "text/html": [
       "<table class=\"simpletable\">\n",
       "<caption>SARIMAX Results</caption>\n",
       "<tr>\n",
       "  <th>Dep. Variable:</th>      <td>delta_price</td>   <th>  No. Observations:  </th>    <td>5020</td>   \n",
       "</tr>\n",
       "<tr>\n",
       "  <th>Model:</th>            <td>ARIMA(1, 0, 1)</td>  <th>  Log Likelihood     </th> <td>-27603.666</td>\n",
       "</tr>\n",
       "<tr>\n",
       "  <th>Date:</th>            <td>Wed, 02 Dec 2020</td> <th>  AIC                </th>  <td>55215.333</td>\n",
       "</tr>\n",
       "<tr>\n",
       "  <th>Time:</th>                <td>20:20:28</td>     <th>  BIC                </th>  <td>55241.418</td>\n",
       "</tr>\n",
       "<tr>\n",
       "  <th>Sample:</th>             <td>01-10-1994</td>    <th>  HQIC               </th>  <td>55224.473</td>\n",
       "</tr>\n",
       "<tr>\n",
       "  <th></th>                   <td>- 04-05-2013</td>   <th>                     </th>      <td> </td>    \n",
       "</tr>\n",
       "<tr>\n",
       "  <th>Covariance Type:</th>        <td>opg</td>       <th>                     </th>      <td> </td>    \n",
       "</tr>\n",
       "</table>\n",
       "<table class=\"simpletable\">\n",
       "<tr>\n",
       "     <td></td>       <th>coef</th>     <th>std err</th>      <th>z</th>      <th>P>|z|</th>  <th>[0.025</th>    <th>0.975]</th>  \n",
       "</tr>\n",
       "<tr>\n",
       "  <th>const</th>  <td>    0.5639</td> <td>    0.753</td> <td>    0.749</td> <td> 0.454</td> <td>   -0.911</td> <td>    2.039</td>\n",
       "</tr>\n",
       "<tr>\n",
       "  <th>ar.L1</th>  <td>    0.7476</td> <td>    0.059</td> <td>   12.673</td> <td> 0.000</td> <td>    0.632</td> <td>    0.863</td>\n",
       "</tr>\n",
       "<tr>\n",
       "  <th>ma.L1</th>  <td>   -0.7937</td> <td>    0.053</td> <td>  -14.871</td> <td> 0.000</td> <td>   -0.898</td> <td>   -0.689</td>\n",
       "</tr>\n",
       "<tr>\n",
       "  <th>sigma2</th> <td> 3496.6352</td> <td>   41.191</td> <td>   84.888</td> <td> 0.000</td> <td> 3415.902</td> <td> 3577.368</td>\n",
       "</tr>\n",
       "</table>\n",
       "<table class=\"simpletable\">\n",
       "<tr>\n",
       "  <th>Ljung-Box (L1) (Q):</th>     <td>2.64</td> <th>  Jarque-Bera (JB):  </th> <td>3327.38</td>\n",
       "</tr>\n",
       "<tr>\n",
       "  <th>Prob(Q):</th>                <td>0.10</td> <th>  Prob(JB):          </th>  <td>0.00</td>  \n",
       "</tr>\n",
       "<tr>\n",
       "  <th>Heteroskedasticity (H):</th> <td>1.90</td> <th>  Skew:              </th>  <td>-0.32</td> \n",
       "</tr>\n",
       "<tr>\n",
       "  <th>Prob(H) (two-sided):</th>    <td>0.00</td> <th>  Kurtosis:          </th>  <td>6.94</td>  \n",
       "</tr>\n",
       "</table><br/><br/>Warnings:<br/>[1] Covariance matrix calculated using the outer product of gradients (complex-step)."
      ],
      "text/plain": [
       "<class 'statsmodels.iolib.summary.Summary'>\n",
       "\"\"\"\n",
       "                               SARIMAX Results                                \n",
       "==============================================================================\n",
       "Dep. Variable:            delta_price   No. Observations:                 5020\n",
       "Model:                 ARIMA(1, 0, 1)   Log Likelihood              -27603.666\n",
       "Date:                Wed, 02 Dec 2020   AIC                          55215.333\n",
       "Time:                        20:20:28   BIC                          55241.418\n",
       "Sample:                    01-10-1994   HQIC                         55224.473\n",
       "                         - 04-05-2013                                         \n",
       "Covariance Type:                  opg                                         \n",
       "==============================================================================\n",
       "                 coef    std err          z      P>|z|      [0.025      0.975]\n",
       "------------------------------------------------------------------------------\n",
       "const          0.5639      0.753      0.749      0.454      -0.911       2.039\n",
       "ar.L1          0.7476      0.059     12.673      0.000       0.632       0.863\n",
       "ma.L1         -0.7937      0.053    -14.871      0.000      -0.898      -0.689\n",
       "sigma2      3496.6352     41.191     84.888      0.000    3415.902    3577.368\n",
       "===================================================================================\n",
       "Ljung-Box (L1) (Q):                   2.64   Jarque-Bera (JB):              3327.38\n",
       "Prob(Q):                              0.10   Prob(JB):                         0.00\n",
       "Heteroskedasticity (H):               1.90   Skew:                            -0.32\n",
       "Prob(H) (two-sided):                  0.00   Kurtosis:                         6.94\n",
       "===================================================================================\n",
       "\n",
       "Warnings:\n",
       "[1] Covariance matrix calculated using the outer product of gradients (complex-step).\n",
       "\"\"\""
      ]
     },
     "execution_count": 69,
     "metadata": {},
     "output_type": "execute_result"
    }
   ],
   "source": [
    "model_prices_ar_1_i_0_ma_1 = ARIMA(df.delta_price.dropna(), order=(1,0,1))\n",
    "result_prices_ar_1_i_0_ma_1 = model_prices_ar_1_i_0_ma_1.fit()\n",
    "result_prices_ar_1_i_0_ma_1.summary()"
   ]
  },
  {
   "cell_type": "code",
   "execution_count": 70,
   "metadata": {},
   "outputs": [
    {
     "data": {
      "text/html": [
       "<table class=\"simpletable\">\n",
       "<caption>SARIMAX Results</caption>\n",
       "<tr>\n",
       "  <th>Dep. Variable:</th>     <td>market_value</td>   <th>  No. Observations:  </th>    <td>5021</td>   \n",
       "</tr>\n",
       "<tr>\n",
       "  <th>Model:</th>            <td>ARIMA(1, 1, 1)</td>  <th>  Log Likelihood     </th> <td>-27604.005</td>\n",
       "</tr>\n",
       "<tr>\n",
       "  <th>Date:</th>            <td>Wed, 02 Dec 2020</td> <th>  AIC                </th>  <td>55214.010</td>\n",
       "</tr>\n",
       "<tr>\n",
       "  <th>Time:</th>                <td>20:20:28</td>     <th>  BIC                </th>  <td>55233.574</td>\n",
       "</tr>\n",
       "<tr>\n",
       "  <th>Sample:</th>             <td>01-07-1994</td>    <th>  HQIC               </th>  <td>55220.865</td>\n",
       "</tr>\n",
       "<tr>\n",
       "  <th></th>                   <td>- 04-05-2013</td>   <th>                     </th>      <td> </td>    \n",
       "</tr>\n",
       "<tr>\n",
       "  <th>Covariance Type:</th>        <td>opg</td>       <th>                     </th>      <td> </td>    \n",
       "</tr>\n",
       "</table>\n",
       "<table class=\"simpletable\">\n",
       "<tr>\n",
       "     <td></td>       <th>coef</th>     <th>std err</th>      <th>z</th>      <th>P>|z|</th>  <th>[0.025</th>    <th>0.975]</th>  \n",
       "</tr>\n",
       "<tr>\n",
       "  <th>ar.L1</th>  <td>    0.7460</td> <td>    0.059</td> <td>   12.659</td> <td> 0.000</td> <td>    0.631</td> <td>    0.862</td>\n",
       "</tr>\n",
       "<tr>\n",
       "  <th>ma.L1</th>  <td>   -0.7920</td> <td>    0.053</td> <td>  -14.930</td> <td> 0.000</td> <td>   -0.896</td> <td>   -0.688</td>\n",
       "</tr>\n",
       "<tr>\n",
       "  <th>sigma2</th> <td> 3498.4453</td> <td>   40.925</td> <td>   85.484</td> <td> 0.000</td> <td> 3418.233</td> <td> 3578.657</td>\n",
       "</tr>\n",
       "</table>\n",
       "<table class=\"simpletable\">\n",
       "<tr>\n",
       "  <th>Ljung-Box (L1) (Q):</th>     <td>2.62</td> <th>  Jarque-Bera (JB):  </th> <td>3326.29</td>\n",
       "</tr>\n",
       "<tr>\n",
       "  <th>Prob(Q):</th>                <td>0.11</td> <th>  Prob(JB):          </th>  <td>0.00</td>  \n",
       "</tr>\n",
       "<tr>\n",
       "  <th>Heteroskedasticity (H):</th> <td>1.90</td> <th>  Skew:              </th>  <td>-0.32</td> \n",
       "</tr>\n",
       "<tr>\n",
       "  <th>Prob(H) (two-sided):</th>    <td>0.00</td> <th>  Kurtosis:          </th>  <td>6.94</td>  \n",
       "</tr>\n",
       "</table><br/><br/>Warnings:<br/>[1] Covariance matrix calculated using the outer product of gradients (complex-step)."
      ],
      "text/plain": [
       "<class 'statsmodels.iolib.summary.Summary'>\n",
       "\"\"\"\n",
       "                               SARIMAX Results                                \n",
       "==============================================================================\n",
       "Dep. Variable:           market_value   No. Observations:                 5021\n",
       "Model:                 ARIMA(1, 1, 1)   Log Likelihood              -27604.005\n",
       "Date:                Wed, 02 Dec 2020   AIC                          55214.010\n",
       "Time:                        20:20:28   BIC                          55233.574\n",
       "Sample:                    01-07-1994   HQIC                         55220.865\n",
       "                         - 04-05-2013                                         \n",
       "Covariance Type:                  opg                                         \n",
       "==============================================================================\n",
       "                 coef    std err          z      P>|z|      [0.025      0.975]\n",
       "------------------------------------------------------------------------------\n",
       "ar.L1          0.7460      0.059     12.659      0.000       0.631       0.862\n",
       "ma.L1         -0.7920      0.053    -14.930      0.000      -0.896      -0.688\n",
       "sigma2      3498.4453     40.925     85.484      0.000    3418.233    3578.657\n",
       "===================================================================================\n",
       "Ljung-Box (L1) (Q):                   2.62   Jarque-Bera (JB):              3326.29\n",
       "Prob(Q):                              0.11   Prob(JB):                         0.00\n",
       "Heteroskedasticity (H):               1.90   Skew:                            -0.32\n",
       "Prob(H) (two-sided):                  0.00   Kurtosis:                         6.94\n",
       "===================================================================================\n",
       "\n",
       "Warnings:\n",
       "[1] Covariance matrix calculated using the outer product of gradients (complex-step).\n",
       "\"\"\""
      ]
     },
     "execution_count": 70,
     "metadata": {},
     "output_type": "execute_result"
    }
   ],
   "source": [
    "arima_results[\"1_1_1\"].summary()"
   ]
  },
  {
   "cell_type": "markdown",
   "metadata": {},
   "source": [
    "We observe that ARIMA(1,0,1) and ARMA(1,1) shows the similar results."
   ]
  },
  {
   "cell_type": "code",
   "execution_count": 71,
   "metadata": {},
   "outputs": [
    {
     "data": {
      "text/plain": [
       "(-32.244093495707475,\n",
       " 0.0,\n",
       " 5,\n",
       " 5014,\n",
       " {'1%': -3.4316548765428174,\n",
       "  '5%': -2.8621166146845334,\n",
       "  '10%': -2.5670769326348926},\n",
       " 54845.96104221891)"
      ]
     },
     "execution_count": 71,
     "metadata": {},
     "output_type": "execute_result"
    }
   ],
   "source": [
    "sts.adfuller(df.delta_price[1:])"
   ]
  },
  {
   "cell_type": "markdown",
   "metadata": {},
   "source": [
    "ADF tests also shows that differencing of 1 is sufficient to make the data stationary."
   ]
  },
  {
   "cell_type": "markdown",
   "metadata": {},
   "source": [
    "## ARIMAX"
   ]
  },
  {
   "cell_type": "code",
   "execution_count": 74,
   "metadata": {},
   "outputs": [
    {
     "data": {
      "text/html": [
       "<table class=\"simpletable\">\n",
       "<caption>SARIMAX Results</caption>\n",
       "<tr>\n",
       "  <th>Dep. Variable:</th>     <td>market_value</td>   <th>  No. Observations:  </th>    <td>5021</td>   \n",
       "</tr>\n",
       "<tr>\n",
       "  <th>Model:</th>            <td>ARIMA(1, 1, 1)</td>  <th>  Log Likelihood     </th> <td>-26693.392</td>\n",
       "</tr>\n",
       "<tr>\n",
       "  <th>Date:</th>            <td>Wed, 02 Dec 2020</td> <th>  AIC                </th>  <td>53394.784</td>\n",
       "</tr>\n",
       "<tr>\n",
       "  <th>Time:</th>                <td>21:05:17</td>     <th>  BIC                </th>  <td>53420.869</td>\n",
       "</tr>\n",
       "<tr>\n",
       "  <th>Sample:</th>             <td>01-07-1994</td>    <th>  HQIC               </th>  <td>53403.925</td>\n",
       "</tr>\n",
       "<tr>\n",
       "  <th></th>                   <td>- 04-05-2013</td>   <th>                     </th>      <td> </td>    \n",
       "</tr>\n",
       "<tr>\n",
       "  <th>Covariance Type:</th>        <td>opg</td>       <th>                     </th>      <td> </td>    \n",
       "</tr>\n",
       "</table>\n",
       "<table class=\"simpletable\">\n",
       "<tr>\n",
       "     <td></td>       <th>coef</th>     <th>std err</th>      <th>z</th>      <th>P>|z|</th>  <th>[0.025</th>    <th>0.975]</th>  \n",
       "</tr>\n",
       "<tr>\n",
       "  <th>spx</th>    <td>    2.6928</td> <td>    0.035</td> <td>   76.407</td> <td> 0.000</td> <td>    2.624</td> <td>    2.762</td>\n",
       "</tr>\n",
       "<tr>\n",
       "  <th>ar.L1</th>  <td>    0.2571</td> <td>    0.029</td> <td>    8.812</td> <td> 0.000</td> <td>    0.200</td> <td>    0.314</td>\n",
       "</tr>\n",
       "<tr>\n",
       "  <th>ma.L1</th>  <td>   -0.5460</td> <td>    0.025</td> <td>  -21.791</td> <td> 0.000</td> <td>   -0.595</td> <td>   -0.497</td>\n",
       "</tr>\n",
       "<tr>\n",
       "  <th>sigma2</th> <td> 2433.0771</td> <td>   27.350</td> <td>   88.961</td> <td> 0.000</td> <td> 2379.472</td> <td> 2486.682</td>\n",
       "</tr>\n",
       "</table>\n",
       "<table class=\"simpletable\">\n",
       "<tr>\n",
       "  <th>Ljung-Box (L1) (Q):</th>     <td>0.24</td> <th>  Jarque-Bera (JB):  </th> <td>4423.90</td>\n",
       "</tr>\n",
       "<tr>\n",
       "  <th>Prob(Q):</th>                <td>0.62</td> <th>  Prob(JB):          </th>  <td>0.00</td>  \n",
       "</tr>\n",
       "<tr>\n",
       "  <th>Heteroskedasticity (H):</th> <td>1.25</td> <th>  Skew:              </th>  <td>-0.57</td> \n",
       "</tr>\n",
       "<tr>\n",
       "  <th>Prob(H) (two-sided):</th>    <td>0.00</td> <th>  Kurtosis:          </th>  <td>7.45</td>  \n",
       "</tr>\n",
       "</table><br/><br/>Warnings:<br/>[1] Covariance matrix calculated using the outer product of gradients (complex-step)."
      ],
      "text/plain": [
       "<class 'statsmodels.iolib.summary.Summary'>\n",
       "\"\"\"\n",
       "                               SARIMAX Results                                \n",
       "==============================================================================\n",
       "Dep. Variable:           market_value   No. Observations:                 5021\n",
       "Model:                 ARIMA(1, 1, 1)   Log Likelihood              -26693.392\n",
       "Date:                Wed, 02 Dec 2020   AIC                          53394.784\n",
       "Time:                        21:05:17   BIC                          53420.869\n",
       "Sample:                    01-07-1994   HQIC                         53403.925\n",
       "                         - 04-05-2013                                         \n",
       "Covariance Type:                  opg                                         \n",
       "==============================================================================\n",
       "                 coef    std err          z      P>|z|      [0.025      0.975]\n",
       "------------------------------------------------------------------------------\n",
       "spx            2.6928      0.035     76.407      0.000       2.624       2.762\n",
       "ar.L1          0.2571      0.029      8.812      0.000       0.200       0.314\n",
       "ma.L1         -0.5460      0.025    -21.791      0.000      -0.595      -0.497\n",
       "sigma2      2433.0771     27.350     88.961      0.000    2379.472    2486.682\n",
       "===================================================================================\n",
       "Ljung-Box (L1) (Q):                   0.24   Jarque-Bera (JB):              4423.90\n",
       "Prob(Q):                              0.62   Prob(JB):                         0.00\n",
       "Heteroskedasticity (H):               1.25   Skew:                            -0.57\n",
       "Prob(H) (two-sided):                  0.00   Kurtosis:                         7.45\n",
       "===================================================================================\n",
       "\n",
       "Warnings:\n",
       "[1] Covariance matrix calculated using the outer product of gradients (complex-step).\n",
       "\"\"\""
      ]
     },
     "execution_count": 74,
     "metadata": {},
     "output_type": "execute_result"
    }
   ],
   "source": [
    "model_ar_1_i_ma_1_Xspx = ARIMA(df.market_value, exog=df.spx, order=(1,1,1))\n",
    "results_ar_1_i_ma_1_Xspx = model_ar_1_i_ma_1_Xspx.fit()\n",
    "results_ar_1_i_ma_1_Xspx.summary()"
   ]
  },
  {
   "cell_type": "markdown",
   "metadata": {},
   "source": [
    "## SARIMAX"
   ]
  },
  {
   "cell_type": "code",
   "execution_count": 75,
   "metadata": {},
   "outputs": [],
   "source": [
    " from statsmodels.tsa.statespace.sarimax import SARIMAX"
   ]
  },
  {
   "cell_type": "code",
   "execution_count": 77,
   "metadata": {},
   "outputs": [
    {
     "data": {
      "text/html": [
       "<table class=\"simpletable\">\n",
       "<caption>SARIMAX Results</caption>\n",
       "<tr>\n",
       "  <th>Dep. Variable:</th>           <td>market_value</td>          <th>  No. Observations:  </th>    <td>5021</td>   \n",
       "</tr>\n",
       "<tr>\n",
       "  <th>Model:</th>           <td>SARIMAX(1, 1, 1)x(2, 0, 1, 5)</td> <th>  Log Likelihood     </th> <td>-26690.649</td>\n",
       "</tr>\n",
       "<tr>\n",
       "  <th>Date:</th>                  <td>Wed, 02 Dec 2020</td>        <th>  AIC                </th>  <td>53395.298</td>\n",
       "</tr>\n",
       "<tr>\n",
       "  <th>Time:</th>                      <td>21:10:51</td>            <th>  BIC                </th>  <td>53440.946</td>\n",
       "</tr>\n",
       "<tr>\n",
       "  <th>Sample:</th>                   <td>01-07-1994</td>           <th>  HQIC               </th>  <td>53411.293</td>\n",
       "</tr>\n",
       "<tr>\n",
       "  <th></th>                         <td>- 04-05-2013</td>          <th>                     </th>      <td> </td>    \n",
       "</tr>\n",
       "<tr>\n",
       "  <th>Covariance Type:</th>              <td>opg</td>              <th>                     </th>      <td> </td>    \n",
       "</tr>\n",
       "</table>\n",
       "<table class=\"simpletable\">\n",
       "<tr>\n",
       "      <td></td>        <th>coef</th>     <th>std err</th>      <th>z</th>      <th>P>|z|</th>  <th>[0.025</th>    <th>0.975]</th>  \n",
       "</tr>\n",
       "<tr>\n",
       "  <th>spx</th>      <td>    2.6947</td> <td>    0.035</td> <td>   76.380</td> <td> 0.000</td> <td>    2.626</td> <td>    2.764</td>\n",
       "</tr>\n",
       "<tr>\n",
       "  <th>ar.L1</th>    <td>    0.2394</td> <td>    0.030</td> <td>    8.097</td> <td> 0.000</td> <td>    0.181</td> <td>    0.297</td>\n",
       "</tr>\n",
       "<tr>\n",
       "  <th>ma.L1</th>    <td>   -0.5303</td> <td>    0.026</td> <td>  -20.728</td> <td> 0.000</td> <td>   -0.580</td> <td>   -0.480</td>\n",
       "</tr>\n",
       "<tr>\n",
       "  <th>ar.S.L5</th>  <td>    0.5776</td> <td>    0.478</td> <td>    1.208</td> <td> 0.227</td> <td>   -0.360</td> <td>    1.515</td>\n",
       "</tr>\n",
       "<tr>\n",
       "  <th>ar.S.L10</th> <td>    0.0074</td> <td>    0.023</td> <td>    0.324</td> <td> 0.746</td> <td>   -0.037</td> <td>    0.052</td>\n",
       "</tr>\n",
       "<tr>\n",
       "  <th>ma.S.L5</th>  <td>   -0.6085</td> <td>    0.478</td> <td>   -1.272</td> <td> 0.203</td> <td>   -1.546</td> <td>    0.329</td>\n",
       "</tr>\n",
       "<tr>\n",
       "  <th>sigma2</th>   <td> 2430.4433</td> <td>   27.775</td> <td>   87.505</td> <td> 0.000</td> <td> 2376.005</td> <td> 2484.881</td>\n",
       "</tr>\n",
       "</table>\n",
       "<table class=\"simpletable\">\n",
       "<tr>\n",
       "  <th>Ljung-Box (L1) (Q):</th>     <td>0.13</td> <th>  Jarque-Bera (JB):  </th> <td>4297.04</td>\n",
       "</tr>\n",
       "<tr>\n",
       "  <th>Prob(Q):</th>                <td>0.72</td> <th>  Prob(JB):          </th>  <td>0.00</td>  \n",
       "</tr>\n",
       "<tr>\n",
       "  <th>Heteroskedasticity (H):</th> <td>1.25</td> <th>  Skew:              </th>  <td>-0.58</td> \n",
       "</tr>\n",
       "<tr>\n",
       "  <th>Prob(H) (two-sided):</th>    <td>0.00</td> <th>  Kurtosis:          </th>  <td>7.38</td>  \n",
       "</tr>\n",
       "</table><br/><br/>Warnings:<br/>[1] Covariance matrix calculated using the outer product of gradients (complex-step)."
      ],
      "text/plain": [
       "<class 'statsmodels.iolib.summary.Summary'>\n",
       "\"\"\"\n",
       "                                     SARIMAX Results                                     \n",
       "=========================================================================================\n",
       "Dep. Variable:                      market_value   No. Observations:                 5021\n",
       "Model:             SARIMAX(1, 1, 1)x(2, 0, 1, 5)   Log Likelihood              -26690.649\n",
       "Date:                           Wed, 02 Dec 2020   AIC                          53395.298\n",
       "Time:                                   21:10:51   BIC                          53440.946\n",
       "Sample:                               01-07-1994   HQIC                         53411.293\n",
       "                                    - 04-05-2013                                         \n",
       "Covariance Type:                             opg                                         \n",
       "==============================================================================\n",
       "                 coef    std err          z      P>|z|      [0.025      0.975]\n",
       "------------------------------------------------------------------------------\n",
       "spx            2.6947      0.035     76.380      0.000       2.626       2.764\n",
       "ar.L1          0.2394      0.030      8.097      0.000       0.181       0.297\n",
       "ma.L1         -0.5303      0.026    -20.728      0.000      -0.580      -0.480\n",
       "ar.S.L5        0.5776      0.478      1.208      0.227      -0.360       1.515\n",
       "ar.S.L10       0.0074      0.023      0.324      0.746      -0.037       0.052\n",
       "ma.S.L5       -0.6085      0.478     -1.272      0.203      -1.546       0.329\n",
       "sigma2      2430.4433     27.775     87.505      0.000    2376.005    2484.881\n",
       "===================================================================================\n",
       "Ljung-Box (L1) (Q):                   0.13   Jarque-Bera (JB):              4297.04\n",
       "Prob(Q):                              0.72   Prob(JB):                         0.00\n",
       "Heteroskedasticity (H):               1.25   Skew:                            -0.58\n",
       "Prob(H) (two-sided):                  0.00   Kurtosis:                         7.38\n",
       "===================================================================================\n",
       "\n",
       "Warnings:\n",
       "[1] Covariance matrix calculated using the outer product of gradients (complex-step).\n",
       "\"\"\""
      ]
     },
     "execution_count": 77,
     "metadata": {},
     "output_type": "execute_result"
    }
   ],
   "source": [
    "model_sarimax = SARIMAX(df.market_value, exog=df.spx, order=(1,1,1), seasonal_order=(2,0,1,5))\n",
    "result_sarimax = model_sarimax.fit()\n",
    "result_sarimax.summary()"
   ]
  },
  {
   "cell_type": "code",
   "execution_count": 81,
   "metadata": {},
   "outputs": [
    {
     "data": {
      "image/png": "[encoded data removed]",
      "text/plain": [
       "<Figure size 432x288 with 1 Axes>"
      ]
     },
     "metadata": {
      "needs_background": "light"
     },
     "output_type": "display_data"
    }
   ],
   "source": [
    "sgt.plot_acf(result_sarimax.resid, zero=False, lags=40, title=\"ACF of SARIMAX Residuals\")\n",
    "plt.show()"
   ]
  }
 ],
 "metadata": {
  "kernelspec": {
   "display_name": "Python 3",
   "language": "python",
   "name": "python3"
  },
  "language_info": {
   "codemirror_mode": {
    "name": "ipython",
    "version": 3
   },
   "file_extension": ".py",
   "mimetype": "text/x-python",
   "name": "python",
   "nbconvert_exporter": "python",
   "pygments_lexer": "ipython3",
   "version": "3.9.0"
  }
 },
 "nbformat": 4,
 "nbformat_minor": 4
}
